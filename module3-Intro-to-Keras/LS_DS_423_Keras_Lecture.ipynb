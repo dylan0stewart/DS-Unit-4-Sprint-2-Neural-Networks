{
 "cells": [
  {
   "cell_type": "markdown",
   "metadata": {
    "colab_type": "text",
    "id": "HJzTIkYAsLxw"
   },
   "source": [
    "Lambda School Data Science\n",
    "\n",
    "*Unit 4, Sprint 2, Module 3*\n",
    "\n",
    "---"
   ]
  },
  {
   "cell_type": "markdown",
   "metadata": {
    "colab_type": "text",
    "id": "HJzTIkYAsLxw"
   },
   "source": [
    "# Neural Network Frameworks (Prepare)"
   ]
  },
  {
   "cell_type": "markdown",
   "metadata": {
    "colab_type": "text",
    "id": "HJzTIkYAsLxw"
   },
   "source": [
    "## Learning Objectives\n",
    "* <a href=\"#p1\">Part 1</a>: Introduce the Keras Sequential Model API\n",
    "* <a href=\"#p2\">Part 2</a>: Learn How to Select Model Architecture \n",
    "* <a href=\"#p3\">Part 3</a>: Discuss the trade-off between various activation functions\n",
    "\n",
    "## Lets Use Libraries!\n",
    "\n",
    "The objective of the last two days has been to familiarize you with the fundamentals of neural networks: terminology, structure of networks, forward propagation, error/cost functions, backpropagation, epochs, and gradient descent. We have tried to reinforce these topics by requiring to you code some of the simplest neural networks by hand including Perceptrons (single node neural networks) and Multi-Layer Perceptrons also known as Feed-Forward Neural Networks. Continuing to do things by hand would not be the best use of our limited time. You're ready to graduate from doing things by hand and start using some powerful libraries to build cutting-edge predictive models. "
   ]
  },
  {
   "cell_type": "markdown",
   "metadata": {},
   "source": [
    "# Keras Sequential API (Learn)"
   ]
  },
  {
   "cell_type": "markdown",
   "metadata": {
    "toc-hr-collapsed": true
   },
   "source": [
    "## Overview\n",
    "\n",
    "> \"Keras is a high-level neural networks API, written in Python and capable of running on top of TensorFlow, CNTK, or Theano. It was developed with a focus on enabling fast experimentation. Being able to go from idea to result with the least possible delay is key to doing good research. Use Keras if you need a deep learning library that:\n",
    "\n",
    "> Allows for easy and fast prototyping (through user friendliness, modularity, and extensibility).\n",
    "Supports both convolutional networks and recurrent networks, as well as combinations of the two.\n",
    "Runs seamlessly on CPU and GPU.\" "
   ]
  },
  {
   "cell_type": "markdown",
   "metadata": {
    "colab_type": "text",
    "id": "AIJoRBxHy27n"
   },
   "source": [
    "### Keras Perceptron Sample"
   ]
  },
  {
   "cell_type": "code",
   "execution_count": 52,
   "metadata": {},
   "outputs": [],
   "source": [
    "import pandas as pd\n",
    "\n",
    "data = { 'x1': [0,1,0,1],\n",
    "         'x2': [0,0,1,1],\n",
    "         'y':  [1,1,1,0]\n",
    "       }\n",
    "\n",
    "df = pd.DataFrame.from_dict(data).astype('int')\n",
    "X = df[['x1', 'x2']].values\n",
    "y = df['y'].values"
   ]
  },
  {
   "cell_type": "code",
   "execution_count": 53,
   "metadata": {
    "colab": {
     "base_uri": "https://localhost:8080/",
     "height": 5216
    },
    "colab_type": "code",
    "id": "TQxyONqKvFxB",
    "outputId": "12966e66-2297-4f82-85b3-c275a9c38563"
   },
   "outputs": [
    {
     "name": "stdout",
     "output_type": "stream",
     "text": [
      "Train on 4 samples\n",
      "Epoch 1/5\n",
      "4/4 [==============================] - 0s 58ms/sample - loss: 0.7340 - accuracy: 0.5000\n",
      "Epoch 2/5\n",
      "4/4 [==============================] - 0s 250us/sample - loss: 0.7336 - accuracy: 0.7500\n",
      "Epoch 3/5\n",
      "4/4 [==============================] - 0s 752us/sample - loss: 0.7332 - accuracy: 0.7500\n",
      "Epoch 4/5\n",
      "4/4 [==============================] - 0s 498us/sample - loss: 0.7328 - accuracy: 0.7500\n",
      "Epoch 5/5\n",
      "4/4 [==============================] - 0s 249us/sample - loss: 0.7325 - accuracy: 0.7500\n"
     ]
    },
    {
     "data": {
      "text/plain": [
       "<tensorflow.python.keras.callbacks.History at 0x186cc7ecdc8>"
      ]
     },
     "execution_count": 53,
     "metadata": {},
     "output_type": "execute_result"
    }
   ],
   "source": [
    "from tensorflow.keras.models import Sequential\n",
    "from tensorflow.keras.layers import Dense\n",
    "\n",
    "# This is our perceptron from Monday's by-hand: \n",
    "model = Sequential()\n",
    "model.add(Dense(1,input_dim=2, activation='sigmoid'))\n",
    "model.compile(loss='binary_crossentropy', optimizer='adam', metrics=['accuracy'])\n",
    "model.fit(X,y, epochs=5)"
   ]
  },
  {
   "cell_type": "code",
   "execution_count": 54,
   "metadata": {
    "colab": {
     "base_uri": "https://localhost:8080/",
     "height": 69
    },
    "colab_type": "code",
    "id": "Z1wfKUxszPKa",
    "outputId": "0cdacd1d-6e5a-4bbe-fabb-568cd94724be"
   },
   "outputs": [
    {
     "name": "stdout",
     "output_type": "stream",
     "text": [
      "4/4 [==============================] - 0s 13ms/sample - loss: 0.7321 - accuracy: 0.7500\n",
      "accuracy: 75.0\n"
     ]
    }
   ],
   "source": [
    "# evaluate the model\n",
    "scores = model.evaluate(X, y)\n",
    "print(f\"{model.metrics_names[1]}: {scores[1]*100}\")"
   ]
  },
  {
   "cell_type": "markdown",
   "metadata": {
    "toc-hr-collapsed": true
   },
   "source": [
    "## Follow Along\n",
    "\n",
    "In the `Sequential` api model, you specify a model architecture by 'sequentially specifying layers. This type of specification works well for feed forward neural networks in which the data flows in one direction (forward propagation) and the error flows in the opposite direction (backwards propagation). The Keras `Sequential` API follows a standardarized worklow to estimate a 'net: \n",
    "\n",
    "1. Load Data\n",
    "2. Define Model\n",
    "3. Compile Model\n",
    "4. Fit Model\n",
    "5. Evaluate Model\n",
    "\n",
    "You saw these steps in our Keras Perceptron Sample, but let's walk thru each step in detail."
   ]
  },
  {
   "cell_type": "markdown",
   "metadata": {
    "colab_type": "text",
    "id": "Md5D67XwqVAf",
    "toc-hr-collapsed": false
   },
   "source": [
    "### Load Data\n",
    "\n",
    "Our life is going to be easier if our data is already cleaned up and numeric, so lets use this dataset from Jason Brownlee that is already numeric and has no column headers so we'll need to slice off the last column of data to act as our y values."
   ]
  },
  {
   "cell_type": "code",
   "execution_count": 55,
   "metadata": {
    "colab": {
     "base_uri": "https://localhost:8080/",
     "height": 109,
     "resources": {
      "http://localhost:8080/nbextensions/google.colab/files.js": {
       "data": "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",
       "headers": [
        [
         "content-type",
         "application/javascript"
        ]
       ],
       "ok": true,
       "status": 200,
       "status_text": ""
      }
     }
    },
    "colab_type": "code",
    "id": "bn09phMBpY1J",
    "outputId": "1c45fb6a-e3cb-4ec1-fb85-de52b3c60bae"
   },
   "outputs": [],
   "source": [
    "import pandas as pd\n",
    "\n",
    "url =\"https://raw.githubusercontent.com/jbrownlee/Datasets/master/pima-indians-diabetes.data.csv\"\n",
    "\n",
    "dataset = pd.read_csv(url, header=None)"
   ]
  },
  {
   "cell_type": "code",
   "execution_count": 56,
   "metadata": {},
   "outputs": [
    {
     "data": {
      "text/html": [
       "<div>\n",
       "<style scoped>\n",
       "    .dataframe tbody tr th:only-of-type {\n",
       "        vertical-align: middle;\n",
       "    }\n",
       "\n",
       "    .dataframe tbody tr th {\n",
       "        vertical-align: top;\n",
       "    }\n",
       "\n",
       "    .dataframe thead th {\n",
       "        text-align: right;\n",
       "    }\n",
       "</style>\n",
       "<table border=\"1\" class=\"dataframe\">\n",
       "  <thead>\n",
       "    <tr style=\"text-align: right;\">\n",
       "      <th></th>\n",
       "      <th>0</th>\n",
       "      <th>1</th>\n",
       "      <th>2</th>\n",
       "      <th>3</th>\n",
       "      <th>4</th>\n",
       "      <th>5</th>\n",
       "      <th>6</th>\n",
       "      <th>7</th>\n",
       "      <th>8</th>\n",
       "    </tr>\n",
       "  </thead>\n",
       "  <tbody>\n",
       "    <tr>\n",
       "      <th>0</th>\n",
       "      <td>6</td>\n",
       "      <td>148</td>\n",
       "      <td>72</td>\n",
       "      <td>35</td>\n",
       "      <td>0</td>\n",
       "      <td>33.6</td>\n",
       "      <td>0.627</td>\n",
       "      <td>50</td>\n",
       "      <td>1</td>\n",
       "    </tr>\n",
       "    <tr>\n",
       "      <th>1</th>\n",
       "      <td>1</td>\n",
       "      <td>85</td>\n",
       "      <td>66</td>\n",
       "      <td>29</td>\n",
       "      <td>0</td>\n",
       "      <td>26.6</td>\n",
       "      <td>0.351</td>\n",
       "      <td>31</td>\n",
       "      <td>0</td>\n",
       "    </tr>\n",
       "    <tr>\n",
       "      <th>2</th>\n",
       "      <td>8</td>\n",
       "      <td>183</td>\n",
       "      <td>64</td>\n",
       "      <td>0</td>\n",
       "      <td>0</td>\n",
       "      <td>23.3</td>\n",
       "      <td>0.672</td>\n",
       "      <td>32</td>\n",
       "      <td>1</td>\n",
       "    </tr>\n",
       "    <tr>\n",
       "      <th>3</th>\n",
       "      <td>1</td>\n",
       "      <td>89</td>\n",
       "      <td>66</td>\n",
       "      <td>23</td>\n",
       "      <td>94</td>\n",
       "      <td>28.1</td>\n",
       "      <td>0.167</td>\n",
       "      <td>21</td>\n",
       "      <td>0</td>\n",
       "    </tr>\n",
       "    <tr>\n",
       "      <th>4</th>\n",
       "      <td>0</td>\n",
       "      <td>137</td>\n",
       "      <td>40</td>\n",
       "      <td>35</td>\n",
       "      <td>168</td>\n",
       "      <td>43.1</td>\n",
       "      <td>2.288</td>\n",
       "      <td>33</td>\n",
       "      <td>1</td>\n",
       "    </tr>\n",
       "  </tbody>\n",
       "</table>\n",
       "</div>"
      ],
      "text/plain": [
       "   0    1   2   3    4     5      6   7  8\n",
       "0  6  148  72  35    0  33.6  0.627  50  1\n",
       "1  1   85  66  29    0  26.6  0.351  31  0\n",
       "2  8  183  64   0    0  23.3  0.672  32  1\n",
       "3  1   89  66  23   94  28.1  0.167  21  0\n",
       "4  0  137  40  35  168  43.1  2.288  33  1"
      ]
     },
     "execution_count": 56,
     "metadata": {},
     "output_type": "execute_result"
    }
   ],
   "source": [
    "dataset.head()"
   ]
  },
  {
   "cell_type": "code",
   "execution_count": 57,
   "metadata": {
    "colab": {
     "base_uri": "https://localhost:8080/",
     "height": 725
    },
    "colab_type": "code",
    "id": "FKuofD3Pogil",
    "outputId": "16c2f4fa-93c8-491d-b339-9f35f7918621"
   },
   "outputs": [
    {
     "name": "stdout",
     "output_type": "stream",
     "text": [
      "(768, 8)\n",
      "[[  6.    148.     72.    ...  33.6     0.627  50.   ]\n",
      " [  1.     85.     66.    ...  26.6     0.351  31.   ]\n",
      " [  8.    183.     64.    ...  23.3     0.672  32.   ]\n",
      " ...\n",
      " [  5.    121.     72.    ...  26.2     0.245  30.   ]\n",
      " [  1.    126.     60.    ...  30.1     0.349  47.   ]\n",
      " [  1.     93.     70.    ...  30.4     0.315  23.   ]]\n"
     ]
    }
   ],
   "source": [
    "X = dataset.values[:,0:8]\n",
    "print(X.shape)\n",
    "print(X)"
   ]
  },
  {
   "cell_type": "code",
   "execution_count": 58,
   "metadata": {},
   "outputs": [
    {
     "name": "stdout",
     "output_type": "stream",
     "text": [
      "(768,)\n",
      "[1. 0. 1. 0. 1. 0. 1. 0. 1. 1. 0. 1. 0. 1. 1. 1. 1. 1. 0. 1. 0. 0. 1. 1.\n",
      " 1. 1. 1. 0. 0. 0. 0. 1. 0. 0. 0. 0. 0. 1. 1. 1. 0. 0. 0. 1. 0. 1. 0. 0.\n",
      " 1. 0. 0. 0. 0. 1. 0. 0. 1. 0. 0. 0. 0. 1. 0. 0. 1. 0. 1. 0. 0. 0. 1. 0.\n",
      " 1. 0. 0. 0. 0. 0. 1. 0. 0. 0. 0. 0. 1. 0. 0. 0. 1. 0. 0. 0. 0. 1. 0. 0.\n",
      " 0. 0. 0. 1. 1. 0. 0. 0. 0. 0. 0. 0. 0. 1. 1. 1. 0. 0. 1. 1. 1. 0. 0. 0.\n",
      " 1. 0. 0. 0. 1. 1. 0. 0. 1. 1. 1. 1. 1. 0. 0. 0. 0. 0. 0. 0. 0. 0. 0. 1.\n",
      " 0. 0. 0. 0. 0. 0. 0. 0. 1. 0. 1. 1. 0. 0. 0. 1. 0. 0. 0. 0. 1. 1. 0. 0.\n",
      " 0. 0. 1. 1. 0. 0. 0. 1. 0. 1. 0. 1. 0. 0. 0. 0. 0. 1. 1. 1. 1. 1. 0. 0.\n",
      " 1. 1. 0. 1. 0. 1. 1. 1. 0. 0. 0. 0. 0. 0. 1. 1. 0. 1. 0. 0. 0. 1. 1. 1.\n",
      " 1. 0. 1. 1. 1. 1. 0. 0. 0. 0. 0. 1. 0. 0. 1. 1. 0. 0. 0. 1. 1. 1. 1. 0.\n",
      " 0. 0. 1. 1. 0. 1. 0. 0. 0. 0. 0. 0. 0. 0. 1. 1. 0. 0. 0. 1. 0. 1. 0. 0.\n",
      " 1. 0. 1. 0. 0. 1. 1. 0. 0. 0. 0. 0. 1. 0. 0. 0. 1. 0. 0. 1. 1. 0. 0. 1.\n",
      " 0. 0. 0. 1. 1. 1. 0. 0. 1. 0. 1. 0. 1. 1. 0. 1. 0. 0. 1. 0. 1. 1. 0. 0.\n",
      " 1. 0. 1. 0. 0. 1. 0. 1. 0. 1. 1. 1. 0. 0. 1. 0. 1. 0. 0. 0. 1. 0. 0. 0.\n",
      " 0. 1. 1. 1. 0. 0. 0. 0. 0. 0. 0. 0. 0. 1. 0. 0. 0. 0. 0. 1. 1. 1. 0. 1.\n",
      " 1. 0. 0. 1. 0. 0. 1. 0. 0. 1. 1. 0. 0. 0. 0. 1. 0. 0. 1. 0. 0. 0. 0. 0.\n",
      " 0. 0. 1. 1. 1. 0. 0. 1. 0. 0. 1. 0. 0. 1. 0. 1. 1. 0. 1. 0. 1. 0. 1. 0.\n",
      " 1. 1. 0. 0. 0. 0. 1. 1. 0. 1. 0. 1. 0. 0. 0. 0. 1. 1. 0. 1. 0. 1. 0. 0.\n",
      " 0. 0. 0. 1. 0. 0. 0. 0. 1. 0. 0. 1. 1. 1. 0. 0. 1. 0. 0. 1. 0. 0. 0. 1.\n",
      " 0. 0. 1. 0. 0. 0. 0. 0. 0. 0. 0. 0. 1. 0. 0. 0. 0. 0. 0. 0. 1. 0. 0. 0.\n",
      " 1. 0. 0. 0. 1. 1. 0. 0. 0. 0. 0. 0. 0. 1. 0. 0. 0. 0. 1. 0. 0. 0. 1. 0.\n",
      " 0. 0. 1. 0. 0. 0. 1. 0. 0. 0. 0. 1. 1. 0. 0. 0. 0. 0. 0. 1. 0. 0. 0. 0.\n",
      " 0. 0. 0. 0. 0. 0. 0. 1. 0. 0. 0. 1. 1. 1. 1. 0. 0. 1. 1. 0. 0. 0. 0. 0.\n",
      " 0. 0. 0. 0. 0. 0. 0. 0. 1. 1. 0. 0. 0. 0. 0. 0. 0. 1. 0. 0. 0. 0. 0. 0.\n",
      " 0. 1. 0. 1. 1. 0. 0. 0. 1. 0. 1. 0. 1. 0. 1. 0. 1. 0. 0. 1. 0. 0. 1. 0.\n",
      " 0. 0. 0. 1. 1. 0. 1. 0. 0. 0. 0. 1. 1. 0. 1. 0. 0. 0. 1. 1. 0. 0. 0. 0.\n",
      " 0. 0. 0. 0. 0. 0. 1. 0. 0. 0. 0. 1. 0. 0. 1. 0. 0. 0. 1. 0. 0. 0. 1. 1.\n",
      " 1. 0. 0. 0. 0. 0. 0. 1. 0. 0. 0. 1. 0. 1. 1. 1. 1. 0. 1. 1. 0. 0. 0. 0.\n",
      " 0. 0. 0. 1. 1. 0. 1. 0. 0. 1. 0. 1. 0. 0. 0. 0. 0. 1. 0. 1. 0. 1. 0. 1.\n",
      " 1. 0. 0. 0. 0. 1. 1. 0. 0. 0. 1. 0. 1. 1. 0. 0. 1. 0. 0. 1. 1. 0. 0. 1.\n",
      " 0. 0. 1. 0. 0. 0. 0. 0. 0. 0. 1. 1. 1. 0. 0. 0. 0. 0. 0. 1. 1. 0. 0. 1.\n",
      " 0. 0. 1. 0. 1. 1. 1. 0. 0. 1. 1. 1. 0. 1. 0. 1. 0. 1. 0. 0. 0. 0. 1. 0.]\n"
     ]
    }
   ],
   "source": [
    "y = dataset.values[:,-1]\n",
    "print(y.shape)\n",
    "print(y)"
   ]
  },
  {
   "cell_type": "markdown",
   "metadata": {
    "colab_type": "text",
    "id": "o0xMqOyTs5xt"
   },
   "source": [
    "### Define Model"
   ]
  },
  {
   "cell_type": "code",
   "execution_count": 59,
   "metadata": {
    "colab": {},
    "colab_type": "code",
    "id": "Bp9USczrfu6M"
   },
   "outputs": [],
   "source": [
    "from tensorflow.keras.models import Sequential\n",
    "from tensorflow.keras.layers import Dense\n",
    "\n",
    "import numpy as np\n",
    "\n",
    "np.random.seed(812)"
   ]
  },
  {
   "cell_type": "markdown",
   "metadata": {
    "colab_type": "text",
    "id": "wAzHLg27thoN"
   },
   "source": [
    "I'll instantiate my model as a \"sequential\" model. This just means that I'm going to tell Keras what my model's architecture should be one layer at a time."
   ]
  },
  {
   "cell_type": "code",
   "execution_count": 60,
   "metadata": {
    "colab": {},
    "colab_type": "code",
    "id": "DSNsL49Xp6KI"
   },
   "outputs": [],
   "source": [
    "# https://keras.io/getting-started/sequential-model-guide/\n",
    "model = Sequential()"
   ]
  },
  {
   "cell_type": "markdown",
   "metadata": {
    "colab_type": "text",
    "id": "ZCYX6QzJtvpG"
   },
   "source": [
    "Adding a \"Dense\" layer to our model is how we add \"vanilla\" perceptron-based layers to our neural network. These are also called \"fully-connected\" or \"densely-connected\" layers. They're used as a layer type in lots of other Neural Net Architectures but they're not referred to as perceptrons or multi-layer perceptrons very often in those situations even though that's what they are.\n",
    "\n",
    " > [\"Just your regular densely-connected NN layer.\"](https://keras.io/layers/core/)\n",
    " \n",
    " The first argument is how many neurons we want to have in that layer. To create a perceptron model we will just set it to 1. We will tell it that there will be 8 inputs coming into this layer from our dataset and set it to use the sigmoid activation function."
   ]
  },
  {
   "cell_type": "code",
   "execution_count": 61,
   "metadata": {
    "colab": {
     "base_uri": "https://localhost:8080/",
     "height": 89
    },
    "colab_type": "code",
    "id": "GNzOLidxtvFa",
    "outputId": "35b1457d-0189-49f1-aa6d-3ef15b29bd6e"
   },
   "outputs": [],
   "source": [
    "model.add(Dense(1, input_dim=8, activation=\"sigmoid\")) #Relu is valid option. "
   ]
  },
  {
   "cell_type": "markdown",
   "metadata": {
    "colab_type": "text",
    "id": "EnI3jwKMtBL2",
    "toc-hr-collapsed": false
   },
   "source": [
    "### Compile Model\n",
    "Using binary_crossentropy as the loss function here is just telling keras that I'm doing binary classification so that it can use the appropriate loss function accordingly. If we were predicting non-binary categories we might assign something like `categorical_crossentropy`. We're also telling keras that we want it to report model accuracy as our main error metric for each epoch. We will also be able to see the overall accuracy once the model has finished training.\n",
    "\n",
    "#### Adam Optimizer\n",
    "Check out this links for more background on the Adam optimizer and Stohastic Gradient Descent\n",
    "* [Adam Optimization Algorithm](https://machinelearningmastery.com/adam-optimization-algorithm-for-deep-learning/)\n",
    "* [Adam Optimizer - original paper](https://arxiv.org/abs/1412.6980)"
   ]
  },
  {
   "cell_type": "code",
   "execution_count": 62,
   "metadata": {
    "colab": {},
    "colab_type": "code",
    "id": "qp6xwYaqurRO"
   },
   "outputs": [],
   "source": [
    "model.compile(loss='binary_crossentropy', optimizer='adam', metrics=['accuracy'])"
   ]
  },
  {
   "cell_type": "markdown",
   "metadata": {
    "colab_type": "text",
    "id": "5dW8SZ2Ls9SX",
    "toc-hr-collapsed": false
   },
   "source": [
    "### Fit Model\n",
    "\n",
    "Lets train it up! `model.fit()` has a `batch_size` parameter that we can use if we want to do mini-batch epochs, but since this tabular dataset is pretty small we're just going to delete that parameter. Keras' default `batch_size` is `None` so omiting it will tell Keras to do batch epochs."
   ]
  },
  {
   "cell_type": "code",
   "execution_count": 63,
   "metadata": {},
   "outputs": [
    {
     "name": "stdout",
     "output_type": "stream",
     "text": [
      "Train on 768 samples\n",
      "Epoch 1/150\n",
      "768/768 [==============================] - 0s 279us/sample - loss: 70.6642 - accuracy: 0.3477\n",
      "Epoch 2/150\n",
      "768/768 [==============================] - 0s 42us/sample - loss: 65.5551 - accuracy: 0.3477\n",
      "Epoch 3/150\n",
      "768/768 [==============================] - 0s 40us/sample - loss: 60.4134 - accuracy: 0.3477\n",
      "Epoch 4/150\n",
      "768/768 [==============================] - 0s 33us/sample - loss: 55.3356 - accuracy: 0.3490\n",
      "Epoch 5/150\n",
      "768/768 [==============================] - 0s 33us/sample - loss: 50.2359 - accuracy: 0.3490\n",
      "Epoch 6/150\n",
      "768/768 [==============================] - 0s 39us/sample - loss: 45.2298 - accuracy: 0.3490\n",
      "Epoch 7/150\n",
      "768/768 [==============================] - 0s 30us/sample - loss: 40.0723 - accuracy: 0.3490\n",
      "Epoch 8/150\n",
      "768/768 [==============================] - 0s 39us/sample - loss: 35.0567 - accuracy: 0.3503\n",
      "Epoch 9/150\n",
      "768/768 [==============================] - 0s 33us/sample - loss: 29.9718 - accuracy: 0.3529\n",
      "Epoch 10/150\n",
      "768/768 [==============================] - 0s 34us/sample - loss: 25.1771 - accuracy: 0.3581\n",
      "Epoch 11/150\n",
      "768/768 [==============================] - 0s 33us/sample - loss: 20.5387 - accuracy: 0.3724\n",
      "Epoch 12/150\n",
      "768/768 [==============================] - 0s 35us/sample - loss: 16.4774 - accuracy: 0.3841\n",
      "Epoch 13/150\n",
      "768/768 [==============================] - 0s 36us/sample - loss: 13.3479 - accuracy: 0.4062\n",
      "Epoch 14/150\n",
      "768/768 [==============================] - 0s 39us/sample - loss: 11.4589 - accuracy: 0.4219\n",
      "Epoch 15/150\n",
      "768/768 [==============================] - 0s 36us/sample - loss: 10.3382 - accuracy: 0.4362\n",
      "Epoch 16/150\n",
      "768/768 [==============================] - 0s 31us/sample - loss: 9.6603 - accuracy: 0.4688\n",
      "Epoch 17/150\n",
      "768/768 [==============================] - 0s 34us/sample - loss: 9.1744 - accuracy: 0.4779\n",
      "Epoch 18/150\n",
      "768/768 [==============================] - 0s 33us/sample - loss: 8.7853 - accuracy: 0.4870\n",
      "Epoch 19/150\n",
      "768/768 [==============================] - 0s 36us/sample - loss: 8.4598 - accuracy: 0.4883\n",
      "Epoch 20/150\n",
      "768/768 [==============================] - 0s 31us/sample - loss: 8.1677 - accuracy: 0.5000\n",
      "Epoch 21/150\n",
      "768/768 [==============================] - 0s 38us/sample - loss: 7.9005 - accuracy: 0.5104\n",
      "Epoch 22/150\n",
      "768/768 [==============================] - 0s 31us/sample - loss: 7.6617 - accuracy: 0.5104\n",
      "Epoch 23/150\n",
      "768/768 [==============================] - 0s 36us/sample - loss: 7.4511 - accuracy: 0.5182\n",
      "Epoch 24/150\n",
      "768/768 [==============================] - 0s 33us/sample - loss: 7.2660 - accuracy: 0.5247\n",
      "Epoch 25/150\n",
      "768/768 [==============================] - 0s 33us/sample - loss: 7.1004 - accuracy: 0.5273\n",
      "Epoch 26/150\n",
      "768/768 [==============================] - 0s 34us/sample - loss: 6.9601 - accuracy: 0.5339\n",
      "Epoch 27/150\n",
      "768/768 [==============================] - 0s 35us/sample - loss: 6.8383 - accuracy: 0.5378\n",
      "Epoch 28/150\n",
      "768/768 [==============================] - 0s 30us/sample - loss: 6.7307 - accuracy: 0.5391\n",
      "Epoch 29/150\n",
      "768/768 [==============================] - 0s 33us/sample - loss: 6.6388 - accuracy: 0.5443\n",
      "Epoch 30/150\n",
      "768/768 [==============================] - 0s 34us/sample - loss: 6.5526 - accuracy: 0.5482\n",
      "Epoch 31/150\n",
      "768/768 [==============================] - 0s 34us/sample - loss: 6.4806 - accuracy: 0.5456\n",
      "Epoch 32/150\n",
      "768/768 [==============================] - 0s 36us/sample - loss: 6.4032 - accuracy: 0.5482\n",
      "Epoch 33/150\n",
      "768/768 [==============================] - 0s 33us/sample - loss: 6.3407 - accuracy: 0.5456\n",
      "Epoch 34/150\n",
      "768/768 [==============================] - 0s 33us/sample - loss: 6.2624 - accuracy: 0.5443\n",
      "Epoch 35/150\n",
      "768/768 [==============================] - 0s 37us/sample - loss: 6.1991 - accuracy: 0.5456\n",
      "Epoch 36/150\n",
      "768/768 [==============================] - 0s 35us/sample - loss: 6.1375 - accuracy: 0.5482\n",
      "Epoch 37/150\n",
      "768/768 [==============================] - 0s 35us/sample - loss: 6.0752 - accuracy: 0.5469\n",
      "Epoch 38/150\n",
      "768/768 [==============================] - 0s 36us/sample - loss: 6.0144 - accuracy: 0.5456\n",
      "Epoch 39/150\n",
      "768/768 [==============================] - 0s 40us/sample - loss: 5.9539 - accuracy: 0.5443\n",
      "Epoch 40/150\n",
      "768/768 [==============================] - 0s 31us/sample - loss: 5.8874 - accuracy: 0.5430\n",
      "Epoch 41/150\n",
      "768/768 [==============================] - 0s 31us/sample - loss: 5.8313 - accuracy: 0.5430\n",
      "Epoch 42/150\n",
      "768/768 [==============================] - 0s 30us/sample - loss: 5.7684 - accuracy: 0.5417\n",
      "Epoch 43/150\n",
      "768/768 [==============================] - 0s 35us/sample - loss: 5.7054 - accuracy: 0.5430\n",
      "Epoch 44/150\n",
      "768/768 [==============================] - 0s 35us/sample - loss: 5.6422 - accuracy: 0.5443\n",
      "Epoch 45/150\n",
      "768/768 [==============================] - 0s 35us/sample - loss: 5.5800 - accuracy: 0.5417\n",
      "Epoch 46/150\n",
      "768/768 [==============================] - 0s 31us/sample - loss: 5.5185 - accuracy: 0.5404\n",
      "Epoch 47/150\n",
      "768/768 [==============================] - 0s 33us/sample - loss: 5.4518 - accuracy: 0.5404\n",
      "Epoch 48/150\n",
      "768/768 [==============================] - 0s 34us/sample - loss: 5.3900 - accuracy: 0.5404\n",
      "Epoch 49/150\n",
      "768/768 [==============================] - 0s 35us/sample - loss: 5.3412 - accuracy: 0.5430\n",
      "Epoch 50/150\n",
      "768/768 [==============================] - 0s 34us/sample - loss: 5.2642 - accuracy: 0.5443\n",
      "Epoch 51/150\n",
      "768/768 [==============================] - 0s 31us/sample - loss: 5.2005 - accuracy: 0.5443\n",
      "Epoch 52/150\n",
      "768/768 [==============================] - 0s 34us/sample - loss: 5.1477 - accuracy: 0.5508\n",
      "Epoch 53/150\n",
      "768/768 [==============================] - 0s 33us/sample - loss: 5.0695 - accuracy: 0.5482\n",
      "Epoch 54/150\n",
      "768/768 [==============================] - 0s 35us/sample - loss: 5.0020 - accuracy: 0.5508\n",
      "Epoch 55/150\n",
      "768/768 [==============================] - 0s 30us/sample - loss: 4.9384 - accuracy: 0.5521\n",
      "Epoch 56/150\n",
      "768/768 [==============================] - 0s 34us/sample - loss: 4.8692 - accuracy: 0.5508\n",
      "Epoch 57/150\n",
      "768/768 [==============================] - 0s 33us/sample - loss: 4.8135 - accuracy: 0.5521\n",
      "Epoch 58/150\n",
      "768/768 [==============================] - 0s 34us/sample - loss: 4.7390 - accuracy: 0.5534\n",
      "Epoch 59/150\n",
      "768/768 [==============================] - 0s 33us/sample - loss: 4.6696 - accuracy: 0.5521\n",
      "Epoch 60/150\n",
      "768/768 [==============================] - 0s 34us/sample - loss: 4.6041 - accuracy: 0.5534\n",
      "Epoch 61/150\n",
      "768/768 [==============================] - 0s 35us/sample - loss: 4.5387 - accuracy: 0.5534\n",
      "Epoch 62/150\n",
      "768/768 [==============================] - 0s 35us/sample - loss: 4.4658 - accuracy: 0.5508\n",
      "Epoch 63/150\n",
      "768/768 [==============================] - 0s 35us/sample - loss: 4.4000 - accuracy: 0.5521\n",
      "Epoch 64/150\n",
      "768/768 [==============================] - 0s 34us/sample - loss: 4.3384 - accuracy: 0.5521\n",
      "Epoch 65/150\n",
      "768/768 [==============================] - 0s 35us/sample - loss: 4.2659 - accuracy: 0.5534\n",
      "Epoch 66/150\n",
      "768/768 [==============================] - 0s 33us/sample - loss: 4.1892 - accuracy: 0.5521\n",
      "Epoch 67/150\n",
      "768/768 [==============================] - 0s 34us/sample - loss: 4.1298 - accuracy: 0.5508\n",
      "Epoch 68/150\n",
      "768/768 [==============================] - 0s 34us/sample - loss: 4.0604 - accuracy: 0.5521\n",
      "Epoch 69/150\n",
      "768/768 [==============================] - 0s 35us/sample - loss: 3.9855 - accuracy: 0.5534\n",
      "Epoch 70/150\n",
      "768/768 [==============================] - 0s 33us/sample - loss: 3.9184 - accuracy: 0.5534\n",
      "Epoch 71/150\n",
      "768/768 [==============================] - 0s 36us/sample - loss: 3.8484 - accuracy: 0.5521\n",
      "Epoch 72/150\n",
      "768/768 [==============================] - 0s 35us/sample - loss: 3.7780 - accuracy: 0.5495\n",
      "Epoch 73/150\n",
      "768/768 [==============================] - 0s 31us/sample - loss: 3.7072 - accuracy: 0.5482\n",
      "Epoch 74/150\n",
      "768/768 [==============================] - 0s 34us/sample - loss: 3.6376 - accuracy: 0.5560\n",
      "Epoch 75/150\n",
      "768/768 [==============================] - 0s 35us/sample - loss: 3.5828 - accuracy: 0.5456\n",
      "Epoch 76/150\n",
      "768/768 [==============================] - 0s 31us/sample - loss: 3.5002 - accuracy: 0.5547\n",
      "Epoch 77/150\n",
      "768/768 [==============================] - 0s 34us/sample - loss: 3.4322 - accuracy: 0.5560\n",
      "Epoch 78/150\n",
      "768/768 [==============================] - 0s 39us/sample - loss: 3.3633 - accuracy: 0.5508\n",
      "Epoch 79/150\n",
      "768/768 [==============================] - 0s 33us/sample - loss: 3.2902 - accuracy: 0.5560\n",
      "Epoch 80/150\n",
      "768/768 [==============================] - 0s 33us/sample - loss: 3.2215 - accuracy: 0.5560\n",
      "Epoch 81/150\n",
      "768/768 [==============================] - 0s 33us/sample - loss: 3.1581 - accuracy: 0.5560\n",
      "Epoch 82/150\n",
      "768/768 [==============================] - 0s 33us/sample - loss: 3.0871 - accuracy: 0.5586\n",
      "Epoch 83/150\n",
      "768/768 [==============================] - 0s 33us/sample - loss: 3.0160 - accuracy: 0.5612\n",
      "Epoch 84/150\n",
      "768/768 [==============================] - 0s 34us/sample - loss: 2.9470 - accuracy: 0.5625\n",
      "Epoch 85/150\n",
      "768/768 [==============================] - 0s 34us/sample - loss: 2.8816 - accuracy: 0.5586\n",
      "Epoch 86/150\n",
      "768/768 [==============================] - 0s 36us/sample - loss: 2.8311 - accuracy: 0.5612\n",
      "Epoch 87/150\n",
      "768/768 [==============================] - 0s 35us/sample - loss: 2.7565 - accuracy: 0.5651\n",
      "Epoch 88/150\n",
      "768/768 [==============================] - 0s 35us/sample - loss: 2.6908 - accuracy: 0.5573\n",
      "Epoch 89/150\n",
      "768/768 [==============================] - 0s 36us/sample - loss: 2.6157 - accuracy: 0.5625\n",
      "Epoch 90/150\n",
      "768/768 [==============================] - 0s 38us/sample - loss: 2.5525 - accuracy: 0.5534\n",
      "Epoch 91/150\n",
      "768/768 [==============================] - 0s 33us/sample - loss: 2.4869 - accuracy: 0.5612\n",
      "Epoch 92/150\n",
      "768/768 [==============================] - 0s 34us/sample - loss: 2.4297 - accuracy: 0.5586\n",
      "Epoch 93/150\n",
      "768/768 [==============================] - 0s 35us/sample - loss: 2.3554 - accuracy: 0.5586\n",
      "Epoch 94/150\n",
      "768/768 [==============================] - 0s 35us/sample - loss: 2.2971 - accuracy: 0.5651\n",
      "Epoch 95/150\n",
      "768/768 [==============================] - 0s 34us/sample - loss: 2.2345 - accuracy: 0.5651\n",
      "Epoch 96/150\n",
      "768/768 [==============================] - 0s 35us/sample - loss: 2.1710 - accuracy: 0.5586\n",
      "Epoch 97/150\n",
      "768/768 [==============================] - 0s 30us/sample - loss: 2.1121 - accuracy: 0.5612\n",
      "Epoch 98/150\n",
      "768/768 [==============================] - 0s 35us/sample - loss: 2.0531 - accuracy: 0.5625\n",
      "Epoch 99/150\n",
      "768/768 [==============================] - 0s 31us/sample - loss: 1.9945 - accuracy: 0.5573\n",
      "Epoch 100/150\n",
      "768/768 [==============================] - 0s 33us/sample - loss: 1.9306 - accuracy: 0.5677\n",
      "Epoch 101/150\n",
      "768/768 [==============================] - 0s 34us/sample - loss: 1.8704 - accuracy: 0.5690\n",
      "Epoch 102/150\n",
      "768/768 [==============================] - 0s 35us/sample - loss: 1.8248 - accuracy: 0.5638\n",
      "Epoch 103/150\n",
      "768/768 [==============================] - 0s 38us/sample - loss: 1.7641 - accuracy: 0.5599\n",
      "Epoch 104/150\n",
      "768/768 [==============================] - 0s 31us/sample - loss: 1.7118 - accuracy: 0.5703\n",
      "Epoch 105/150\n",
      "768/768 [==============================] - 0s 35us/sample - loss: 1.6548 - accuracy: 0.5664\n",
      "Epoch 106/150\n",
      "768/768 [==============================] - 0s 34us/sample - loss: 1.6184 - accuracy: 0.5664\n",
      "Epoch 107/150\n",
      "768/768 [==============================] - 0s 34us/sample - loss: 1.5515 - accuracy: 0.5938\n",
      "Epoch 108/150\n",
      "768/768 [==============================] - 0s 33us/sample - loss: 1.4980 - accuracy: 0.5768\n",
      "Epoch 109/150\n",
      "768/768 [==============================] - 0s 35us/sample - loss: 1.4515 - accuracy: 0.5872\n",
      "Epoch 110/150\n",
      "768/768 [==============================] - 0s 31us/sample - loss: 1.4026 - accuracy: 0.5964\n",
      "Epoch 111/150\n",
      "768/768 [==============================] - 0s 35us/sample - loss: 1.3611 - accuracy: 0.5911\n",
      "Epoch 112/150\n",
      "768/768 [==============================] - 0s 33us/sample - loss: 1.3148 - accuracy: 0.6042\n",
      "Epoch 113/150\n",
      "768/768 [==============================] - 0s 35us/sample - loss: 1.2704 - accuracy: 0.5964\n",
      "Epoch 114/150\n",
      "768/768 [==============================] - 0s 35us/sample - loss: 1.2279 - accuracy: 0.6003\n",
      "Epoch 115/150\n",
      "768/768 [==============================] - 0s 38us/sample - loss: 1.1915 - accuracy: 0.6003\n",
      "Epoch 116/150\n",
      "768/768 [==============================] - 0s 36us/sample - loss: 1.1505 - accuracy: 0.6068\n",
      "Epoch 117/150\n",
      "768/768 [==============================] - 0s 34us/sample - loss: 1.1160 - accuracy: 0.6185\n",
      "Epoch 118/150\n",
      "768/768 [==============================] - 0s 33us/sample - loss: 1.0831 - accuracy: 0.6107\n",
      "Epoch 119/150\n",
      "768/768 [==============================] - 0s 35us/sample - loss: 1.0532 - accuracy: 0.6159\n",
      "Epoch 120/150\n",
      "768/768 [==============================] - 0s 38us/sample - loss: 1.0220 - accuracy: 0.6172\n",
      "Epoch 121/150\n",
      "768/768 [==============================] - 0s 36us/sample - loss: 0.9996 - accuracy: 0.6029\n",
      "Epoch 122/150\n",
      "768/768 [==============================] - 0s 36us/sample - loss: 0.9686 - accuracy: 0.6406\n",
      "Epoch 123/150\n",
      "768/768 [==============================] - 0s 34us/sample - loss: 0.9412 - accuracy: 0.6237\n",
      "Epoch 124/150\n",
      "768/768 [==============================] - 0s 35us/sample - loss: 0.9099 - accuracy: 0.6289\n",
      "Epoch 125/150\n",
      "768/768 [==============================] - 0s 34us/sample - loss: 0.8891 - accuracy: 0.6341\n",
      "Epoch 126/150\n",
      "768/768 [==============================] - 0s 36us/sample - loss: 0.8675 - accuracy: 0.6445\n",
      "Epoch 127/150\n",
      "768/768 [==============================] - 0s 36us/sample - loss: 0.8493 - accuracy: 0.6354\n",
      "Epoch 128/150\n",
      "768/768 [==============================] - 0s 33us/sample - loss: 0.8319 - accuracy: 0.6328\n",
      "Epoch 129/150\n",
      "768/768 [==============================] - 0s 31us/sample - loss: 0.8099 - accuracy: 0.6484\n",
      "Epoch 130/150\n",
      "768/768 [==============================] - 0s 35us/sample - loss: 0.7950 - accuracy: 0.6458\n",
      "Epoch 131/150\n",
      "768/768 [==============================] - 0s 36us/sample - loss: 0.7855 - accuracy: 0.6602\n",
      "Epoch 132/150\n",
      "768/768 [==============================] - 0s 31us/sample - loss: 0.7725 - accuracy: 0.6576\n",
      "Epoch 133/150\n",
      "768/768 [==============================] - 0s 34us/sample - loss: 0.7789 - accuracy: 0.6549\n",
      "Epoch 134/150\n",
      "768/768 [==============================] - 0s 35us/sample - loss: 0.7581 - accuracy: 0.6628\n",
      "Epoch 135/150\n",
      "768/768 [==============================] - 0s 40us/sample - loss: 0.7363 - accuracy: 0.6680\n",
      "Epoch 136/150\n",
      "768/768 [==============================] - 0s 35us/sample - loss: 0.7267 - accuracy: 0.6784\n",
      "Epoch 137/150\n",
      "768/768 [==============================] - 0s 36us/sample - loss: 0.7125 - accuracy: 0.6693\n",
      "Epoch 138/150\n",
      "768/768 [==============================] - 0s 34us/sample - loss: 0.7108 - accuracy: 0.6732\n",
      "Epoch 139/150\n",
      "768/768 [==============================] - 0s 34us/sample - loss: 0.6994 - accuracy: 0.6953\n",
      "Epoch 140/150\n",
      "768/768 [==============================] - 0s 36us/sample - loss: 0.6897 - accuracy: 0.6836\n",
      "Epoch 141/150\n",
      "768/768 [==============================] - 0s 35us/sample - loss: 0.6827 - accuracy: 0.6862\n",
      "Epoch 142/150\n",
      "768/768 [==============================] - 0s 35us/sample - loss: 0.6805 - accuracy: 0.6836\n",
      "Epoch 143/150\n",
      "768/768 [==============================] - 0s 35us/sample - loss: 0.6698 - accuracy: 0.6953\n",
      "Epoch 144/150\n",
      "768/768 [==============================] - 0s 35us/sample - loss: 0.6648 - accuracy: 0.7044\n",
      "Epoch 145/150\n",
      "768/768 [==============================] - 0s 33us/sample - loss: 0.6597 - accuracy: 0.7018\n",
      "Epoch 146/150\n",
      "768/768 [==============================] - 0s 39us/sample - loss: 0.6519 - accuracy: 0.6979\n",
      "Epoch 147/150\n",
      "768/768 [==============================] - 0s 35us/sample - loss: 0.6467 - accuracy: 0.7057\n",
      "Epoch 148/150\n",
      "768/768 [==============================] - 0s 36us/sample - loss: 0.6411 - accuracy: 0.6992\n",
      "Epoch 149/150\n",
      "768/768 [==============================] - 0s 34us/sample - loss: 0.6400 - accuracy: 0.7018\n",
      "Epoch 150/150\n",
      "768/768 [==============================] - 0s 35us/sample - loss: 0.6367 - accuracy: 0.7122\n"
     ]
    },
    {
     "data": {
      "text/plain": [
       "<tensorflow.python.keras.callbacks.History at 0x186cc8df2c8>"
      ]
     },
     "execution_count": 63,
     "metadata": {},
     "output_type": "execute_result"
    }
   ],
   "source": [
    "model.fit(X, y, epochs=150)"
   ]
  },
  {
   "cell_type": "code",
   "execution_count": 64,
   "metadata": {},
   "outputs": [
    {
     "data": {
      "text/plain": [
       "(768,)"
      ]
     },
     "execution_count": 64,
     "metadata": {},
     "output_type": "execute_result"
    }
   ],
   "source": [
    "y.shape"
   ]
  },
  {
   "cell_type": "markdown",
   "metadata": {},
   "source": [
    "### Evaluate Model"
   ]
  },
  {
   "cell_type": "code",
   "execution_count": 65,
   "metadata": {},
   "outputs": [
    {
     "data": {
      "text/plain": [
       "array([1., 0., 1., 0., 1., 0., 1., 0., 1., 1., 0., 1., 0., 1., 1., 1., 1.,\n",
       "       1., 0., 1., 0., 0., 1., 1., 1., 1., 1., 0., 0., 0., 0., 1., 0., 0.,\n",
       "       0., 0., 0., 1., 1., 1., 0., 0., 0., 1., 0., 1., 0., 0., 1., 0.])"
      ]
     },
     "execution_count": 65,
     "metadata": {},
     "output_type": "execute_result"
    }
   ],
   "source": [
    "y[:50]"
   ]
  },
  {
   "cell_type": "code",
   "execution_count": 66,
   "metadata": {},
   "outputs": [
    {
     "data": {
      "text/plain": [
       "0.3489583333333333"
      ]
     },
     "execution_count": 66,
     "metadata": {},
     "output_type": "execute_result"
    }
   ],
   "source": [
    "# Predicting never diabetes\n",
    "sum(y) / len(y) "
   ]
  },
  {
   "cell_type": "code",
   "execution_count": 67,
   "metadata": {},
   "outputs": [
    {
     "name": "stdout",
     "output_type": "stream",
     "text": [
      "768/768 [==============================] - 0s 92us/sample - loss: 0.6278 - accuracy: 0.7044\n",
      "accuracy: 70.44270634651184\n"
     ]
    }
   ],
   "source": [
    "scores = model.evaluate(X,y)\n",
    "print(f\"{model.metrics_names[1]}: {scores[1]*100}\")"
   ]
  },
  {
   "cell_type": "markdown",
   "metadata": {
    "colab_type": "text",
    "id": "zHYB7k9q3O8T"
   },
   "source": [
    "### Unstable Results\n",
    "\n",
    "You'll notice that if we rerun the results might differ from the origin run. This can be explain by a bunch of factors. Check out some of them in this article: \n",
    "\n",
    "<https://machinelearningmastery.com/randomness-in-machine-learning/>"
   ]
  },
  {
   "cell_type": "markdown",
   "metadata": {},
   "source": [
    "## Challenge\n",
    "\n",
    "You will be expected to leverage the Keras `Sequential`api to estimate a feed forward neural networks on a dataset."
   ]
  },
  {
   "cell_type": "markdown",
   "metadata": {
    "colab_type": "text",
    "id": "ueDVpctAzvy8"
   },
   "source": [
    "# Choosing Architecture (Learn)"
   ]
  },
  {
   "cell_type": "markdown",
   "metadata": {},
   "source": [
    "## Overview\n",
    "\n",
    "Choosing an architecture for a neural network is almost more an art than a science. Let's do a few experiments:"
   ]
  },
  {
   "cell_type": "markdown",
   "metadata": {},
   "source": [
    "## Follow Along"
   ]
  },
  {
   "cell_type": "code",
   "execution_count": 68,
   "metadata": {
    "colab": {},
    "colab_type": "code",
    "id": "6W2Sc7-LzQo_"
   },
   "outputs": [
    {
     "name": "stdout",
     "output_type": "stream",
     "text": [
      "Model: \"3LayerJunk\"\n",
      "_________________________________________________________________\n",
      "Layer (type)                 Output Shape              Param #   \n",
      "=================================================================\n",
      "Dense1 (Dense)               (None, 4)                 36        \n",
      "_________________________________________________________________\n",
      "dense_56 (Dense)             (None, 3)                 15        \n",
      "_________________________________________________________________\n",
      "dense_57 (Dense)             (None, 1)                 4         \n",
      "=================================================================\n",
      "Total params: 55\n",
      "Trainable params: 55\n",
      "Non-trainable params: 0\n",
      "_________________________________________________________________\n"
     ]
    }
   ],
   "source": [
    "# Tell me your ideas\n",
    "\n",
    "model_improved = Sequential(name=\"3LayerJunk\")\n",
    "\n",
    "model_improved.add(Dense(4, input_dim=8, activation='relu', name=\"Dense1\"))\n",
    "model_improved.add(Dense(3, activation='sigmoid'))\n",
    "model_improved.add(Dense(1, activation='sigmoid'))\n",
    "\n",
    "model_improved.compile(loss='binary_crossentropy', optimizer='adam',\n",
    "              metrics=['accuracy'])\n",
    "\n",
    "# Let's inspect our new architecture\n",
    "model_improved.summary()"
   ]
  },
  {
   "cell_type": "code",
   "execution_count": 69,
   "metadata": {},
   "outputs": [
    {
     "data": {
      "text/plain": [
       "<tensorflow.python.keras.callbacks.History at 0x186ccaaf508>"
      ]
     },
     "execution_count": 69,
     "metadata": {},
     "output_type": "execute_result"
    }
   ],
   "source": [
    "model_improved.fit(X, y, epochs=150, verbose=False) # What parameters can I specify here?"
   ]
  },
  {
   "cell_type": "code",
   "execution_count": 70,
   "metadata": {},
   "outputs": [
    {
     "name": "stdout",
     "output_type": "stream",
     "text": [
      "768/768 [==============================] - 0s 95us/sample - loss: 0.6468 - accuracy: 0.6510\n",
      "accuracy: 65.10416865348816\n"
     ]
    }
   ],
   "source": [
    "scores = model_improved.evaluate(X,y)\n",
    "print(f\"{model_improved.metrics_names[1]}: {scores[1]*100}\")"
   ]
  },
  {
   "cell_type": "markdown",
   "metadata": {},
   "source": [
    "### Experiment with 1 Additional Layer & Change Activation F(x)s"
   ]
  },
  {
   "cell_type": "code",
   "execution_count": 71,
   "metadata": {},
   "outputs": [
    {
     "name": "stdout",
     "output_type": "stream",
     "text": [
      "Model: \"4LayerJunk\"\n",
      "_________________________________________________________________\n",
      "Layer (type)                 Output Shape              Param #   \n",
      "=================================================================\n",
      "Dense1 (Dense)               (None, 4)                 36        \n",
      "_________________________________________________________________\n",
      "dense_58 (Dense)             (None, 3)                 15        \n",
      "_________________________________________________________________\n",
      "dense_59 (Dense)             (None, 3)                 12        \n",
      "_________________________________________________________________\n",
      "dense_60 (Dense)             (None, 1)                 4         \n",
      "=================================================================\n",
      "Total params: 67\n",
      "Trainable params: 67\n",
      "Non-trainable params: 0\n",
      "_________________________________________________________________\n"
     ]
    }
   ],
   "source": [
    "# Tell me your ideas\n",
    "\n",
    "model_improved = Sequential(name=\"4LayerJunk\")\n",
    "\n",
    "model_improved.add(Dense(4, input_dim=8, activation='relu', name=\"Dense1\"))\n",
    "model_improved.add(Dense(3, activation='relu'))\n",
    "model_improved.add(Dense(3, activation='relu'))\n",
    "model_improved.add(Dense(1, activation='sigmoid'))\n",
    "\n",
    "model_improved.compile(loss='binary_crossentropy', optimizer='adam',\n",
    "              metrics=['accuracy'])\n",
    "\n",
    "# Let's inspect our new architecture\n",
    "model_improved.summary()"
   ]
  },
  {
   "cell_type": "code",
   "execution_count": 72,
   "metadata": {},
   "outputs": [
    {
     "data": {
      "text/plain": [
       "<tensorflow.python.keras.callbacks.History at 0x186cdc04c88>"
      ]
     },
     "execution_count": 72,
     "metadata": {},
     "output_type": "execute_result"
    }
   ],
   "source": [
    "model_improved.fit(X,y, epochs=250, verbose=False)"
   ]
  },
  {
   "cell_type": "code",
   "execution_count": 73,
   "metadata": {},
   "outputs": [
    {
     "name": "stdout",
     "output_type": "stream",
     "text": [
      "768/768 [==============================] - 0s 99us/sample - loss: 0.6468 - accuracy: 0.6510\n"
     ]
    },
    {
     "data": {
      "text/plain": [
       "[0.6467994749546051, 0.6510417]"
      ]
     },
     "execution_count": 73,
     "metadata": {},
     "output_type": "execute_result"
    }
   ],
   "source": [
    "model_improved.evaluate(X,y)\n",
    "#print(f\"{model_improved.metrics_names[1]}: {scores[1]*100}\")"
   ]
  },
  {
   "cell_type": "markdown",
   "metadata": {},
   "source": [
    "### New Experiment with Identical Neuron Numbers"
   ]
  },
  {
   "cell_type": "code",
   "execution_count": 74,
   "metadata": {},
   "outputs": [
    {
     "name": "stdout",
     "output_type": "stream",
     "text": [
      "Model: \"EvenNuerons4LayerJunk\"\n",
      "_________________________________________________________________\n",
      "Layer (type)                 Output Shape              Param #   \n",
      "=================================================================\n",
      "Dense1 (Dense)               (None, 8)                 72        \n",
      "_________________________________________________________________\n",
      "dense_61 (Dense)             (None, 8)                 72        \n",
      "_________________________________________________________________\n",
      "dense_62 (Dense)             (None, 8)                 72        \n",
      "_________________________________________________________________\n",
      "dense_63 (Dense)             (None, 1)                 9         \n",
      "=================================================================\n",
      "Total params: 225\n",
      "Trainable params: 225\n",
      "Non-trainable params: 0\n",
      "_________________________________________________________________\n"
     ]
    }
   ],
   "source": [
    "# Tell me your ideas\n",
    "\n",
    "model_improved = Sequential(name=\"EvenNuerons4LayerJunk\")\n",
    "\n",
    "model_improved.add(Dense(8, input_dim=8, activation='relu', name=\"Dense1\"))\n",
    "model_improved.add(Dense(8, activation='relu'))\n",
    "model_improved.add(Dense(8, activation='relu'))\n",
    "model_improved.add(Dense(1, activation='sigmoid'))\n",
    "\n",
    "model_improved.compile(loss='binary_crossentropy', optimizer='adam',\n",
    "              metrics=['accuracy'])\n",
    "\n",
    "# Let's inspect our new architecture\n",
    "model_improved.summary()"
   ]
  },
  {
   "cell_type": "code",
   "execution_count": 75,
   "metadata": {},
   "outputs": [
    {
     "data": {
      "text/plain": [
       "<tensorflow.python.keras.callbacks.History at 0x186cddd1c88>"
      ]
     },
     "execution_count": 75,
     "metadata": {},
     "output_type": "execute_result"
    }
   ],
   "source": [
    "model_improved.fit(X,y, epochs=250, validation_split=.10, verbose=False)"
   ]
  },
  {
   "cell_type": "code",
   "execution_count": 76,
   "metadata": {},
   "outputs": [
    {
     "name": "stdout",
     "output_type": "stream",
     "text": [
      "768/768 [==============================] - 0s 98us/sample - loss: 0.5352 - accuracy: 0.7057\n"
     ]
    },
    {
     "data": {
      "text/plain": [
       "[0.5352091950674852, 0.7057292]"
      ]
     },
     "execution_count": 76,
     "metadata": {},
     "output_type": "execute_result"
    }
   ],
   "source": [
    "model_improved.evaluate(X,y)\n",
    "#print(f\"{model_improved.metrics_names[1]}: {scores[1]*100}\")"
   ]
  },
  {
   "cell_type": "markdown",
   "metadata": {},
   "source": [
    "### Experimenting\n",
    "\n",
    "10 minutes researching keras API docs or general NN architectures.\n",
    "1. optimizers\n",
    "2. loss metrics\n",
    "3. activation functions\n",
    "4. parameters\n",
    "5. number of layers/neurons"
   ]
  },
  {
   "cell_type": "code",
   "execution_count": 77,
   "metadata": {},
   "outputs": [
    {
     "name": "stdout",
     "output_type": "stream",
     "text": [
      "Model: \"Nadamclipnorm\"\n",
      "_________________________________________________________________\n",
      "Layer (type)                 Output Shape              Param #   \n",
      "=================================================================\n",
      "dense_64 (Dense)             (None, 8)                 72        \n",
      "_________________________________________________________________\n",
      "dense_65 (Dense)             (None, 8)                 72        \n",
      "_________________________________________________________________\n",
      "dense_66 (Dense)             (None, 3)                 27        \n",
      "_________________________________________________________________\n",
      "dense_67 (Dense)             (None, 3)                 12        \n",
      "_________________________________________________________________\n",
      "dense_68 (Dense)             (None, 1)                 4         \n",
      "=================================================================\n",
      "Total params: 187\n",
      "Trainable params: 187\n",
      "Non-trainable params: 0\n",
      "_________________________________________________________________\n"
     ]
    }
   ],
   "source": [
    "from tensorflow.keras.optimizers import Nadam\n",
    "\n",
    "nadam = Nadam(clipnorm=.7)\n",
    "\n",
    "model_improved = Sequential(name=\"Nadamclipnorm\")\n",
    "\n",
    "model_improved.add(Dense(8, input_dim=8, activation='relu'))\n",
    "model_improved.add(Dense(8, activation='relu'))\n",
    "model_improved.add(Dense(3, activation='relu'))\n",
    "model_improved.add(Dense(3, activation='relu'))\n",
    "model_improved.add(Dense(1, activation='sigmoid'))\n",
    "\n",
    "model_improved.compile(loss='binary_crossentropy', optimizer=nadam,\n",
    "              metrics=['accuracy'])\n",
    "\n",
    "# Let's inspect our new architecture\n",
    "model_improved.summary()"
   ]
  },
  {
   "cell_type": "code",
   "execution_count": 78,
   "metadata": {},
   "outputs": [
    {
     "name": "stdout",
     "output_type": "stream",
     "text": [
      "Train on 768 samples\n",
      "Epoch 1/250\n",
      "768/768 [==============================] - 1s 716us/sample - loss: 2.3667 - accuracy: 0.3503\n",
      "Epoch 2/250\n",
      "768/768 [==============================] - 0s 48us/sample - loss: 1.4784 - accuracy: 0.3516\n",
      "Epoch 3/250\n",
      "768/768 [==============================] - 0s 56us/sample - loss: 1.0410 - accuracy: 0.3529\n",
      "Epoch 4/250\n",
      "768/768 [==============================] - 0s 48us/sample - loss: 0.8530 - accuracy: 0.3594\n",
      "Epoch 5/250\n",
      "768/768 [==============================] - 0s 48us/sample - loss: 0.7693 - accuracy: 0.4688\n",
      "Epoch 6/250\n",
      "768/768 [==============================] - 0s 47us/sample - loss: 0.7292 - accuracy: 0.5352\n",
      "Epoch 7/250\n",
      "768/768 [==============================] - 0s 48us/sample - loss: 0.7111 - accuracy: 0.6003\n",
      "Epoch 8/250\n",
      "768/768 [==============================] - 0s 43us/sample - loss: 0.7000 - accuracy: 0.5990\n",
      "Epoch 9/250\n",
      "768/768 [==============================] - 0s 43us/sample - loss: 0.6914 - accuracy: 0.6068\n",
      "Epoch 10/250\n",
      "768/768 [==============================] - 0s 42us/sample - loss: 0.6844 - accuracy: 0.6289\n",
      "Epoch 11/250\n",
      "768/768 [==============================] - 0s 44us/sample - loss: 0.6796 - accuracy: 0.6341\n",
      "Epoch 12/250\n",
      "768/768 [==============================] - 0s 43us/sample - loss: 0.6757 - accuracy: 0.6445\n",
      "Epoch 13/250\n",
      "768/768 [==============================] - 0s 43us/sample - loss: 0.6729 - accuracy: 0.6471\n",
      "Epoch 14/250\n",
      "768/768 [==============================] - 0s 47us/sample - loss: 0.6699 - accuracy: 0.6549\n",
      "Epoch 15/250\n",
      "768/768 [==============================] - 0s 43us/sample - loss: 0.6675 - accuracy: 0.6576\n",
      "Epoch 16/250\n",
      "768/768 [==============================] - 0s 46us/sample - loss: 0.6636 - accuracy: 0.6628\n",
      "Epoch 17/250\n",
      "768/768 [==============================] - 0s 40us/sample - loss: 0.6562 - accuracy: 0.6719\n",
      "Epoch 18/250\n",
      "768/768 [==============================] - 0s 42us/sample - loss: 0.6479 - accuracy: 0.6667\n",
      "Epoch 19/250\n",
      "768/768 [==============================] - 0s 43us/sample - loss: 0.6406 - accuracy: 0.6745\n",
      "Epoch 20/250\n",
      "768/768 [==============================] - 0s 46us/sample - loss: 0.6366 - accuracy: 0.6758\n",
      "Epoch 21/250\n",
      "768/768 [==============================] - 0s 42us/sample - loss: 0.6340 - accuracy: 0.6784\n",
      "Epoch 22/250\n",
      "768/768 [==============================] - 0s 40us/sample - loss: 0.6307 - accuracy: 0.6797\n",
      "Epoch 23/250\n",
      "768/768 [==============================] - 0s 38us/sample - loss: 0.6292 - accuracy: 0.6784\n",
      "Epoch 24/250\n",
      "768/768 [==============================] - 0s 39us/sample - loss: 0.6257 - accuracy: 0.6836\n",
      "Epoch 25/250\n",
      "768/768 [==============================] - 0s 42us/sample - loss: 0.6243 - accuracy: 0.6810\n",
      "Epoch 26/250\n",
      "768/768 [==============================] - 0s 42us/sample - loss: 0.6223 - accuracy: 0.6784\n",
      "Epoch 27/250\n",
      "768/768 [==============================] - 0s 42us/sample - loss: 0.6200 - accuracy: 0.6823\n",
      "Epoch 28/250\n",
      "768/768 [==============================] - 0s 43us/sample - loss: 0.6184 - accuracy: 0.6862\n",
      "Epoch 29/250\n",
      "768/768 [==============================] - 0s 47us/sample - loss: 0.6174 - accuracy: 0.6875\n",
      "Epoch 30/250\n",
      "768/768 [==============================] - 0s 42us/sample - loss: 0.6155 - accuracy: 0.6875\n",
      "Epoch 31/250\n",
      "768/768 [==============================] - 0s 39us/sample - loss: 0.6148 - accuracy: 0.6797\n",
      "Epoch 32/250\n",
      "768/768 [==============================] - 0s 42us/sample - loss: 0.6124 - accuracy: 0.6914\n",
      "Epoch 33/250\n",
      "768/768 [==============================] - 0s 39us/sample - loss: 0.6123 - accuracy: 0.6823\n",
      "Epoch 34/250\n",
      "768/768 [==============================] - 0s 44us/sample - loss: 0.6122 - accuracy: 0.6927\n",
      "Epoch 35/250\n",
      "768/768 [==============================] - 0s 46us/sample - loss: 0.6121 - accuracy: 0.6875\n",
      "Epoch 36/250\n",
      "768/768 [==============================] - 0s 44us/sample - loss: 0.6098 - accuracy: 0.6979\n",
      "Epoch 37/250\n",
      "768/768 [==============================] - 0s 44us/sample - loss: 0.6093 - accuracy: 0.6914\n",
      "Epoch 38/250\n",
      "768/768 [==============================] - 0s 43us/sample - loss: 0.6078 - accuracy: 0.6940\n",
      "Epoch 39/250\n",
      "768/768 [==============================] - 0s 42us/sample - loss: 0.6076 - accuracy: 0.6927\n",
      "Epoch 40/250\n",
      "768/768 [==============================] - 0s 40us/sample - loss: 0.6076 - accuracy: 0.6940\n",
      "Epoch 41/250\n",
      "768/768 [==============================] - 0s 39us/sample - loss: 0.6068 - accuracy: 0.6927\n",
      "Epoch 42/250\n",
      "768/768 [==============================] - 0s 42us/sample - loss: 0.6064 - accuracy: 0.6966\n",
      "Epoch 43/250\n",
      "768/768 [==============================] - 0s 40us/sample - loss: 0.6069 - accuracy: 0.7005\n",
      "Epoch 44/250\n",
      "768/768 [==============================] - 0s 43us/sample - loss: 0.6045 - accuracy: 0.6966\n",
      "Epoch 45/250\n",
      "768/768 [==============================] - 0s 40us/sample - loss: 0.6042 - accuracy: 0.6979\n",
      "Epoch 46/250\n",
      "768/768 [==============================] - 0s 40us/sample - loss: 0.6037 - accuracy: 0.6966\n",
      "Epoch 47/250\n",
      "768/768 [==============================] - 0s 42us/sample - loss: 0.6035 - accuracy: 0.7005\n",
      "Epoch 48/250\n",
      "768/768 [==============================] - 0s 44us/sample - loss: 0.6009 - accuracy: 0.7070\n",
      "Epoch 49/250\n",
      "768/768 [==============================] - 0s 46us/sample - loss: 0.5992 - accuracy: 0.7005\n",
      "Epoch 50/250\n",
      "768/768 [==============================] - 0s 44us/sample - loss: 0.5976 - accuracy: 0.7083\n",
      "Epoch 51/250\n",
      "768/768 [==============================] - 0s 42us/sample - loss: 0.5998 - accuracy: 0.6992\n",
      "Epoch 52/250\n",
      "768/768 [==============================] - 0s 40us/sample - loss: 0.5976 - accuracy: 0.7031\n",
      "Epoch 53/250\n",
      "768/768 [==============================] - 0s 40us/sample - loss: 0.5972 - accuracy: 0.7018\n",
      "Epoch 54/250\n",
      "768/768 [==============================] - 0s 42us/sample - loss: 0.5958 - accuracy: 0.6992\n",
      "Epoch 55/250\n",
      "768/768 [==============================] - 0s 44us/sample - loss: 0.5966 - accuracy: 0.7031\n",
      "Epoch 56/250\n",
      "768/768 [==============================] - 0s 44us/sample - loss: 0.5967 - accuracy: 0.7018\n",
      "Epoch 57/250\n",
      "768/768 [==============================] - 0s 48us/sample - loss: 0.5950 - accuracy: 0.7044\n",
      "Epoch 58/250\n",
      "768/768 [==============================] - 0s 46us/sample - loss: 0.5952 - accuracy: 0.7044\n",
      "Epoch 59/250\n",
      "768/768 [==============================] - 0s 47us/sample - loss: 0.5942 - accuracy: 0.7018\n",
      "Epoch 60/250\n",
      "768/768 [==============================] - 0s 47us/sample - loss: 0.5935 - accuracy: 0.7057\n",
      "Epoch 61/250\n",
      "768/768 [==============================] - 0s 44us/sample - loss: 0.5918 - accuracy: 0.7083\n",
      "Epoch 62/250\n",
      "768/768 [==============================] - 0s 42us/sample - loss: 0.5918 - accuracy: 0.7031\n",
      "Epoch 63/250\n",
      "768/768 [==============================] - 0s 43us/sample - loss: 0.5901 - accuracy: 0.7083\n",
      "Epoch 64/250\n",
      "768/768 [==============================] - 0s 55us/sample - loss: 0.5811 - accuracy: 0.7057\n",
      "Epoch 65/250\n",
      "768/768 [==============================] - 0s 43us/sample - loss: 0.5729 - accuracy: 0.7083\n",
      "Epoch 66/250\n",
      "768/768 [==============================] - 0s 47us/sample - loss: 0.5691 - accuracy: 0.7096\n",
      "Epoch 67/250\n",
      "768/768 [==============================] - 0s 47us/sample - loss: 0.5644 - accuracy: 0.7096\n",
      "Epoch 68/250\n",
      "768/768 [==============================] - 0s 44us/sample - loss: 0.5637 - accuracy: 0.7227\n",
      "Epoch 69/250\n",
      "768/768 [==============================] - 0s 43us/sample - loss: 0.5566 - accuracy: 0.7305\n",
      "Epoch 70/250\n",
      "768/768 [==============================] - 0s 40us/sample - loss: 0.5562 - accuracy: 0.7201\n",
      "Epoch 71/250\n",
      "768/768 [==============================] - 0s 44us/sample - loss: 0.5536 - accuracy: 0.7188\n",
      "Epoch 72/250\n",
      "768/768 [==============================] - 0s 40us/sample - loss: 0.5530 - accuracy: 0.7253\n",
      "Epoch 73/250\n",
      "768/768 [==============================] - 0s 44us/sample - loss: 0.5492 - accuracy: 0.7201\n",
      "Epoch 74/250\n",
      "768/768 [==============================] - 0s 46us/sample - loss: 0.5457 - accuracy: 0.7305\n",
      "Epoch 75/250\n",
      "768/768 [==============================] - 0s 48us/sample - loss: 0.5457 - accuracy: 0.7318\n",
      "Epoch 76/250\n",
      "768/768 [==============================] - 0s 43us/sample - loss: 0.5414 - accuracy: 0.7344\n",
      "Epoch 77/250\n",
      "768/768 [==============================] - 0s 43us/sample - loss: 0.5393 - accuracy: 0.7552\n",
      "Epoch 78/250\n",
      "768/768 [==============================] - 0s 42us/sample - loss: 0.5400 - accuracy: 0.7448\n",
      "Epoch 79/250\n",
      "768/768 [==============================] - 0s 42us/sample - loss: 0.5377 - accuracy: 0.7305\n",
      "Epoch 80/250\n",
      "768/768 [==============================] - 0s 47us/sample - loss: 0.5367 - accuracy: 0.7474\n",
      "Epoch 81/250\n",
      "768/768 [==============================] - 0s 46us/sample - loss: 0.5392 - accuracy: 0.7292\n",
      "Epoch 82/250\n",
      "768/768 [==============================] - 0s 44us/sample - loss: 0.5318 - accuracy: 0.7318\n",
      "Epoch 83/250\n",
      "768/768 [==============================] - 0s 42us/sample - loss: 0.5332 - accuracy: 0.7461\n",
      "Epoch 84/250\n",
      "768/768 [==============================] - 0s 48us/sample - loss: 0.5362 - accuracy: 0.7409\n",
      "Epoch 85/250\n",
      "768/768 [==============================] - 0s 46us/sample - loss: 0.5284 - accuracy: 0.7474\n",
      "Epoch 86/250\n",
      "768/768 [==============================] - 0s 44us/sample - loss: 0.5284 - accuracy: 0.7513\n",
      "Epoch 87/250\n",
      "768/768 [==============================] - 0s 46us/sample - loss: 0.5278 - accuracy: 0.7409\n",
      "Epoch 88/250\n",
      "768/768 [==============================] - 0s 43us/sample - loss: 0.5289 - accuracy: 0.7422\n",
      "Epoch 89/250\n",
      "768/768 [==============================] - 0s 52us/sample - loss: 0.5258 - accuracy: 0.7357\n",
      "Epoch 90/250\n",
      "768/768 [==============================] - 0s 43us/sample - loss: 0.5266 - accuracy: 0.7448\n",
      "Epoch 91/250\n",
      "768/768 [==============================] - 0s 42us/sample - loss: 0.5244 - accuracy: 0.7448\n",
      "Epoch 92/250\n",
      "768/768 [==============================] - 0s 47us/sample - loss: 0.5264 - accuracy: 0.7500\n",
      "Epoch 93/250\n",
      "768/768 [==============================] - 0s 43us/sample - loss: 0.5213 - accuracy: 0.7474\n",
      "Epoch 94/250\n",
      "768/768 [==============================] - 0s 47us/sample - loss: 0.5234 - accuracy: 0.7474\n",
      "Epoch 95/250\n",
      "768/768 [==============================] - 0s 39us/sample - loss: 0.5212 - accuracy: 0.7461\n",
      "Epoch 96/250\n",
      "768/768 [==============================] - 0s 43us/sample - loss: 0.5186 - accuracy: 0.7539\n",
      "Epoch 97/250\n",
      "768/768 [==============================] - 0s 40us/sample - loss: 0.5205 - accuracy: 0.7487\n",
      "Epoch 98/250\n",
      "768/768 [==============================] - 0s 42us/sample - loss: 0.5191 - accuracy: 0.7435\n",
      "Epoch 99/250\n",
      "768/768 [==============================] - 0s 43us/sample - loss: 0.5148 - accuracy: 0.7435\n",
      "Epoch 100/250\n",
      "768/768 [==============================] - 0s 43us/sample - loss: 0.5168 - accuracy: 0.7448\n",
      "Epoch 101/250\n",
      "768/768 [==============================] - 0s 43us/sample - loss: 0.5124 - accuracy: 0.7526\n",
      "Epoch 102/250\n",
      "768/768 [==============================] - 0s 46us/sample - loss: 0.5133 - accuracy: 0.7539\n",
      "Epoch 103/250\n",
      "768/768 [==============================] - 0s 43us/sample - loss: 0.5153 - accuracy: 0.7500\n",
      "Epoch 104/250\n",
      "768/768 [==============================] - 0s 43us/sample - loss: 0.5106 - accuracy: 0.7591\n",
      "Epoch 105/250\n",
      "768/768 [==============================] - 0s 43us/sample - loss: 0.5112 - accuracy: 0.7539\n",
      "Epoch 106/250\n",
      "768/768 [==============================] - 0s 42us/sample - loss: 0.5123 - accuracy: 0.7578\n",
      "Epoch 107/250\n",
      "768/768 [==============================] - 0s 39us/sample - loss: 0.5090 - accuracy: 0.7526\n",
      "Epoch 108/250\n",
      "768/768 [==============================] - 0s 42us/sample - loss: 0.5064 - accuracy: 0.7526\n",
      "Epoch 109/250\n",
      "768/768 [==============================] - 0s 42us/sample - loss: 0.5070 - accuracy: 0.7565\n",
      "Epoch 110/250\n",
      "768/768 [==============================] - 0s 39us/sample - loss: 0.5067 - accuracy: 0.7669\n",
      "Epoch 111/250\n",
      "768/768 [==============================] - 0s 42us/sample - loss: 0.5064 - accuracy: 0.7604\n",
      "Epoch 112/250\n",
      "768/768 [==============================] - 0s 42us/sample - loss: 0.5042 - accuracy: 0.7617\n",
      "Epoch 113/250\n",
      "768/768 [==============================] - 0s 44us/sample - loss: 0.5023 - accuracy: 0.7682\n",
      "Epoch 114/250\n",
      "768/768 [==============================] - 0s 43us/sample - loss: 0.5026 - accuracy: 0.7565\n",
      "Epoch 115/250\n",
      "768/768 [==============================] - 0s 39us/sample - loss: 0.5024 - accuracy: 0.7630\n",
      "Epoch 116/250\n",
      "768/768 [==============================] - 0s 42us/sample - loss: 0.4994 - accuracy: 0.7578\n",
      "Epoch 117/250\n",
      "768/768 [==============================] - 0s 38us/sample - loss: 0.4984 - accuracy: 0.7669\n",
      "Epoch 118/250\n",
      "768/768 [==============================] - 0s 42us/sample - loss: 0.4966 - accuracy: 0.7643\n",
      "Epoch 119/250\n",
      "768/768 [==============================] - 0s 40us/sample - loss: 0.4981 - accuracy: 0.7643\n",
      "Epoch 120/250\n",
      "768/768 [==============================] - 0s 43us/sample - loss: 0.4969 - accuracy: 0.7669\n",
      "Epoch 121/250\n",
      "768/768 [==============================] - 0s 43us/sample - loss: 0.4972 - accuracy: 0.7565\n",
      "Epoch 122/250\n",
      "768/768 [==============================] - 0s 43us/sample - loss: 0.4951 - accuracy: 0.7682\n",
      "Epoch 123/250\n",
      "768/768 [==============================] - 0s 42us/sample - loss: 0.4931 - accuracy: 0.7656\n",
      "Epoch 124/250\n",
      "768/768 [==============================] - 0s 39us/sample - loss: 0.4946 - accuracy: 0.7734\n",
      "Epoch 125/250\n",
      "768/768 [==============================] - 0s 38us/sample - loss: 0.4943 - accuracy: 0.7604\n",
      "Epoch 126/250\n",
      "768/768 [==============================] - 0s 36us/sample - loss: 0.4943 - accuracy: 0.7578\n",
      "Epoch 127/250\n",
      "768/768 [==============================] - 0s 42us/sample - loss: 0.4962 - accuracy: 0.7604\n",
      "Epoch 128/250\n",
      "768/768 [==============================] - 0s 42us/sample - loss: 0.4912 - accuracy: 0.7682\n",
      "Epoch 129/250\n",
      "768/768 [==============================] - 0s 42us/sample - loss: 0.4916 - accuracy: 0.7669\n",
      "Epoch 130/250\n",
      "768/768 [==============================] - 0s 42us/sample - loss: 0.4917 - accuracy: 0.7630\n",
      "Epoch 131/250\n",
      "768/768 [==============================] - 0s 42us/sample - loss: 0.4905 - accuracy: 0.7734\n",
      "Epoch 132/250\n",
      "768/768 [==============================] - 0s 65us/sample - loss: 0.4858 - accuracy: 0.7695\n",
      "Epoch 133/250\n",
      "768/768 [==============================] - 0s 42us/sample - loss: 0.4890 - accuracy: 0.7604\n",
      "Epoch 134/250\n",
      "768/768 [==============================] - 0s 46us/sample - loss: 0.4871 - accuracy: 0.7721\n",
      "Epoch 135/250\n",
      "768/768 [==============================] - 0s 46us/sample - loss: 0.4871 - accuracy: 0.7682\n",
      "Epoch 136/250\n",
      "768/768 [==============================] - 0s 43us/sample - loss: 0.4875 - accuracy: 0.7643\n",
      "Epoch 137/250\n",
      "768/768 [==============================] - 0s 42us/sample - loss: 0.4824 - accuracy: 0.7669\n",
      "Epoch 138/250\n",
      "768/768 [==============================] - 0s 44us/sample - loss: 0.4867 - accuracy: 0.7656\n",
      "Epoch 139/250\n",
      "768/768 [==============================] - 0s 40us/sample - loss: 0.4824 - accuracy: 0.7773\n",
      "Epoch 140/250\n",
      "768/768 [==============================] - 0s 42us/sample - loss: 0.4822 - accuracy: 0.7682\n",
      "Epoch 141/250\n",
      "768/768 [==============================] - 0s 43us/sample - loss: 0.4812 - accuracy: 0.7682\n",
      "Epoch 142/250\n",
      "768/768 [==============================] - 0s 39us/sample - loss: 0.4816 - accuracy: 0.7786\n",
      "Epoch 143/250\n",
      "768/768 [==============================] - 0s 40us/sample - loss: 0.4818 - accuracy: 0.7760\n",
      "Epoch 144/250\n",
      "768/768 [==============================] - 0s 40us/sample - loss: 0.4793 - accuracy: 0.7799\n",
      "Epoch 145/250\n",
      "768/768 [==============================] - 0s 43us/sample - loss: 0.4795 - accuracy: 0.7826\n",
      "Epoch 146/250\n",
      "768/768 [==============================] - 0s 40us/sample - loss: 0.4810 - accuracy: 0.7747\n",
      "Epoch 147/250\n",
      "768/768 [==============================] - 0s 43us/sample - loss: 0.4783 - accuracy: 0.7708\n",
      "Epoch 148/250\n",
      "768/768 [==============================] - 0s 39us/sample - loss: 0.4771 - accuracy: 0.7747\n",
      "Epoch 149/250\n",
      "768/768 [==============================] - 0s 43us/sample - loss: 0.4763 - accuracy: 0.7826\n",
      "Epoch 150/250\n",
      "768/768 [==============================] - 0s 42us/sample - loss: 0.4746 - accuracy: 0.7799\n",
      "Epoch 151/250\n",
      "768/768 [==============================] - 0s 46us/sample - loss: 0.4745 - accuracy: 0.7865\n",
      "Epoch 152/250\n",
      "768/768 [==============================] - 0s 43us/sample - loss: 0.4743 - accuracy: 0.7799\n",
      "Epoch 153/250\n",
      "768/768 [==============================] - 0s 38us/sample - loss: 0.4740 - accuracy: 0.7773\n",
      "Epoch 154/250\n",
      "768/768 [==============================] - 0s 40us/sample - loss: 0.4765 - accuracy: 0.7812\n",
      "Epoch 155/250\n",
      "768/768 [==============================] - 0s 43us/sample - loss: 0.4744 - accuracy: 0.7786\n",
      "Epoch 156/250\n",
      "768/768 [==============================] - 0s 44us/sample - loss: 0.4738 - accuracy: 0.7865\n",
      "Epoch 157/250\n",
      "768/768 [==============================] - 0s 40us/sample - loss: 0.4712 - accuracy: 0.7904\n",
      "Epoch 158/250\n",
      "768/768 [==============================] - 0s 40us/sample - loss: 0.4715 - accuracy: 0.7878\n",
      "Epoch 159/250\n",
      "768/768 [==============================] - 0s 40us/sample - loss: 0.4733 - accuracy: 0.7826\n",
      "Epoch 160/250\n",
      "768/768 [==============================] - 0s 40us/sample - loss: 0.4729 - accuracy: 0.7865\n",
      "Epoch 161/250\n",
      "768/768 [==============================] - 0s 43us/sample - loss: 0.4700 - accuracy: 0.7917\n",
      "Epoch 162/250\n",
      "768/768 [==============================] - 0s 40us/sample - loss: 0.4681 - accuracy: 0.7839\n",
      "Epoch 163/250\n",
      "768/768 [==============================] - 0s 40us/sample - loss: 0.4694 - accuracy: 0.7812\n",
      "Epoch 164/250\n",
      "768/768 [==============================] - 0s 40us/sample - loss: 0.4692 - accuracy: 0.7852\n",
      "Epoch 165/250\n",
      "768/768 [==============================] - 0s 46us/sample - loss: 0.4681 - accuracy: 0.7786\n",
      "Epoch 166/250\n",
      "768/768 [==============================] - 0s 40us/sample - loss: 0.4648 - accuracy: 0.7878\n",
      "Epoch 167/250\n",
      "768/768 [==============================] - 0s 39us/sample - loss: 0.4673 - accuracy: 0.7760\n",
      "Epoch 168/250\n",
      "768/768 [==============================] - 0s 42us/sample - loss: 0.4650 - accuracy: 0.7878\n",
      "Epoch 169/250\n",
      "768/768 [==============================] - 0s 39us/sample - loss: 0.4646 - accuracy: 0.7891\n",
      "Epoch 170/250\n",
      "768/768 [==============================] - 0s 42us/sample - loss: 0.4654 - accuracy: 0.7904\n",
      "Epoch 171/250\n",
      "768/768 [==============================] - 0s 44us/sample - loss: 0.4677 - accuracy: 0.7839\n",
      "Epoch 172/250\n",
      "768/768 [==============================] - 0s 42us/sample - loss: 0.4656 - accuracy: 0.7878\n",
      "Epoch 173/250\n",
      "768/768 [==============================] - 0s 40us/sample - loss: 0.4615 - accuracy: 0.7865\n",
      "Epoch 174/250\n",
      "768/768 [==============================] - 0s 43us/sample - loss: 0.4666 - accuracy: 0.7956\n",
      "Epoch 175/250\n",
      "768/768 [==============================] - 0s 40us/sample - loss: 0.4628 - accuracy: 0.7917\n",
      "Epoch 176/250\n",
      "768/768 [==============================] - 0s 42us/sample - loss: 0.4613 - accuracy: 0.7982\n",
      "Epoch 177/250\n",
      "768/768 [==============================] - 0s 42us/sample - loss: 0.4594 - accuracy: 0.7760\n",
      "Epoch 178/250\n",
      "768/768 [==============================] - 0s 43us/sample - loss: 0.4597 - accuracy: 0.7917\n",
      "Epoch 179/250\n",
      "768/768 [==============================] - 0s 39us/sample - loss: 0.4593 - accuracy: 0.7930\n",
      "Epoch 180/250\n",
      "768/768 [==============================] - 0s 42us/sample - loss: 0.4589 - accuracy: 0.7904\n",
      "Epoch 181/250\n",
      "768/768 [==============================] - 0s 39us/sample - loss: 0.4600 - accuracy: 0.7826\n",
      "Epoch 182/250\n",
      "768/768 [==============================] - 0s 44us/sample - loss: 0.4604 - accuracy: 0.7891\n",
      "Epoch 183/250\n",
      "768/768 [==============================] - 0s 40us/sample - loss: 0.4563 - accuracy: 0.7969\n",
      "Epoch 184/250\n",
      "768/768 [==============================] - 0s 39us/sample - loss: 0.4570 - accuracy: 0.7878\n",
      "Epoch 185/250\n",
      "768/768 [==============================] - 0s 43us/sample - loss: 0.4587 - accuracy: 0.7917\n",
      "Epoch 186/250\n",
      "768/768 [==============================] - 0s 47us/sample - loss: 0.4536 - accuracy: 0.8034\n",
      "Epoch 187/250\n",
      "768/768 [==============================] - 0s 43us/sample - loss: 0.4556 - accuracy: 0.7917\n",
      "Epoch 188/250\n",
      "768/768 [==============================] - 0s 48us/sample - loss: 0.4555 - accuracy: 0.7943\n",
      "Epoch 189/250\n",
      "768/768 [==============================] - 0s 49us/sample - loss: 0.4515 - accuracy: 0.7956\n",
      "Epoch 190/250\n",
      "768/768 [==============================] - 0s 47us/sample - loss: 0.4507 - accuracy: 0.7969\n",
      "Epoch 191/250\n",
      "768/768 [==============================] - 0s 47us/sample - loss: 0.4529 - accuracy: 0.7982\n",
      "Epoch 192/250\n",
      "768/768 [==============================] - 0s 43us/sample - loss: 0.4516 - accuracy: 0.7995\n",
      "Epoch 193/250\n",
      "768/768 [==============================] - 0s 44us/sample - loss: 0.4513 - accuracy: 0.7930\n",
      "Epoch 194/250\n",
      "768/768 [==============================] - 0s 47us/sample - loss: 0.4482 - accuracy: 0.8034\n",
      "Epoch 195/250\n",
      "768/768 [==============================] - 0s 46us/sample - loss: 0.4515 - accuracy: 0.8008\n",
      "Epoch 196/250\n",
      "768/768 [==============================] - 0s 42us/sample - loss: 0.4522 - accuracy: 0.7917\n",
      "Epoch 197/250\n",
      "768/768 [==============================] - 0s 47us/sample - loss: 0.4507 - accuracy: 0.8021\n",
      "Epoch 198/250\n",
      "768/768 [==============================] - 0s 43us/sample - loss: 0.4501 - accuracy: 0.7969\n",
      "Epoch 199/250\n",
      "768/768 [==============================] - 0s 42us/sample - loss: 0.4526 - accuracy: 0.8047\n",
      "Epoch 200/250\n",
      "768/768 [==============================] - 0s 46us/sample - loss: 0.4484 - accuracy: 0.7956\n",
      "Epoch 201/250\n",
      "768/768 [==============================] - 0s 44us/sample - loss: 0.4486 - accuracy: 0.7995\n",
      "Epoch 202/250\n",
      "768/768 [==============================] - 0s 43us/sample - loss: 0.4471 - accuracy: 0.8060\n",
      "Epoch 203/250\n",
      "768/768 [==============================] - 0s 44us/sample - loss: 0.4474 - accuracy: 0.8138\n",
      "Epoch 204/250\n",
      "768/768 [==============================] - 0s 46us/sample - loss: 0.4457 - accuracy: 0.8008\n",
      "Epoch 205/250\n",
      "768/768 [==============================] - 0s 47us/sample - loss: 0.4439 - accuracy: 0.8047\n",
      "Epoch 206/250\n",
      "768/768 [==============================] - 0s 46us/sample - loss: 0.4498 - accuracy: 0.8086\n",
      "Epoch 207/250\n",
      "768/768 [==============================] - 0s 48us/sample - loss: 0.4469 - accuracy: 0.7982\n",
      "Epoch 208/250\n",
      "768/768 [==============================] - 0s 44us/sample - loss: 0.4444 - accuracy: 0.7982\n",
      "Epoch 209/250\n",
      "768/768 [==============================] - 0s 42us/sample - loss: 0.4422 - accuracy: 0.8008\n",
      "Epoch 210/250\n",
      "768/768 [==============================] - 0s 43us/sample - loss: 0.4447 - accuracy: 0.7956\n",
      "Epoch 211/250\n",
      "768/768 [==============================] - 0s 46us/sample - loss: 0.4449 - accuracy: 0.7956\n",
      "Epoch 212/250\n",
      "768/768 [==============================] - 0s 46us/sample - loss: 0.4454 - accuracy: 0.7995\n",
      "Epoch 213/250\n",
      "768/768 [==============================] - 0s 42us/sample - loss: 0.4441 - accuracy: 0.7995\n",
      "Epoch 214/250\n",
      "768/768 [==============================] - 0s 43us/sample - loss: 0.4426 - accuracy: 0.8099\n",
      "Epoch 215/250\n",
      "768/768 [==============================] - 0s 46us/sample - loss: 0.4445 - accuracy: 0.8008\n",
      "Epoch 216/250\n",
      "768/768 [==============================] - 0s 46us/sample - loss: 0.4436 - accuracy: 0.8034\n",
      "Epoch 217/250\n",
      "768/768 [==============================] - 0s 44us/sample - loss: 0.4434 - accuracy: 0.8086\n",
      "Epoch 218/250\n",
      "768/768 [==============================] - 0s 49us/sample - loss: 0.4419 - accuracy: 0.8060\n",
      "Epoch 219/250\n",
      "768/768 [==============================] - 0s 49us/sample - loss: 0.4425 - accuracy: 0.8086\n",
      "Epoch 220/250\n",
      "768/768 [==============================] - 0s 49us/sample - loss: 0.4410 - accuracy: 0.7982\n",
      "Epoch 221/250\n",
      "768/768 [==============================] - 0s 49us/sample - loss: 0.4389 - accuracy: 0.8060\n",
      "Epoch 222/250\n",
      "768/768 [==============================] - 0s 48us/sample - loss: 0.4407 - accuracy: 0.7917\n",
      "Epoch 223/250\n",
      "768/768 [==============================] - 0s 51us/sample - loss: 0.4416 - accuracy: 0.8099\n",
      "Epoch 224/250\n",
      "768/768 [==============================] - 0s 48us/sample - loss: 0.4384 - accuracy: 0.8060\n",
      "Epoch 225/250\n",
      "768/768 [==============================] - 0s 47us/sample - loss: 0.4405 - accuracy: 0.7982\n",
      "Epoch 226/250\n",
      "768/768 [==============================] - 0s 48us/sample - loss: 0.4399 - accuracy: 0.7982\n",
      "Epoch 227/250\n",
      "768/768 [==============================] - 0s 46us/sample - loss: 0.4397 - accuracy: 0.8060\n",
      "Epoch 228/250\n",
      "768/768 [==============================] - 0s 47us/sample - loss: 0.4378 - accuracy: 0.8047\n",
      "Epoch 229/250\n",
      "768/768 [==============================] - 0s 43us/sample - loss: 0.4339 - accuracy: 0.7956\n",
      "Epoch 230/250\n",
      "768/768 [==============================] - 0s 49us/sample - loss: 0.4335 - accuracy: 0.8073\n",
      "Epoch 231/250\n",
      "768/768 [==============================] - 0s 48us/sample - loss: 0.4342 - accuracy: 0.8099\n",
      "Epoch 232/250\n",
      "768/768 [==============================] - 0s 48us/sample - loss: 0.4364 - accuracy: 0.8060\n",
      "Epoch 233/250\n",
      "768/768 [==============================] - 0s 51us/sample - loss: 0.4338 - accuracy: 0.7969\n",
      "Epoch 234/250\n",
      "768/768 [==============================] - 0s 47us/sample - loss: 0.4342 - accuracy: 0.8060\n",
      "Epoch 235/250\n",
      "768/768 [==============================] - 0s 48us/sample - loss: 0.4349 - accuracy: 0.7969\n",
      "Epoch 236/250\n",
      "768/768 [==============================] - 0s 47us/sample - loss: 0.4351 - accuracy: 0.8008\n",
      "Epoch 237/250\n",
      "768/768 [==============================] - 0s 48us/sample - loss: 0.4347 - accuracy: 0.8073\n",
      "Epoch 238/250\n",
      "768/768 [==============================] - 0s 47us/sample - loss: 0.4356 - accuracy: 0.7982\n",
      "Epoch 239/250\n",
      "768/768 [==============================] - 0s 47us/sample - loss: 0.4361 - accuracy: 0.7969\n",
      "Epoch 240/250\n",
      "768/768 [==============================] - 0s 48us/sample - loss: 0.4340 - accuracy: 0.7995\n",
      "Epoch 241/250\n",
      "768/768 [==============================] - 0s 46us/sample - loss: 0.4367 - accuracy: 0.7982\n",
      "Epoch 242/250\n",
      "768/768 [==============================] - 0s 51us/sample - loss: 0.4312 - accuracy: 0.8034\n",
      "Epoch 243/250\n",
      "768/768 [==============================] - 0s 51us/sample - loss: 0.4383 - accuracy: 0.8086\n",
      "Epoch 244/250\n",
      "768/768 [==============================] - 0s 44us/sample - loss: 0.4283 - accuracy: 0.8060\n",
      "Epoch 245/250\n",
      "768/768 [==============================] - 0s 48us/sample - loss: 0.4366 - accuracy: 0.7982\n",
      "Epoch 246/250\n",
      "768/768 [==============================] - 0s 46us/sample - loss: 0.4329 - accuracy: 0.8021\n",
      "Epoch 247/250\n",
      "768/768 [==============================] - 0s 50us/sample - loss: 0.4301 - accuracy: 0.8008\n",
      "Epoch 248/250\n",
      "768/768 [==============================] - 0s 49us/sample - loss: 0.4352 - accuracy: 0.8073\n",
      "Epoch 249/250\n",
      "768/768 [==============================] - 0s 46us/sample - loss: 0.4305 - accuracy: 0.8060\n",
      "Epoch 250/250\n",
      "768/768 [==============================] - 0s 47us/sample - loss: 0.4321 - accuracy: 0.8047\n"
     ]
    },
    {
     "data": {
      "text/plain": [
       "<tensorflow.python.keras.callbacks.History at 0x186cefbcd08>"
      ]
     },
     "execution_count": 78,
     "metadata": {},
     "output_type": "execute_result"
    }
   ],
   "source": [
    "model_improved.fit(X,y, epochs=250)\n",
    "# 70%"
   ]
  },
  {
   "cell_type": "code",
   "execution_count": 79,
   "metadata": {},
   "outputs": [
    {
     "name": "stdout",
     "output_type": "stream",
     "text": [
      "Model: \"Nadamclipnorm\"\n",
      "_________________________________________________________________\n",
      "Layer (type)                 Output Shape              Param #   \n",
      "=================================================================\n",
      "dense_69 (Dense)             (None, 8)                 72        \n",
      "_________________________________________________________________\n",
      "dense_70 (Dense)             (None, 8)                 72        \n",
      "_________________________________________________________________\n",
      "dense_71 (Dense)             (None, 3)                 27        \n",
      "_________________________________________________________________\n",
      "dense_72 (Dense)             (None, 3)                 12        \n",
      "_________________________________________________________________\n",
      "dense_73 (Dense)             (None, 1)                 4         \n",
      "=================================================================\n",
      "Total params: 187\n",
      "Trainable params: 187\n",
      "Non-trainable params: 0\n",
      "_________________________________________________________________\n"
     ]
    }
   ],
   "source": [
    "from sklearn.preprocessing import Normalizer\n",
    "\n",
    "norm = Normalizer()\n",
    "X_n = norm.fit_transform(X)\n",
    "\n",
    "nadam = Nadam(clipnorm=.7)\n",
    "\n",
    "model_improved = Sequential(name=\"Nadamclipnorm\")\n",
    "\n",
    "model_improved.add(Dense(8, input_dim=8, activation='relu'))\n",
    "model_improved.add(Dense(8, activation='relu'))\n",
    "model_improved.add(Dense(3, activation='relu'))\n",
    "model_improved.add(Dense(3, activation='relu'))\n",
    "model_improved.add(Dense(1, activation='sigmoid'))\n",
    "\n",
    "model_improved.compile(loss='binary_crossentropy', optimizer=nadam,\n",
    "              metrics=['accuracy'])\n",
    "\n",
    "# Let's inspect our new architecture\n",
    "model_improved.summary()"
   ]
  },
  {
   "cell_type": "code",
   "execution_count": 80,
   "metadata": {},
   "outputs": [
    {
     "name": "stdout",
     "output_type": "stream",
     "text": [
      "Train on 768 samples\n",
      "Epoch 1/250\n",
      "768/768 [==============================] - 1s 704us/sample - loss: 0.6817 - accuracy: 0.6510\n",
      "Epoch 2/250\n",
      "768/768 [==============================] - 0s 51us/sample - loss: 0.6725 - accuracy: 0.6510\n",
      "Epoch 3/250\n",
      "768/768 [==============================] - 0s 57us/sample - loss: 0.6616 - accuracy: 0.6510\n",
      "Epoch 4/250\n",
      "768/768 [==============================] - 0s 51us/sample - loss: 0.6504 - accuracy: 0.6510\n",
      "Epoch 5/250\n",
      "768/768 [==============================] - 0s 49us/sample - loss: 0.6436 - accuracy: 0.6510\n",
      "Epoch 6/250\n",
      "768/768 [==============================] - 0s 46us/sample - loss: 0.6412 - accuracy: 0.6510\n",
      "Epoch 7/250\n",
      "768/768 [==============================] - 0s 44us/sample - loss: 0.6403 - accuracy: 0.6510\n",
      "Epoch 8/250\n",
      "768/768 [==============================] - 0s 46us/sample - loss: 0.6398 - accuracy: 0.6510\n",
      "Epoch 9/250\n",
      "768/768 [==============================] - 0s 44us/sample - loss: 0.6393 - accuracy: 0.6510\n",
      "Epoch 10/250\n",
      "768/768 [==============================] - 0s 46us/sample - loss: 0.6388 - accuracy: 0.6510\n",
      "Epoch 11/250\n",
      "768/768 [==============================] - 0s 43us/sample - loss: 0.6384 - accuracy: 0.6510\n",
      "Epoch 12/250\n",
      "768/768 [==============================] - 0s 48us/sample - loss: 0.6377 - accuracy: 0.6510\n",
      "Epoch 13/250\n",
      "768/768 [==============================] - 0s 43us/sample - loss: 0.6371 - accuracy: 0.6510\n",
      "Epoch 14/250\n",
      "768/768 [==============================] - 0s 48us/sample - loss: 0.6368 - accuracy: 0.6510\n",
      "Epoch 15/250\n",
      "768/768 [==============================] - 0s 43us/sample - loss: 0.6358 - accuracy: 0.6510\n",
      "Epoch 16/250\n",
      "768/768 [==============================] - 0s 42us/sample - loss: 0.6351 - accuracy: 0.6510\n",
      "Epoch 17/250\n",
      "768/768 [==============================] - 0s 44us/sample - loss: 0.6343 - accuracy: 0.6510\n",
      "Epoch 18/250\n",
      "768/768 [==============================] - 0s 44us/sample - loss: 0.6336 - accuracy: 0.6510\n",
      "Epoch 19/250\n",
      "768/768 [==============================] - 0s 48us/sample - loss: 0.6330 - accuracy: 0.6510\n",
      "Epoch 20/250\n",
      "768/768 [==============================] - 0s 44us/sample - loss: 0.6319 - accuracy: 0.6510\n",
      "Epoch 21/250\n",
      "768/768 [==============================] - 0s 46us/sample - loss: 0.6312 - accuracy: 0.6510\n",
      "Epoch 22/250\n",
      "768/768 [==============================] - 0s 43us/sample - loss: 0.6306 - accuracy: 0.6510\n",
      "Epoch 23/250\n",
      "768/768 [==============================] - 0s 43us/sample - loss: 0.6292 - accuracy: 0.6510\n",
      "Epoch 24/250\n",
      "768/768 [==============================] - 0s 43us/sample - loss: 0.6282 - accuracy: 0.6510\n",
      "Epoch 25/250\n",
      "768/768 [==============================] - 0s 49us/sample - loss: 0.6268 - accuracy: 0.6510\n",
      "Epoch 26/250\n",
      "768/768 [==============================] - 0s 44us/sample - loss: 0.6259 - accuracy: 0.6510\n",
      "Epoch 27/250\n",
      "768/768 [==============================] - 0s 43us/sample - loss: 0.6246 - accuracy: 0.6510\n",
      "Epoch 28/250\n",
      "768/768 [==============================] - 0s 44us/sample - loss: 0.6233 - accuracy: 0.6510\n",
      "Epoch 29/250\n",
      "768/768 [==============================] - 0s 42us/sample - loss: 0.6219 - accuracy: 0.6510\n",
      "Epoch 30/250\n",
      "768/768 [==============================] - 0s 52us/sample - loss: 0.6206 - accuracy: 0.6510\n",
      "Epoch 31/250\n",
      "768/768 [==============================] - 0s 47us/sample - loss: 0.6193 - accuracy: 0.6510\n",
      "Epoch 32/250\n",
      "768/768 [==============================] - 0s 44us/sample - loss: 0.6176 - accuracy: 0.6510\n",
      "Epoch 33/250\n",
      "768/768 [==============================] - 0s 42us/sample - loss: 0.6163 - accuracy: 0.6510\n",
      "Epoch 34/250\n",
      "768/768 [==============================] - 0s 44us/sample - loss: 0.6153 - accuracy: 0.6510\n",
      "Epoch 35/250\n",
      "768/768 [==============================] - 0s 72us/sample - loss: 0.6133 - accuracy: 0.6510\n",
      "Epoch 36/250\n",
      "768/768 [==============================] - 0s 46us/sample - loss: 0.6114 - accuracy: 0.6510\n",
      "Epoch 37/250\n",
      "768/768 [==============================] - 0s 48us/sample - loss: 0.6108 - accuracy: 0.6510\n",
      "Epoch 38/250\n",
      "768/768 [==============================] - 0s 46us/sample - loss: 0.6084 - accuracy: 0.6510\n",
      "Epoch 39/250\n",
      "768/768 [==============================] - 0s 47us/sample - loss: 0.6081 - accuracy: 0.6510\n",
      "Epoch 40/250\n",
      "768/768 [==============================] - 0s 44us/sample - loss: 0.6068 - accuracy: 0.6510\n",
      "Epoch 41/250\n",
      "768/768 [==============================] - 0s 47us/sample - loss: 0.6049 - accuracy: 0.6510\n",
      "Epoch 42/250\n",
      "768/768 [==============================] - 0s 42us/sample - loss: 0.6039 - accuracy: 0.6497\n",
      "Epoch 43/250\n",
      "768/768 [==============================] - 0s 43us/sample - loss: 0.6026 - accuracy: 0.6458\n",
      "Epoch 44/250\n",
      "768/768 [==============================] - 0s 42us/sample - loss: 0.6014 - accuracy: 0.6497\n",
      "Epoch 45/250\n",
      "768/768 [==============================] - 0s 43us/sample - loss: 0.6004 - accuracy: 0.6549\n",
      "Epoch 46/250\n",
      "768/768 [==============================] - 0s 51us/sample - loss: 0.5999 - accuracy: 0.6510\n",
      "Epoch 47/250\n",
      "768/768 [==============================] - 0s 51us/sample - loss: 0.5987 - accuracy: 0.6510\n",
      "Epoch 48/250\n",
      "768/768 [==============================] - 0s 46us/sample - loss: 0.5973 - accuracy: 0.6549\n",
      "Epoch 49/250\n",
      "768/768 [==============================] - 0s 46us/sample - loss: 0.5964 - accuracy: 0.6602\n",
      "Epoch 50/250\n",
      "768/768 [==============================] - 0s 42us/sample - loss: 0.5957 - accuracy: 0.6602\n",
      "Epoch 51/250\n",
      "768/768 [==============================] - 0s 43us/sample - loss: 0.5950 - accuracy: 0.6615\n",
      "Epoch 52/250\n",
      "768/768 [==============================] - 0s 44us/sample - loss: 0.5949 - accuracy: 0.6536\n",
      "Epoch 53/250\n",
      "768/768 [==============================] - 0s 42us/sample - loss: 0.5933 - accuracy: 0.6641\n",
      "Epoch 54/250\n",
      "768/768 [==============================] - 0s 46us/sample - loss: 0.5929 - accuracy: 0.6667\n",
      "Epoch 55/250\n",
      "768/768 [==============================] - 0s 47us/sample - loss: 0.5918 - accuracy: 0.6745\n",
      "Epoch 56/250\n",
      "768/768 [==============================] - 0s 47us/sample - loss: 0.5917 - accuracy: 0.6771\n",
      "Epoch 57/250\n",
      "768/768 [==============================] - 0s 47us/sample - loss: 0.5910 - accuracy: 0.6862\n",
      "Epoch 58/250\n",
      "768/768 [==============================] - 0s 47us/sample - loss: 0.5910 - accuracy: 0.6797\n",
      "Epoch 59/250\n",
      "768/768 [==============================] - 0s 48us/sample - loss: 0.5899 - accuracy: 0.6745\n",
      "Epoch 60/250\n",
      "768/768 [==============================] - 0s 44us/sample - loss: 0.5896 - accuracy: 0.6849\n",
      "Epoch 61/250\n",
      "768/768 [==============================] - 0s 47us/sample - loss: 0.5883 - accuracy: 0.6836\n",
      "Epoch 62/250\n",
      "768/768 [==============================] - 0s 47us/sample - loss: 0.5881 - accuracy: 0.6875\n",
      "Epoch 63/250\n",
      "768/768 [==============================] - 0s 43us/sample - loss: 0.5887 - accuracy: 0.6888\n",
      "Epoch 64/250\n",
      "768/768 [==============================] - 0s 44us/sample - loss: 0.5876 - accuracy: 0.6823\n",
      "Epoch 65/250\n",
      "768/768 [==============================] - 0s 42us/sample - loss: 0.5867 - accuracy: 0.6836\n",
      "Epoch 66/250\n",
      "768/768 [==============================] - 0s 42us/sample - loss: 0.5862 - accuracy: 0.6953\n",
      "Epoch 67/250\n",
      "768/768 [==============================] - 0s 44us/sample - loss: 0.5859 - accuracy: 0.6862\n",
      "Epoch 68/250\n",
      "768/768 [==============================] - 0s 46us/sample - loss: 0.5852 - accuracy: 0.6849\n",
      "Epoch 69/250\n",
      "768/768 [==============================] - 0s 44us/sample - loss: 0.5850 - accuracy: 0.6914\n",
      "Epoch 70/250\n",
      "768/768 [==============================] - 0s 47us/sample - loss: 0.5844 - accuracy: 0.6901\n",
      "Epoch 71/250\n",
      "768/768 [==============================] - 0s 44us/sample - loss: 0.5849 - accuracy: 0.6940\n",
      "Epoch 72/250\n",
      "768/768 [==============================] - 0s 46us/sample - loss: 0.5838 - accuracy: 0.6914\n",
      "Epoch 73/250\n",
      "768/768 [==============================] - 0s 47us/sample - loss: 0.5833 - accuracy: 0.6979\n",
      "Epoch 74/250\n",
      "768/768 [==============================] - 0s 49us/sample - loss: 0.5829 - accuracy: 0.6901\n",
      "Epoch 75/250\n",
      "768/768 [==============================] - 0s 44us/sample - loss: 0.5826 - accuracy: 0.6927\n",
      "Epoch 76/250\n",
      "768/768 [==============================] - 0s 43us/sample - loss: 0.5820 - accuracy: 0.6940\n",
      "Epoch 77/250\n",
      "768/768 [==============================] - 0s 43us/sample - loss: 0.5825 - accuracy: 0.6836\n",
      "Epoch 78/250\n",
      "768/768 [==============================] - 0s 44us/sample - loss: 0.5824 - accuracy: 0.6862\n",
      "Epoch 79/250\n",
      "768/768 [==============================] - 0s 46us/sample - loss: 0.5823 - accuracy: 0.6953\n",
      "Epoch 80/250\n",
      "768/768 [==============================] - 0s 46us/sample - loss: 0.5811 - accuracy: 0.6940\n",
      "Epoch 81/250\n",
      "768/768 [==============================] - 0s 55us/sample - loss: 0.5812 - accuracy: 0.6914\n",
      "Epoch 82/250\n",
      "768/768 [==============================] - 0s 46us/sample - loss: 0.5810 - accuracy: 0.6914\n",
      "Epoch 83/250\n",
      "768/768 [==============================] - 0s 46us/sample - loss: 0.5808 - accuracy: 0.6966\n",
      "Epoch 84/250\n",
      "768/768 [==============================] - 0s 43us/sample - loss: 0.5821 - accuracy: 0.6927\n",
      "Epoch 85/250\n",
      "768/768 [==============================] - 0s 40us/sample - loss: 0.5798 - accuracy: 0.6966\n",
      "Epoch 86/250\n",
      "768/768 [==============================] - 0s 42us/sample - loss: 0.5795 - accuracy: 0.6927\n",
      "Epoch 87/250\n",
      "768/768 [==============================] - 0s 42us/sample - loss: 0.5798 - accuracy: 0.6836\n",
      "Epoch 88/250\n",
      "768/768 [==============================] - 0s 43us/sample - loss: 0.5795 - accuracy: 0.6966\n",
      "Epoch 89/250\n",
      "768/768 [==============================] - 0s 43us/sample - loss: 0.5793 - accuracy: 0.6966\n",
      "Epoch 90/250\n",
      "768/768 [==============================] - 0s 46us/sample - loss: 0.5790 - accuracy: 0.6979\n",
      "Epoch 91/250\n",
      "768/768 [==============================] - 0s 40us/sample - loss: 0.5794 - accuracy: 0.6927\n",
      "Epoch 92/250\n",
      "768/768 [==============================] - 0s 42us/sample - loss: 0.5785 - accuracy: 0.6914\n",
      "Epoch 93/250\n",
      "768/768 [==============================] - 0s 40us/sample - loss: 0.5792 - accuracy: 0.6914\n",
      "Epoch 94/250\n",
      "768/768 [==============================] - 0s 42us/sample - loss: 0.5786 - accuracy: 0.6966\n",
      "Epoch 95/250\n",
      "768/768 [==============================] - 0s 44us/sample - loss: 0.5777 - accuracy: 0.6927\n",
      "Epoch 96/250\n",
      "768/768 [==============================] - 0s 43us/sample - loss: 0.5782 - accuracy: 0.6992\n",
      "Epoch 97/250\n",
      "768/768 [==============================] - 0s 40us/sample - loss: 0.5772 - accuracy: 0.6953\n",
      "Epoch 98/250\n",
      "768/768 [==============================] - 0s 40us/sample - loss: 0.5780 - accuracy: 0.6862\n",
      "Epoch 99/250\n",
      "768/768 [==============================] - 0s 43us/sample - loss: 0.5776 - accuracy: 0.6966\n",
      "Epoch 100/250\n",
      "768/768 [==============================] - 0s 42us/sample - loss: 0.5775 - accuracy: 0.6940\n",
      "Epoch 101/250\n",
      "768/768 [==============================] - 0s 43us/sample - loss: 0.5781 - accuracy: 0.6940\n",
      "Epoch 102/250\n",
      "768/768 [==============================] - 0s 43us/sample - loss: 0.5771 - accuracy: 0.6901\n",
      "Epoch 103/250\n",
      "768/768 [==============================] - 0s 46us/sample - loss: 0.5766 - accuracy: 0.6914\n",
      "Epoch 104/250\n",
      "768/768 [==============================] - 0s 42us/sample - loss: 0.5771 - accuracy: 0.6992\n",
      "Epoch 105/250\n",
      "768/768 [==============================] - 0s 43us/sample - loss: 0.5765 - accuracy: 0.6940\n",
      "Epoch 106/250\n",
      "768/768 [==============================] - 0s 40us/sample - loss: 0.5770 - accuracy: 0.6966\n",
      "Epoch 107/250\n",
      "768/768 [==============================] - 0s 46us/sample - loss: 0.5764 - accuracy: 0.6927\n",
      "Epoch 108/250\n",
      "768/768 [==============================] - 0s 42us/sample - loss: 0.5758 - accuracy: 0.6940\n",
      "Epoch 109/250\n",
      "768/768 [==============================] - 0s 40us/sample - loss: 0.5766 - accuracy: 0.6927\n",
      "Epoch 110/250\n",
      "768/768 [==============================] - 0s 43us/sample - loss: 0.5757 - accuracy: 0.6966\n",
      "Epoch 111/250\n",
      "768/768 [==============================] - 0s 43us/sample - loss: 0.5757 - accuracy: 0.6992\n",
      "Epoch 112/250\n",
      "768/768 [==============================] - 0s 39us/sample - loss: 0.5754 - accuracy: 0.6927\n",
      "Epoch 113/250\n",
      "768/768 [==============================] - 0s 42us/sample - loss: 0.5756 - accuracy: 0.6992\n",
      "Epoch 114/250\n",
      "768/768 [==============================] - 0s 42us/sample - loss: 0.5756 - accuracy: 0.6953\n",
      "Epoch 115/250\n",
      "768/768 [==============================] - 0s 42us/sample - loss: 0.5758 - accuracy: 0.6940\n",
      "Epoch 116/250\n",
      "768/768 [==============================] - 0s 42us/sample - loss: 0.5760 - accuracy: 0.6927\n",
      "Epoch 117/250\n",
      "768/768 [==============================] - 0s 42us/sample - loss: 0.5749 - accuracy: 0.6953\n",
      "Epoch 118/250\n",
      "768/768 [==============================] - 0s 46us/sample - loss: 0.5743 - accuracy: 0.7005\n",
      "Epoch 119/250\n",
      "768/768 [==============================] - 0s 42us/sample - loss: 0.5751 - accuracy: 0.6940\n",
      "Epoch 120/250\n",
      "768/768 [==============================] - 0s 43us/sample - loss: 0.5750 - accuracy: 0.6953\n",
      "Epoch 121/250\n",
      "768/768 [==============================] - 0s 43us/sample - loss: 0.5744 - accuracy: 0.6966\n",
      "Epoch 122/250\n",
      "768/768 [==============================] - 0s 44us/sample - loss: 0.5744 - accuracy: 0.6940\n",
      "Epoch 123/250\n",
      "768/768 [==============================] - 0s 42us/sample - loss: 0.5749 - accuracy: 0.7044\n",
      "Epoch 124/250\n",
      "768/768 [==============================] - 0s 43us/sample - loss: 0.5749 - accuracy: 0.6940\n",
      "Epoch 125/250\n",
      "768/768 [==============================] - 0s 42us/sample - loss: 0.5739 - accuracy: 0.7005\n",
      "Epoch 126/250\n",
      "768/768 [==============================] - 0s 48us/sample - loss: 0.5746 - accuracy: 0.6992\n",
      "Epoch 127/250\n",
      "768/768 [==============================] - 0s 46us/sample - loss: 0.5755 - accuracy: 0.7005\n",
      "Epoch 128/250\n",
      "768/768 [==============================] - 0s 44us/sample - loss: 0.5740 - accuracy: 0.7057\n",
      "Epoch 129/250\n",
      "768/768 [==============================] - 0s 40us/sample - loss: 0.5736 - accuracy: 0.6953\n",
      "Epoch 130/250\n",
      "768/768 [==============================] - 0s 40us/sample - loss: 0.5736 - accuracy: 0.6927\n",
      "Epoch 131/250\n",
      "768/768 [==============================] - 0s 42us/sample - loss: 0.5733 - accuracy: 0.6953\n",
      "Epoch 132/250\n",
      "768/768 [==============================] - 0s 42us/sample - loss: 0.5731 - accuracy: 0.6966\n",
      "Epoch 133/250\n",
      "768/768 [==============================] - 0s 40us/sample - loss: 0.5742 - accuracy: 0.6927\n",
      "Epoch 134/250\n",
      "768/768 [==============================] - 0s 44us/sample - loss: 0.5734 - accuracy: 0.7031\n",
      "Epoch 135/250\n",
      "768/768 [==============================] - 0s 40us/sample - loss: 0.5731 - accuracy: 0.6914\n",
      "Epoch 136/250\n",
      "768/768 [==============================] - 0s 43us/sample - loss: 0.5731 - accuracy: 0.6940\n",
      "Epoch 137/250\n",
      "768/768 [==============================] - 0s 43us/sample - loss: 0.5724 - accuracy: 0.6914\n",
      "Epoch 138/250\n",
      "768/768 [==============================] - 0s 43us/sample - loss: 0.5727 - accuracy: 0.6966\n",
      "Epoch 139/250\n",
      "768/768 [==============================] - 0s 43us/sample - loss: 0.5728 - accuracy: 0.6940\n",
      "Epoch 140/250\n",
      "768/768 [==============================] - 0s 51us/sample - loss: 0.5729 - accuracy: 0.6966\n",
      "Epoch 141/250\n",
      "768/768 [==============================] - 0s 40us/sample - loss: 0.5724 - accuracy: 0.7005\n",
      "Epoch 142/250\n",
      "768/768 [==============================] - 0s 43us/sample - loss: 0.5725 - accuracy: 0.6888\n",
      "Epoch 143/250\n",
      "768/768 [==============================] - 0s 42us/sample - loss: 0.5719 - accuracy: 0.6953\n",
      "Epoch 144/250\n",
      "768/768 [==============================] - 0s 39us/sample - loss: 0.5720 - accuracy: 0.6953\n",
      "Epoch 145/250\n",
      "768/768 [==============================] - 0s 46us/sample - loss: 0.5714 - accuracy: 0.6940\n",
      "Epoch 146/250\n",
      "768/768 [==============================] - 0s 43us/sample - loss: 0.5713 - accuracy: 0.6940\n",
      "Epoch 147/250\n",
      "768/768 [==============================] - 0s 44us/sample - loss: 0.5712 - accuracy: 0.6979\n",
      "Epoch 148/250\n",
      "768/768 [==============================] - 0s 44us/sample - loss: 0.5709 - accuracy: 0.6953\n",
      "Epoch 149/250\n",
      "768/768 [==============================] - 0s 47us/sample - loss: 0.5709 - accuracy: 0.6914\n",
      "Epoch 150/250\n",
      "768/768 [==============================] - 0s 47us/sample - loss: 0.5703 - accuracy: 0.6927\n",
      "Epoch 151/250\n",
      "768/768 [==============================] - 0s 44us/sample - loss: 0.5703 - accuracy: 0.6940\n",
      "Epoch 152/250\n",
      "768/768 [==============================] - 0s 43us/sample - loss: 0.5708 - accuracy: 0.6901\n",
      "Epoch 153/250\n",
      "768/768 [==============================] - 0s 43us/sample - loss: 0.5706 - accuracy: 0.6966\n",
      "Epoch 154/250\n",
      "768/768 [==============================] - 0s 46us/sample - loss: 0.5703 - accuracy: 0.6940\n",
      "Epoch 155/250\n",
      "768/768 [==============================] - 0s 47us/sample - loss: 0.5701 - accuracy: 0.6979\n",
      "Epoch 156/250\n",
      "768/768 [==============================] - 0s 44us/sample - loss: 0.5701 - accuracy: 0.7005\n",
      "Epoch 157/250\n",
      "768/768 [==============================] - 0s 43us/sample - loss: 0.5696 - accuracy: 0.6966\n",
      "Epoch 158/250\n",
      "768/768 [==============================] - 0s 39us/sample - loss: 0.5703 - accuracy: 0.6940\n",
      "Epoch 159/250\n",
      "768/768 [==============================] - 0s 43us/sample - loss: 0.5685 - accuracy: 0.6979\n",
      "Epoch 160/250\n",
      "768/768 [==============================] - 0s 43us/sample - loss: 0.5702 - accuracy: 0.6940\n",
      "Epoch 161/250\n",
      "768/768 [==============================] - 0s 42us/sample - loss: 0.5694 - accuracy: 0.6914\n",
      "Epoch 162/250\n",
      "768/768 [==============================] - 0s 40us/sample - loss: 0.5703 - accuracy: 0.6953\n",
      "Epoch 163/250\n",
      "768/768 [==============================] - 0s 42us/sample - loss: 0.5691 - accuracy: 0.6953\n",
      "Epoch 164/250\n",
      "768/768 [==============================] - 0s 43us/sample - loss: 0.5688 - accuracy: 0.6992\n",
      "Epoch 165/250\n",
      "768/768 [==============================] - 0s 42us/sample - loss: 0.5687 - accuracy: 0.6953\n",
      "Epoch 166/250\n",
      "768/768 [==============================] - 0s 40us/sample - loss: 0.5688 - accuracy: 0.6979\n",
      "Epoch 167/250\n",
      "768/768 [==============================] - 0s 42us/sample - loss: 0.5691 - accuracy: 0.7005\n",
      "Epoch 168/250\n",
      "768/768 [==============================] - 0s 40us/sample - loss: 0.5689 - accuracy: 0.6927\n",
      "Epoch 169/250\n",
      "768/768 [==============================] - 0s 43us/sample - loss: 0.5679 - accuracy: 0.6979\n",
      "Epoch 170/250\n",
      "768/768 [==============================] - 0s 43us/sample - loss: 0.5683 - accuracy: 0.7005\n",
      "Epoch 171/250\n",
      "768/768 [==============================] - 0s 40us/sample - loss: 0.5688 - accuracy: 0.6940\n",
      "Epoch 172/250\n",
      "768/768 [==============================] - 0s 42us/sample - loss: 0.5686 - accuracy: 0.6940\n",
      "Epoch 173/250\n",
      "768/768 [==============================] - 0s 39us/sample - loss: 0.5679 - accuracy: 0.6992\n",
      "Epoch 174/250\n",
      "768/768 [==============================] - 0s 42us/sample - loss: 0.5678 - accuracy: 0.6927\n",
      "Epoch 175/250\n",
      "768/768 [==============================] - 0s 46us/sample - loss: 0.5678 - accuracy: 0.7018\n",
      "Epoch 176/250\n",
      "768/768 [==============================] - 0s 43us/sample - loss: 0.5669 - accuracy: 0.6992\n",
      "Epoch 177/250\n",
      "768/768 [==============================] - 0s 44us/sample - loss: 0.5676 - accuracy: 0.6979\n",
      "Epoch 178/250\n",
      "768/768 [==============================] - 0s 43us/sample - loss: 0.5676 - accuracy: 0.6966\n",
      "Epoch 179/250\n",
      "768/768 [==============================] - 0s 42us/sample - loss: 0.5673 - accuracy: 0.6966\n",
      "Epoch 180/250\n",
      "768/768 [==============================] - 0s 49us/sample - loss: 0.5673 - accuracy: 0.6953\n",
      "Epoch 181/250\n",
      "768/768 [==============================] - 0s 42us/sample - loss: 0.5678 - accuracy: 0.6979\n",
      "Epoch 182/250\n",
      "768/768 [==============================] - 0s 44us/sample - loss: 0.5671 - accuracy: 0.6979\n",
      "Epoch 183/250\n",
      "768/768 [==============================] - 0s 43us/sample - loss: 0.5673 - accuracy: 0.6940\n",
      "Epoch 184/250\n",
      "768/768 [==============================] - 0s 44us/sample - loss: 0.5668 - accuracy: 0.7005\n",
      "Epoch 185/250\n",
      "768/768 [==============================] - 0s 42us/sample - loss: 0.5675 - accuracy: 0.6953\n",
      "Epoch 186/250\n",
      "768/768 [==============================] - 0s 40us/sample - loss: 0.5671 - accuracy: 0.6953\n",
      "Epoch 187/250\n",
      "768/768 [==============================] - 0s 44us/sample - loss: 0.5664 - accuracy: 0.6992\n",
      "Epoch 188/250\n",
      "768/768 [==============================] - 0s 42us/sample - loss: 0.5677 - accuracy: 0.6966\n",
      "Epoch 189/250\n",
      "768/768 [==============================] - 0s 47us/sample - loss: 0.5662 - accuracy: 0.6966\n",
      "Epoch 190/250\n",
      "768/768 [==============================] - 0s 39us/sample - loss: 0.5668 - accuracy: 0.6966\n",
      "Epoch 191/250\n",
      "768/768 [==============================] - 0s 40us/sample - loss: 0.5668 - accuracy: 0.6940\n",
      "Epoch 192/250\n",
      "768/768 [==============================] - 0s 47us/sample - loss: 0.5664 - accuracy: 0.6979\n",
      "Epoch 193/250\n",
      "768/768 [==============================] - 0s 42us/sample - loss: 0.5665 - accuracy: 0.6966\n",
      "Epoch 194/250\n",
      "768/768 [==============================] - 0s 46us/sample - loss: 0.5666 - accuracy: 0.6953\n",
      "Epoch 195/250\n",
      "768/768 [==============================] - 0s 40us/sample - loss: 0.5666 - accuracy: 0.7005\n",
      "Epoch 196/250\n",
      "768/768 [==============================] - 0s 42us/sample - loss: 0.5670 - accuracy: 0.7057\n",
      "Epoch 197/250\n",
      "768/768 [==============================] - 0s 43us/sample - loss: 0.5667 - accuracy: 0.6992\n",
      "Epoch 198/250\n",
      "768/768 [==============================] - 0s 42us/sample - loss: 0.5661 - accuracy: 0.7018\n",
      "Epoch 199/250\n",
      "768/768 [==============================] - 0s 40us/sample - loss: 0.5662 - accuracy: 0.6992\n",
      "Epoch 200/250\n",
      "768/768 [==============================] - 0s 40us/sample - loss: 0.5657 - accuracy: 0.7005\n",
      "Epoch 201/250\n",
      "768/768 [==============================] - 0s 42us/sample - loss: 0.5660 - accuracy: 0.6953\n",
      "Epoch 202/250\n",
      "768/768 [==============================] - 0s 43us/sample - loss: 0.5665 - accuracy: 0.6979\n",
      "Epoch 203/250\n",
      "768/768 [==============================] - 0s 42us/sample - loss: 0.5664 - accuracy: 0.6953\n",
      "Epoch 204/250\n",
      "768/768 [==============================] - 0s 39us/sample - loss: 0.5655 - accuracy: 0.6979\n",
      "Epoch 205/250\n",
      "768/768 [==============================] - 0s 43us/sample - loss: 0.5654 - accuracy: 0.7018\n",
      "Epoch 206/250\n",
      "768/768 [==============================] - 0s 40us/sample - loss: 0.5664 - accuracy: 0.7018\n",
      "Epoch 207/250\n",
      "768/768 [==============================] - 0s 43us/sample - loss: 0.5655 - accuracy: 0.7070\n",
      "Epoch 208/250\n",
      "768/768 [==============================] - 0s 42us/sample - loss: 0.5654 - accuracy: 0.6979\n",
      "Epoch 209/250\n",
      "768/768 [==============================] - 0s 43us/sample - loss: 0.5656 - accuracy: 0.7005\n",
      "Epoch 210/250\n",
      "768/768 [==============================] - 0s 46us/sample - loss: 0.5650 - accuracy: 0.6966\n",
      "Epoch 211/250\n",
      "768/768 [==============================] - 0s 46us/sample - loss: 0.5654 - accuracy: 0.7018\n",
      "Epoch 212/250\n",
      "768/768 [==============================] - 0s 40us/sample - loss: 0.5652 - accuracy: 0.7005\n",
      "Epoch 213/250\n",
      "768/768 [==============================] - 0s 40us/sample - loss: 0.5657 - accuracy: 0.6979\n",
      "Epoch 214/250\n",
      "768/768 [==============================] - 0s 47us/sample - loss: 0.5650 - accuracy: 0.7018\n",
      "Epoch 215/250\n",
      "768/768 [==============================] - 0s 40us/sample - loss: 0.5654 - accuracy: 0.6992\n",
      "Epoch 216/250\n",
      "768/768 [==============================] - 0s 46us/sample - loss: 0.5656 - accuracy: 0.6992\n",
      "Epoch 217/250\n",
      "768/768 [==============================] - 0s 43us/sample - loss: 0.5650 - accuracy: 0.6979\n",
      "Epoch 218/250\n",
      "768/768 [==============================] - 0s 46us/sample - loss: 0.5652 - accuracy: 0.7018\n",
      "Epoch 219/250\n",
      "768/768 [==============================] - 0s 42us/sample - loss: 0.5644 - accuracy: 0.7070\n",
      "Epoch 220/250\n",
      "768/768 [==============================] - 0s 43us/sample - loss: 0.5652 - accuracy: 0.7057\n",
      "Epoch 221/250\n",
      "768/768 [==============================] - 0s 42us/sample - loss: 0.5654 - accuracy: 0.6953\n",
      "Epoch 222/250\n",
      "768/768 [==============================] - 0s 42us/sample - loss: 0.5645 - accuracy: 0.7044\n",
      "Epoch 223/250\n",
      "768/768 [==============================] - 0s 42us/sample - loss: 0.5655 - accuracy: 0.7031\n",
      "Epoch 224/250\n",
      "768/768 [==============================] - 0s 42us/sample - loss: 0.5648 - accuracy: 0.7057\n",
      "Epoch 225/250\n",
      "768/768 [==============================] - 0s 44us/sample - loss: 0.5648 - accuracy: 0.6966\n",
      "Epoch 226/250\n",
      "768/768 [==============================] - 0s 43us/sample - loss: 0.5643 - accuracy: 0.7005\n",
      "Epoch 227/250\n",
      "768/768 [==============================] - 0s 42us/sample - loss: 0.5646 - accuracy: 0.7018\n",
      "Epoch 228/250\n",
      "768/768 [==============================] - 0s 44us/sample - loss: 0.5650 - accuracy: 0.7005\n",
      "Epoch 229/250\n",
      "768/768 [==============================] - 0s 43us/sample - loss: 0.5646 - accuracy: 0.6979\n",
      "Epoch 230/250\n",
      "768/768 [==============================] - 0s 43us/sample - loss: 0.5643 - accuracy: 0.7057\n",
      "Epoch 231/250\n",
      "768/768 [==============================] - 0s 42us/sample - loss: 0.5644 - accuracy: 0.7005\n",
      "Epoch 232/250\n",
      "768/768 [==============================] - 0s 43us/sample - loss: 0.5645 - accuracy: 0.7018\n",
      "Epoch 233/250\n",
      "768/768 [==============================] - 0s 40us/sample - loss: 0.5643 - accuracy: 0.7057\n",
      "Epoch 234/250\n",
      "768/768 [==============================] - 0s 43us/sample - loss: 0.5637 - accuracy: 0.7044\n",
      "Epoch 235/250\n",
      "768/768 [==============================] - 0s 39us/sample - loss: 0.5654 - accuracy: 0.6927\n",
      "Epoch 236/250\n",
      "768/768 [==============================] - 0s 43us/sample - loss: 0.5643 - accuracy: 0.7044\n",
      "Epoch 237/250\n",
      "768/768 [==============================] - 0s 42us/sample - loss: 0.5646 - accuracy: 0.6966\n",
      "Epoch 238/250\n",
      "768/768 [==============================] - 0s 40us/sample - loss: 0.5644 - accuracy: 0.6966\n",
      "Epoch 239/250\n",
      "768/768 [==============================] - 0s 40us/sample - loss: 0.5648 - accuracy: 0.7031\n",
      "Epoch 240/250\n",
      "768/768 [==============================] - 0s 43us/sample - loss: 0.5641 - accuracy: 0.6992\n",
      "Epoch 241/250\n",
      "768/768 [==============================] - 0s 43us/sample - loss: 0.5641 - accuracy: 0.7083\n",
      "Epoch 242/250\n",
      "768/768 [==============================] - 0s 44us/sample - loss: 0.5641 - accuracy: 0.7031\n",
      "Epoch 243/250\n",
      "768/768 [==============================] - 0s 46us/sample - loss: 0.5635 - accuracy: 0.7018\n",
      "Epoch 244/250\n",
      "768/768 [==============================] - 0s 47us/sample - loss: 0.5639 - accuracy: 0.7031\n",
      "Epoch 245/250\n",
      "768/768 [==============================] - 0s 66us/sample - loss: 0.5646 - accuracy: 0.6992\n",
      "Epoch 246/250\n",
      "768/768 [==============================] - 0s 46us/sample - loss: 0.5641 - accuracy: 0.7070\n",
      "Epoch 247/250\n",
      "768/768 [==============================] - 0s 48us/sample - loss: 0.5636 - accuracy: 0.6992\n",
      "Epoch 248/250\n",
      "768/768 [==============================] - 0s 48us/sample - loss: 0.5635 - accuracy: 0.7083\n",
      "Epoch 249/250\n",
      "768/768 [==============================] - 0s 44us/sample - loss: 0.5639 - accuracy: 0.7005\n",
      "Epoch 250/250\n",
      "768/768 [==============================] - 0s 46us/sample - loss: 0.5641 - accuracy: 0.7096\n"
     ]
    },
    {
     "data": {
      "text/plain": [
       "<tensorflow.python.keras.callbacks.History at 0x186d0216408>"
      ]
     },
     "execution_count": 80,
     "metadata": {},
     "output_type": "execute_result"
    }
   ],
   "source": [
    "model_improved.fit(X_n,y, epochs=250)\n",
    "# 73%"
   ]
  },
  {
   "cell_type": "markdown",
   "metadata": {},
   "source": [
    "## Challenge\n",
    "\n",
    "You will have to choose your own architectures in today's module project. "
   ]
  },
  {
   "cell_type": "markdown",
   "metadata": {
    "colab_type": "text",
    "id": "tcjMuxtn6wIQ",
    "toc-hr-collapsed": false
   },
   "source": [
    "# Activation Functions (Learn)"
   ]
  },
  {
   "cell_type": "markdown",
   "metadata": {
    "colab_type": "text",
    "id": "tcjMuxtn6wIQ",
    "toc-hr-collapsed": false
   },
   "source": [
    "## Overview\n",
    "What is an activation function and how does it work?\n",
    "\n",
    "- Takes in a weighted sum of inputs + a bias from the previous layer and outputs an \"activation\" value.\n",
    "- Based its inputs the neuron decides how 'activated' it should be. This can be thought of as the neuron deciding how strongly to fire. You can also think of it as if the neuron is deciding how much of the signal that it has received to pass onto the next layer. \n",
    "- Our choice of activation function does not only affect signal that is passed forward but also affects the backpropagation algorithm. It affects how we update weights in reverse order since activated weight/input sums become the inputs of the next layer. "
   ]
  },
  {
   "cell_type": "markdown",
   "metadata": {
    "toc-hr-collapsed": true
   },
   "source": [
    "## Follow Along"
   ]
  },
  {
   "cell_type": "markdown",
   "metadata": {
    "colab_type": "text",
    "id": "n_b0u8Ch60bA"
   },
   "source": [
    "### Step Function\n",
    "\n",
    "![Heaviside Step Function](https://upload.wikimedia.org/wikipedia/commons/thumb/d/d9/Dirac_distribution_CDF.svg/325px-Dirac_distribution_CDF.svg.png)\n",
    "\n",
    "All or nothing, a little extreme, which is fine, but makes updating weights through backpropagation impossible. Why? remember that during backpropagation we use derivatives in order to determine how much to update or not update weights. What is the derivative of the step function?"
   ]
  },
  {
   "cell_type": "markdown",
   "metadata": {
    "colab_type": "text",
    "id": "vKR0YhIVEnXZ"
   },
   "source": [
    "### Linear Function\n",
    "\n",
    "![Linear Function](http://www.roconnell.net/Parent%20function/linear.gif)\n",
    "\n",
    "The linear function takes the opposite tact from the step function and passes the signal onto the next layer by a constant factor. There are problems with this but the biggest problems again lie in backpropagation. The derivative of any linear function is a horizontal line which would indicate that we should update all weights by a constant amount every time -which on balance wouldn't change the behavior of our network. Linear functions are typically only used for very simple tasks where interpretability is important, but if interpretability is your highest priority, you probably shouldn't be using neural networks in the first place."
   ]
  },
  {
   "cell_type": "markdown",
   "metadata": {
    "colab_type": "text",
    "id": "JFurIVL6EkQ8"
   },
   "source": [
    "### Sigmoid Function\n",
    "\n",
    "![Sigmoid Function](https://upload.wikimedia.org/wikipedia/commons/thumb/8/88/Logistic-curve.svg/480px-Logistic-curve.svg.png)\n",
    "\n",
    "The sigmoid function works great as an activation function! it's continuously differentiable, its derivative doesn't have a constant slope, and having the higher slope in the middle pushes y value predictions towards extremes which is particularly useful for binary classification problems. I mean, this is why we use it as the squishifier in logistic regression as well. It constrains output, but over repeated epochs pushes predictions towards a strong binary prediction. \n",
    "\n",
    "What's the biggest problem with the sigmoid function? The fact that its slope gets pretty flat so quickly after its departure from zero. This means that updating weights based on its gradient really diminishes the size of our weight updates as our model gets more confident about its classifications. This is why even after so many iterations with our test score example we couldn't reach the levels of fit that our gradient descent based model could reach in just a few epochs."
   ]
  },
  {
   "cell_type": "markdown",
   "metadata": {
    "colab_type": "text",
    "id": "hm6p1HWbEhYi"
   },
   "source": [
    "### Tanh Function\n",
    "\n",
    "![Tanh Function](http://mathworld.wolfram.com/images/interactive/TanhReal.gif)\n",
    "\n",
    "What if the sigmoid function didn't get so flat quite as soon when moving away from zero and was a little bit steeper in the middle? That's basically the Tanh function. The Tanh function can actually be created by scaling the sigmoid function by 2 in the y dimension and subtracting 1 from all values. It has basically the same properties as the sigmoid, still struggles from diminishingly flat gradients as we move away from 0, but its derivative is higher around 0 causing weights to move to the extremes a little faster. "
   ]
  },
  {
   "cell_type": "markdown",
   "metadata": {
    "colab_type": "text",
    "id": "sFOn_L6gEcz1"
   },
   "source": [
    "### ReLU Function\n",
    "\n",
    "![ReLU Function](https://cdn-images-1.medium.com/max/937/1*oePAhrm74RNnNEolprmTaQ.png)\n",
    "\n",
    "ReLU stands for Rectified Linear Units it is by far the most commonly used activation function in modern neural networks. It doesn't activate neurons that are being passed a negative signal and passes on positive signals. Think about why this might be useful. Remember how a lot of our initial weights got set to negative numbers by chance? This would have dealt with those negative weights a lot faster than the sigmoid function updating. What does the derivative of this function look like? It looks like the step function! This means that not all neurons are activated. With sigmoid basically all of our neurons are passing some amount of signal even if it's small making it hard for the network to differentiate important and less important connections. ReLU turns off a portion of our less important neurons which decreases computational load, but also helps the network learn what the most important connections are faster. \n",
    "\n",
    "What's the problem with relu? Well the left half of its derivative function shows that for neurons that are initialized with weights that cause them to have no activation, our gradient will not update those neuron's weights, this can lead to dead neurons that never fire and whose weights never get updated. We would probably want to update the weights of neurons that didn't fire even if it's just by a little bit in case we got unlucky with our initial weights and want to give those neurons a chance of turning back on in the future.\n",
    "\n",
    "\n",
    "> one reason its so popular is it will basically stop the model from updating negative weights, killing neurons that arent useful, making everything faster"
   ]
  },
  {
   "cell_type": "markdown",
   "metadata": {
    "colab_type": "text",
    "id": "XWdvWOBIETwk"
   },
   "source": [
    "### Leaky ReLU\n",
    "\n",
    "![Leaky ReLU](https://cdn-images-1.medium.com/max/1600/1*ypsvQH7kvtI2BhzR2eT_Sw.png)\n",
    "\n",
    "Leaky ReLU accomplishes exactly that! it avoids having a gradient of 0 on the left side of its derivative function. This means that even \"dead\" neurons have a chance of being revived over enough iterations. In some specifications the slope of the leaky left-hand side can also be experimented with as a hyperparameter of the model!"
   ]
  },
  {
   "cell_type": "markdown",
   "metadata": {
    "colab_type": "text",
    "id": "FcAxkNFREMFb"
   },
   "source": [
    "### Softmax Function\n",
    "\n",
    "![Softmax Function](https://cdn-images-1.medium.com/max/800/1*670CdxchunD-yAuUWdI7Bw.png)\n",
    "\n",
    "Like the sigmoid function but more useful for multi-class classification problems. The softmax function can take any set of inputs and translate them into probabilities that sum up to 1. This means that we can throw any list of outputs at it and it will translate them into probabilities, this is extremely useful for multi-class classification problems. Like MNIST for example..."
   ]
  },
  {
   "cell_type": "markdown",
   "metadata": {
    "colab_type": "text",
    "id": "23-XRRXKHs34"
   },
   "source": [
    "### Major takeaways\n",
    "\n",
    "- ReLU is generally better at obtaining the optimal model fit.\n",
    "- Sigmoid and its derivatives are usually better at classification problems.\n",
    "- Softmax for multi-class classification problems. \n",
    "\n",
    "You'll typically see ReLU used for all initial layers and then the final layer being sigmoid or softmax for classification problems. But you can experiment and tune these selections as hyperparameters as well!"
   ]
  },
  {
   "cell_type": "markdown",
   "metadata": {
    "colab_type": "text",
    "id": "TWuoXZCCKCI7"
   },
   "source": [
    "### MNIST with Keras \n",
    "\n",
    "#### This will be a good chance to bring up dropout regularization. :)"
   ]
  },
  {
   "cell_type": "code",
   "execution_count": 81,
   "metadata": {
    "colab": {},
    "colab_type": "code",
    "id": "jmJ_5azs04pU"
   },
   "outputs": [],
   "source": [
    "### Let's do it!\n",
    "\n",
    "from tensorflow import keras\n",
    "from tensorflow.keras.datasets import mnist\n",
    "from tensorflow.keras.models import Sequential\n",
    "from tensorflow.keras.layers import Dense, Dropout\n",
    "\n",
    "# Stretch - use dropout \n",
    "import numpy as np"
   ]
  },
  {
   "cell_type": "code",
   "execution_count": 82,
   "metadata": {},
   "outputs": [],
   "source": [
    "# Hyper Parameters\n",
    "batch_size = 64\n",
    "num_classes = 10\n",
    "epochs = 20"
   ]
  },
  {
   "cell_type": "code",
   "execution_count": 83,
   "metadata": {},
   "outputs": [
    {
     "name": "stdout",
     "output_type": "stream",
     "text": [
      "Downloading data from https://storage.googleapis.com/tensorflow/tf-keras-datasets/mnist.npz\n",
      "11493376/11490434 [==============================] - 1s 0us/step\n"
     ]
    }
   ],
   "source": [
    "# Load the Data\n",
    "(X_train, y_train), (X_test, y_test) = mnist.load_data()"
   ]
  },
  {
   "cell_type": "code",
   "execution_count": 84,
   "metadata": {},
   "outputs": [
    {
     "data": {
      "text/plain": [
       "(28, 28)"
      ]
     },
     "execution_count": 84,
     "metadata": {},
     "output_type": "execute_result"
    }
   ],
   "source": [
    "X_train[0].shape"
   ]
  },
  {
   "cell_type": "code",
   "execution_count": 85,
   "metadata": {},
   "outputs": [
    {
     "data": {
      "text/plain": [
       "(60000, 28, 28)"
      ]
     },
     "execution_count": 85,
     "metadata": {},
     "output_type": "execute_result"
    }
   ],
   "source": [
    "X_train.shape"
   ]
  },
  {
   "cell_type": "code",
   "execution_count": 86,
   "metadata": {},
   "outputs": [
    {
     "data": {
      "text/plain": [
       "array([[  0,   0,   0,   0,   0,   0,   0,   0,   0,   0,   0,   0,   0,\n",
       "          0,   0,   0,   0,   0,   0,   0,   0,   0,   0,   0,   0,   0,\n",
       "          0,   0],\n",
       "       [  0,   0,   0,   0,   0,   0,   0,   0,   0,   0,   0,   0,   0,\n",
       "          0,   0,   0,   0,   0,   0,   0,   0,   0,   0,   0,   0,   0,\n",
       "          0,   0],\n",
       "       [  0,   0,   0,   0,   0,   0,   0,   0,   0,   0,   0,   0,   0,\n",
       "          0,   0,   0,   0,   0,   0,   0,   0,   0,   0,   0,   0,   0,\n",
       "          0,   0],\n",
       "       [  0,   0,   0,   0,   0,   0,   0,   0,   0,   0,   0,   0,   0,\n",
       "          0,   0,   0,   0,   0,   0,   0,   0,   0,   0,   0,   0,   0,\n",
       "          0,   0],\n",
       "       [  0,   0,   0,   0,   0,   0,   0,   0,   0,   0,   0,   0,   0,\n",
       "          0,   0,   0,   0,   0,   0,   0,   0,   0,   0,   0,   0,   0,\n",
       "          0,   0],\n",
       "       [  0,   0,   0,   0,   0,   0,   0,   0,   0,   0,   0,   0,   3,\n",
       "         18,  18,  18, 126, 136, 175,  26, 166, 255, 247, 127,   0,   0,\n",
       "          0,   0],\n",
       "       [  0,   0,   0,   0,   0,   0,   0,   0,  30,  36,  94, 154, 170,\n",
       "        253, 253, 253, 253, 253, 225, 172, 253, 242, 195,  64,   0,   0,\n",
       "          0,   0],\n",
       "       [  0,   0,   0,   0,   0,   0,   0,  49, 238, 253, 253, 253, 253,\n",
       "        253, 253, 253, 253, 251,  93,  82,  82,  56,  39,   0,   0,   0,\n",
       "          0,   0],\n",
       "       [  0,   0,   0,   0,   0,   0,   0,  18, 219, 253, 253, 253, 253,\n",
       "        253, 198, 182, 247, 241,   0,   0,   0,   0,   0,   0,   0,   0,\n",
       "          0,   0],\n",
       "       [  0,   0,   0,   0,   0,   0,   0,   0,  80, 156, 107, 253, 253,\n",
       "        205,  11,   0,  43, 154,   0,   0,   0,   0,   0,   0,   0,   0,\n",
       "          0,   0],\n",
       "       [  0,   0,   0,   0,   0,   0,   0,   0,   0,  14,   1, 154, 253,\n",
       "         90,   0,   0,   0,   0,   0,   0,   0,   0,   0,   0,   0,   0,\n",
       "          0,   0],\n",
       "       [  0,   0,   0,   0,   0,   0,   0,   0,   0,   0,   0, 139, 253,\n",
       "        190,   2,   0,   0,   0,   0,   0,   0,   0,   0,   0,   0,   0,\n",
       "          0,   0],\n",
       "       [  0,   0,   0,   0,   0,   0,   0,   0,   0,   0,   0,  11, 190,\n",
       "        253,  70,   0,   0,   0,   0,   0,   0,   0,   0,   0,   0,   0,\n",
       "          0,   0],\n",
       "       [  0,   0,   0,   0,   0,   0,   0,   0,   0,   0,   0,   0,  35,\n",
       "        241, 225, 160, 108,   1,   0,   0,   0,   0,   0,   0,   0,   0,\n",
       "          0,   0],\n",
       "       [  0,   0,   0,   0,   0,   0,   0,   0,   0,   0,   0,   0,   0,\n",
       "         81, 240, 253, 253, 119,  25,   0,   0,   0,   0,   0,   0,   0,\n",
       "          0,   0],\n",
       "       [  0,   0,   0,   0,   0,   0,   0,   0,   0,   0,   0,   0,   0,\n",
       "          0,  45, 186, 253, 253, 150,  27,   0,   0,   0,   0,   0,   0,\n",
       "          0,   0],\n",
       "       [  0,   0,   0,   0,   0,   0,   0,   0,   0,   0,   0,   0,   0,\n",
       "          0,   0,  16,  93, 252, 253, 187,   0,   0,   0,   0,   0,   0,\n",
       "          0,   0],\n",
       "       [  0,   0,   0,   0,   0,   0,   0,   0,   0,   0,   0,   0,   0,\n",
       "          0,   0,   0,   0, 249, 253, 249,  64,   0,   0,   0,   0,   0,\n",
       "          0,   0],\n",
       "       [  0,   0,   0,   0,   0,   0,   0,   0,   0,   0,   0,   0,   0,\n",
       "          0,  46, 130, 183, 253, 253, 207,   2,   0,   0,   0,   0,   0,\n",
       "          0,   0],\n",
       "       [  0,   0,   0,   0,   0,   0,   0,   0,   0,   0,   0,   0,  39,\n",
       "        148, 229, 253, 253, 253, 250, 182,   0,   0,   0,   0,   0,   0,\n",
       "          0,   0],\n",
       "       [  0,   0,   0,   0,   0,   0,   0,   0,   0,   0,  24, 114, 221,\n",
       "        253, 253, 253, 253, 201,  78,   0,   0,   0,   0,   0,   0,   0,\n",
       "          0,   0],\n",
       "       [  0,   0,   0,   0,   0,   0,   0,   0,  23,  66, 213, 253, 253,\n",
       "        253, 253, 198,  81,   2,   0,   0,   0,   0,   0,   0,   0,   0,\n",
       "          0,   0],\n",
       "       [  0,   0,   0,   0,   0,   0,  18, 171, 219, 253, 253, 253, 253,\n",
       "        195,  80,   9,   0,   0,   0,   0,   0,   0,   0,   0,   0,   0,\n",
       "          0,   0],\n",
       "       [  0,   0,   0,   0,  55, 172, 226, 253, 253, 253, 253, 244, 133,\n",
       "         11,   0,   0,   0,   0,   0,   0,   0,   0,   0,   0,   0,   0,\n",
       "          0,   0],\n",
       "       [  0,   0,   0,   0, 136, 253, 253, 253, 212, 135, 132,  16,   0,\n",
       "          0,   0,   0,   0,   0,   0,   0,   0,   0,   0,   0,   0,   0,\n",
       "          0,   0],\n",
       "       [  0,   0,   0,   0,   0,   0,   0,   0,   0,   0,   0,   0,   0,\n",
       "          0,   0,   0,   0,   0,   0,   0,   0,   0,   0,   0,   0,   0,\n",
       "          0,   0],\n",
       "       [  0,   0,   0,   0,   0,   0,   0,   0,   0,   0,   0,   0,   0,\n",
       "          0,   0,   0,   0,   0,   0,   0,   0,   0,   0,   0,   0,   0,\n",
       "          0,   0],\n",
       "       [  0,   0,   0,   0,   0,   0,   0,   0,   0,   0,   0,   0,   0,\n",
       "          0,   0,   0,   0,   0,   0,   0,   0,   0,   0,   0,   0,   0,\n",
       "          0,   0]], dtype=uint8)"
      ]
     },
     "execution_count": 86,
     "metadata": {},
     "output_type": "execute_result"
    }
   ],
   "source": [
    "X_train[0]"
   ]
  },
  {
   "cell_type": "code",
   "execution_count": 87,
   "metadata": {},
   "outputs": [],
   "source": [
    "# Reshape the data\n",
    "X_train = X_train.reshape(60000, 784)\n",
    "X_test = X_test.reshape(10000, 784)"
   ]
  },
  {
   "cell_type": "code",
   "execution_count": 88,
   "metadata": {},
   "outputs": [],
   "source": [
    "# X Variable Types\n",
    "X_train = X_train.astype('float32')\n",
    "X_test = X_test.astype('float32')"
   ]
  },
  {
   "cell_type": "code",
   "execution_count": 89,
   "metadata": {},
   "outputs": [
    {
     "data": {
      "text/plain": [
       "4"
      ]
     },
     "execution_count": 89,
     "metadata": {},
     "output_type": "execute_result"
    }
   ],
   "source": [
    "y_train[2] "
   ]
  },
  {
   "cell_type": "code",
   "execution_count": 90,
   "metadata": {},
   "outputs": [
    {
     "data": {
      "text/plain": [
       "4"
      ]
     },
     "execution_count": 90,
     "metadata": {},
     "output_type": "execute_result"
    }
   ],
   "source": [
    "y_train[2]"
   ]
  },
  {
   "cell_type": "code",
   "execution_count": 91,
   "metadata": {},
   "outputs": [],
   "source": [
    "# Correct Encoding on Y\n",
    "# What softmax expects = [0,0,0,0,0,1,0,0,0,0]\n",
    "\n",
    "y_train = keras.utils.to_categorical(y_train, num_classes)\n",
    "y_test = keras.utils.to_categorical(y_test, num_classes)"
   ]
  },
  {
   "cell_type": "code",
   "execution_count": 92,
   "metadata": {},
   "outputs": [
    {
     "data": {
      "text/plain": [
       "array([0., 0., 0., 0., 1., 0., 0., 0., 0., 0.], dtype=float32)"
      ]
     },
     "execution_count": 92,
     "metadata": {},
     "output_type": "execute_result"
    }
   ],
   "source": [
    "y_train[2]"
   ]
  },
  {
   "cell_type": "code",
   "execution_count": 93,
   "metadata": {},
   "outputs": [
    {
     "name": "stdout",
     "output_type": "stream",
     "text": [
      "Model: \"sequential_5\"\n",
      "_________________________________________________________________\n",
      "Layer (type)                 Output Shape              Param #   \n",
      "=================================================================\n",
      "dense_74 (Dense)             (None, 16)                12560     \n",
      "_________________________________________________________________\n",
      "dense_75 (Dense)             (None, 16)                272       \n",
      "_________________________________________________________________\n",
      "dense_76 (Dense)             (None, 16)                272       \n",
      "_________________________________________________________________\n",
      "dense_77 (Dense)             (None, 16)                272       \n",
      "_________________________________________________________________\n",
      "dense_78 (Dense)             (None, 10)                170       \n",
      "=================================================================\n",
      "Total params: 13,546\n",
      "Trainable params: 13,546\n",
      "Non-trainable params: 0\n",
      "_________________________________________________________________\n"
     ]
    }
   ],
   "source": [
    "mnist_model = Sequential()\n",
    "\n",
    "# Input => Hidden\n",
    "mnist_model.add(Dense(16, input_dim=784, activation='relu'))\n",
    "# Hidden\n",
    "mnist_model.add(Dense(16, activation='relu'))\n",
    "# Hidden\n",
    "mnist_model.add(Dense(16, activation='relu'))\n",
    "# Hidden\n",
    "mnist_model.add(Dense(16, activation='relu'))\n",
    "# Output\n",
    "mnist_model.add(Dense(10,activation='softmax'))\n",
    "\n",
    "#Compile\n",
    "mnist_model.compile(loss='categorical_crossentropy',\n",
    "                    optimizer='adam',\n",
    "                    metrics=['accuracy'])\n",
    "\n",
    "mnist_model.summary()"
   ]
  },
  {
   "cell_type": "code",
   "execution_count": 94,
   "metadata": {},
   "outputs": [],
   "source": [
    "def neural_network(X):\n",
    "    \n",
    "    dense1 = Dense(8, activation='relu', input=X)\n",
    "    dense2 = Dense(8, activation='relu')(X)\n",
    "    \n",
    "    \n",
    "    return dense2 #or return model"
   ]
  },
  {
   "cell_type": "code",
   "execution_count": 95,
   "metadata": {},
   "outputs": [
    {
     "data": {
      "text/plain": [
       "12544"
      ]
     },
     "execution_count": 95,
     "metadata": {},
     "output_type": "execute_result"
    }
   ],
   "source": [
    "16 *  784"
   ]
  },
  {
   "cell_type": "code",
   "execution_count": 96,
   "metadata": {},
   "outputs": [
    {
     "data": {
      "text/plain": [
       "(10000, 10)"
      ]
     },
     "execution_count": 96,
     "metadata": {},
     "output_type": "execute_result"
    }
   ],
   "source": [
    "y_test.shape"
   ]
  },
  {
   "cell_type": "code",
   "execution_count": 97,
   "metadata": {},
   "outputs": [
    {
     "name": "stdout",
     "output_type": "stream",
     "text": [
      "10000/10000 [==============================] - 0s 34us/sample - loss: 0.2851 - accuracy: 0.9243\n",
      "accuracy: 92.43000149726868\n"
     ]
    }
   ],
   "source": [
    "history = mnist_model.fit(X_train, y_train, batch_size=32, epochs=100, verbose=False)\n",
    "scores = mnist_model.evaluate(X_test, y_test)\n",
    "print(f'{mnist_model.metrics_names[1]}: {scores[1]*100}')"
   ]
  },
  {
   "cell_type": "markdown",
   "metadata": {
    "colab_type": "text",
    "id": "CKmx8153w9Ci"
   },
   "source": [
    "### Dropout Regularization\n",
    "\n",
    "![Regularization](https://upload.wikimedia.org/wikipedia/commons/thumb/0/02/Regularization.svg/354px-Regularization.svg.png)"
   ]
  },
  {
   "cell_type": "code",
   "execution_count": null,
   "metadata": {},
   "outputs": [],
   "source": [
    "### Let's do it!\n",
    "from tensorflow import keras \n",
    "from tensorflow.keras.datasets import mnist\n",
    "from tensorflow.keras.models import Sequential\n",
    "from tensorflow.keras.layers import Dense, Dropout\n",
    "\n",
    "import numpy as np\n",
    "\n",
    "mnist_model = Sequential()\n",
    "\n",
    "# Hidden\n",
    "mnist_model.add(Dense(32, input_dim=784, activation='relu'))\n",
    "mnist_model.add(Dropout(0.2))\n",
    "mnist_model.add(Dense(16, activation='relu'))\n",
    "mnist_model.add(Dropout(0.2))\n",
    "# Output Layer\n",
    "mnist_model.add(Dense(10, activation='softmax'))\n",
    "\n",
    "mnist_model.compile(loss='categorical_crossentropy',\n",
    "                    optimizer='adam', \n",
    "                    metrics=['accuracy'])\n",
    "mnist_model.summary()"
   ]
  },
  {
   "cell_type": "code",
   "execution_count": null,
   "metadata": {},
   "outputs": [],
   "source": [
    "history = mnist_model.fit(X_train, y_train, batch_size=32, epochs=epochs, validation_split=.1, verbose=0)\n",
    "scores = mnist_model.evaluate(X_test, y_test)\n",
    "print(f'{mnist_model.metrics_names[1]}: {scores[1]*100}')"
   ]
  },
  {
   "cell_type": "markdown",
   "metadata": {},
   "source": [
    "## Challenge\n",
    "\n",
    "You will apply your choice of activation function inside two Keras Seqeuntial models today. "
   ]
  }
 ],
 "metadata": {
  "colab": {
   "collapsed_sections": [],
   "name": "LS_DS_433_Keras_Lecture.ipynb",
   "provenance": [],
   "version": "0.3.2"
  },
  "kernelspec": {
   "display_name": "Python 3",
   "language": "python",
   "name": "python3"
  },
  "language_info": {
   "codemirror_mode": {
    "name": "ipython",
    "version": 3
   },
   "file_extension": ".py",
   "mimetype": "text/x-python",
   "name": "python",
   "nbconvert_exporter": "python",
   "pygments_lexer": "ipython3",
   "version": "3.7.4"
  },
  "toc-autonumbering": false,
  "toc-showmarkdowntxt": false
 },
 "nbformat": 4,
 "nbformat_minor": 4
}
