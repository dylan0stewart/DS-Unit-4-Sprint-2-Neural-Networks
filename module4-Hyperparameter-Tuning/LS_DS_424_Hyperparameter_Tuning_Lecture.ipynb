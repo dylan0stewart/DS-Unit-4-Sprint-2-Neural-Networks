{
 "cells": [
  {
   "cell_type": "markdown",
   "metadata": {
    "colab_type": "text",
    "id": "41TS0Sa0rDNx"
   },
   "source": [
    "Lambda School Data Science\n",
    "\n",
    "*Unit 4, Sprint 2, Module 4*\n",
    "\n",
    "---"
   ]
  },
  {
   "cell_type": "markdown",
   "metadata": {
    "colab_type": "text",
    "id": "41TS0Sa0rDNx"
   },
   "source": [
    "# Neural Networks & GPUs (Prepare)\n",
    "*aka Hyperparameter Tuning*\n",
    "\n",
    "*aka Big Servers for Big Problems*"
   ]
  },
  {
   "cell_type": "markdown",
   "metadata": {
    "colab_type": "text",
    "id": "41TS0Sa0rDNx"
   },
   "source": [
    "## Learning Objectives\n",
    "* <a href=\"#p1\">Part 1</a>: Describe the major hyperparemeters to tune\n",
    "* <a href=\"#p2\">Part 2</a>: Implement an experiment tracking framework\n",
    "* <a href=\"#p3\">Part 3</a>: Search the hyperparameter space using RandomSearch (Optional)"
   ]
  },
  {
   "cell_type": "code",
   "execution_count": 1,
   "metadata": {},
   "outputs": [],
   "source": [
    "wandb_group = \"ds8\"\n",
    "wandb_project = \"inclass\""
   ]
  },
  {
   "cell_type": "markdown",
   "metadata": {},
   "source": [
    "# Hyperparameter Options (Learn)\n",
    "<a id=\"p1\"></a>"
   ]
  },
  {
   "cell_type": "markdown",
   "metadata": {},
   "source": [
    "## Overview\n",
    "\n",
    "Hyperparameter tuning is much more important with neural networks than it has been with any other models that we have considered up to this point. Other supervised learning models might have a couple of parameters, but neural networks can have dozens. These can substantially affect the accuracy of our models and although it can be a time consuming process is a necessary step when working with neural networks.\n",
    "​\n",
    "Hyperparameter tuning comes with a challenge. How can we compare models specified with different hyperparameters if our model's final error metric can vary somewhat erratically? How do we avoid just getting unlucky and selecting the wrong hyperparameter? This is a problem that to a certain degree we just have to live with as we test and test again. However, we can minimize it somewhat by pairing our experiments with Cross Validation to reduce the variance of our final accuracy values."
   ]
  },
  {
   "cell_type": "markdown",
   "metadata": {
    "colab_type": "text",
    "id": "0s0o2pqBs88q"
   },
   "source": [
    "### Load Boston Housing Data"
   ]
  },
  {
   "cell_type": "code",
   "execution_count": 3,
   "metadata": {},
   "outputs": [],
   "source": [
    "from tensorflow.keras.datasets import boston_housing\n",
    "\n",
    "(x_train, y_train), (x_test, y_test) = boston_housing.load_data()"
   ]
  },
  {
   "cell_type": "markdown",
   "metadata": {
    "colab_type": "text",
    "id": "Pm7zow5IvaTt"
   },
   "source": [
    "### Normalizing Input Data\n",
    "\n",
    "It's not 100% necessary to normalize/scale your input data before feeding it to a neural network, the network can learn the appropriate weights to deal with data of as long as it is numerically represented,  but it is recommended as it can help **make training faster** and **reduces the chances that gradient descent might get stuck in a local optimum**.\n",
    "\n",
    "<https://stackoverflow.com/questions/4674623/why-do-we-have-to-normalize-the-input-for-an-artificial-neural-network>"
   ]
  },
  {
   "cell_type": "code",
   "execution_count": 4,
   "metadata": {},
   "outputs": [
    {
     "name": "stdout",
     "output_type": "stream",
     "text": [
      "[[-0.27224633 -0.48361547 -0.43576161 -0.25683275 -0.1652266  -0.1764426\n",
      "   0.81306188  0.1166983  -0.62624905 -0.59517003  1.14850044  0.44807713\n",
      "   0.8252202 ]\n",
      " [-0.40342651  2.99178419 -1.33391162 -0.25683275 -1.21518188  1.89434613\n",
      "  -1.91036058  1.24758524 -0.85646254 -0.34843254 -1.71818909  0.43190599\n",
      "  -1.32920239]\n",
      " [ 0.1249402  -0.48361547  1.0283258  -0.25683275  0.62864202 -1.82968811\n",
      "   1.11048828 -1.18743907  1.67588577  1.5652875   0.78447637  0.22061726\n",
      "  -1.30850006]\n",
      " [-0.40149354 -0.48361547 -0.86940196 -0.25683275 -0.3615597  -0.3245576\n",
      "  -1.23667187  1.10717989 -0.51114231 -1.094663    0.78447637  0.44807713\n",
      "  -0.65292624]\n",
      " [-0.0056343  -0.48361547  1.0283258  -0.25683275  1.32861221  0.15364225\n",
      "   0.69480801 -0.57857203  1.67588577  1.5652875   0.78447637  0.3898823\n",
      "   0.26349695]\n",
      " [-0.37502238 -0.48361547 -0.54747912 -0.25683275 -0.54935658 -0.78865126\n",
      "   0.18954148  0.48371503 -0.51114231 -0.71552978  0.51145832  0.38669063\n",
      "  -0.13812828]\n",
      " [ 0.58963463 -0.48361547  1.0283258  -0.25683275  1.21764133 -1.03127774\n",
      "   1.11048828 -1.06518235  1.67588577  1.5652875   0.78447637  0.44807713\n",
      "   1.49873604]\n",
      " [ 0.0381708  -0.48361547  1.24588095 -0.25683275  2.67733525 -1.12719983\n",
      "   1.11048828 -1.14833073 -0.51114231 -0.01744323 -1.71818909  0.44807713\n",
      "   1.88793986]\n",
      " [-0.17228416 -0.48361547  1.24588095 -0.25683275  2.67733525 -0.90150078\n",
      "   1.11048828 -1.09664657 -0.51114231 -0.01744323 -1.71818909 -1.97365769\n",
      "   0.53952803]\n",
      " [-0.22932104 -0.48361547  1.58544339 -0.25683275  0.56888847 -1.76056777\n",
      "   1.11048828 -1.13471925 -0.62624905  0.18716835  1.23950646  0.44807713\n",
      "   2.99068404]]\n"
     ]
    }
   ],
   "source": [
    "from sklearn.preprocessing import StandardScaler\n",
    "\n",
    "scaler = StandardScaler()\n",
    "\n",
    "x_train = scaler.fit_transform(x_train)\n",
    "x_test = scaler.transform(x_test)\n",
    "print(x_train[:10])"
   ]
  },
  {
   "cell_type": "markdown",
   "metadata": {
    "colab_type": "text",
    "id": "l6hgCWbir90R"
   },
   "source": [
    "### Model Validation using an automatic verification Dataset\n",
    "\n",
    "Instead of doing seperate train test split class, Keras has a really nice feature that you can set the validation.data argument when fitting your model and Keras will take that portion of your test data and use it as a validation dataset. "
   ]
  },
  {
   "cell_type": "code",
   "execution_count": 5,
   "metadata": {
    "colab": {
     "base_uri": "https://localhost:8080/",
     "height": 1750
    },
    "colab_type": "code",
    "id": "GMXVfmzXp1Oo",
    "outputId": "b05e251e-508f-46e6-865b-f869ae2a5dc4"
   },
   "outputs": [
    {
     "name": "stdout",
     "output_type": "stream",
     "text": [
      "Train on 404 samples, validate on 102 samples\n",
      "Epoch 1/75\n",
      "404/404 [==============================] - 0s 1ms/sample - loss: 507.7091 - mse: 507.7090 - mae: 20.3634 - val_loss: 426.9547 - val_mse: 426.9547 - val_mae: 18.4208\n",
      "Epoch 2/75\n",
      "404/404 [==============================] - 0s 205us/sample - loss: 256.9884 - mse: 256.9884 - mae: 13.5340 - val_loss: 106.3865 - val_mse: 106.3865 - val_mae: 8.9428\n",
      "Epoch 3/75\n",
      "404/404 [==============================] - 0s 225us/sample - loss: 54.3487 - mse: 54.3487 - mae: 5.4886 - val_loss: 32.4865 - val_mse: 32.4865 - val_mae: 4.5770\n",
      "Epoch 4/75\n",
      "404/404 [==============================] - 0s 228us/sample - loss: 27.6369 - mse: 27.6369 - mae: 3.7288 - val_loss: 26.6257 - val_mse: 26.6257 - val_mae: 4.0145\n",
      "Epoch 5/75\n",
      "404/404 [==============================] - 0s 220us/sample - loss: 22.0352 - mse: 22.0352 - mae: 3.3883 - val_loss: 24.8551 - val_mse: 24.8552 - val_mae: 3.8195\n",
      "Epoch 6/75\n",
      "404/404 [==============================] - 0s 228us/sample - loss: 19.3214 - mse: 19.3214 - mae: 3.1142 - val_loss: 23.8226 - val_mse: 23.8226 - val_mae: 3.6988\n",
      "Epoch 7/75\n",
      "404/404 [==============================] - 0s 220us/sample - loss: 17.5861 - mse: 17.5861 - mae: 2.9929 - val_loss: 24.2517 - val_mse: 24.2517 - val_mae: 3.6656\n",
      "Epoch 8/75\n",
      "404/404 [==============================] - 0s 203us/sample - loss: 16.2669 - mse: 16.2669 - mae: 2.9000 - val_loss: 24.2651 - val_mse: 24.2651 - val_mae: 3.6321\n",
      "Epoch 9/75\n",
      "404/404 [==============================] - 0s 225us/sample - loss: 15.0246 - mse: 15.0246 - mae: 2.7867 - val_loss: 22.5821 - val_mse: 22.5821 - val_mae: 3.4352\n",
      "Epoch 10/75\n",
      "404/404 [==============================] - 0s 193us/sample - loss: 14.0367 - mse: 14.0367 - mae: 2.6846 - val_loss: 23.7128 - val_mse: 23.7128 - val_mae: 3.4865\n",
      "Epoch 11/75\n",
      "404/404 [==============================] - 0s 163us/sample - loss: 13.3936 - mse: 13.3936 - mae: 2.6309 - val_loss: 23.3635 - val_mse: 23.3635 - val_mae: 3.4370\n",
      "Epoch 12/75\n",
      "404/404 [==============================] - 0s 166us/sample - loss: 12.5320 - mse: 12.5320 - mae: 2.5608 - val_loss: 23.2658 - val_mse: 23.2658 - val_mae: 3.3570\n",
      "Epoch 13/75\n",
      "404/404 [==============================] - 0s 186us/sample - loss: 11.9970 - mse: 11.9970 - mae: 2.4660 - val_loss: 22.8869 - val_mse: 22.8869 - val_mae: 3.2973\n",
      "Epoch 14/75\n",
      "404/404 [==============================] - 0s 168us/sample - loss: 11.6773 - mse: 11.6773 - mae: 2.4712 - val_loss: 23.7416 - val_mse: 23.7416 - val_mae: 3.3228\n",
      "Epoch 15/75\n",
      "404/404 [==============================] - 0s 203us/sample - loss: 11.1049 - mse: 11.1049 - mae: 2.3802 - val_loss: 22.6889 - val_mse: 22.6889 - val_mae: 3.2282\n",
      "Epoch 16/75\n",
      "404/404 [==============================] - 0s 163us/sample - loss: 10.8064 - mse: 10.8064 - mae: 2.3594 - val_loss: 22.5639 - val_mse: 22.5639 - val_mae: 3.2066\n",
      "Epoch 17/75\n",
      "404/404 [==============================] - 0s 191us/sample - loss: 10.4634 - mse: 10.4634 - mae: 2.3495 - val_loss: 25.1876 - val_mse: 25.1876 - val_mae: 3.3717\n",
      "Epoch 18/75\n",
      "404/404 [==============================] - 0s 205us/sample - loss: 10.1839 - mse: 10.1839 - mae: 2.3082 - val_loss: 22.3495 - val_mse: 22.3495 - val_mae: 3.1271\n",
      "Epoch 19/75\n",
      "404/404 [==============================] - 0s 188us/sample - loss: 10.1981 - mse: 10.1981 - mae: 2.3012 - val_loss: 21.7859 - val_mse: 21.7859 - val_mae: 3.0725\n",
      "Epoch 20/75\n",
      "404/404 [==============================] - 0s 196us/sample - loss: 10.0764 - mse: 10.0764 - mae: 2.3071 - val_loss: 22.4350 - val_mse: 22.4350 - val_mae: 3.1306\n",
      "Epoch 21/75\n",
      "404/404 [==============================] - 0s 186us/sample - loss: 9.8176 - mse: 9.8176 - mae: 2.2677 - val_loss: 22.5454 - val_mse: 22.5454 - val_mae: 3.1113\n",
      "Epoch 22/75\n",
      "404/404 [==============================] - 0s 176us/sample - loss: 9.5058 - mse: 9.5058 - mae: 2.2135 - val_loss: 22.1667 - val_mse: 22.1667 - val_mae: 3.1033\n",
      "Epoch 23/75\n",
      "404/404 [==============================] - 0s 193us/sample - loss: 9.7305 - mse: 9.7305 - mae: 2.2555 - val_loss: 21.7514 - val_mse: 21.7514 - val_mae: 3.1240\n",
      "Epoch 24/75\n",
      "404/404 [==============================] - 0s 166us/sample - loss: 9.1781 - mse: 9.1781 - mae: 2.1692 - val_loss: 23.1678 - val_mse: 23.1678 - val_mae: 3.1427\n",
      "Epoch 25/75\n",
      "404/404 [==============================] - 0s 163us/sample - loss: 9.6184 - mse: 9.6184 - mae: 2.2674 - val_loss: 22.8964 - val_mse: 22.8964 - val_mae: 3.0964\n",
      "Epoch 26/75\n",
      "404/404 [==============================] - 0s 166us/sample - loss: 9.3282 - mse: 9.3282 - mae: 2.2679 - val_loss: 22.6074 - val_mse: 22.6074 - val_mae: 3.0230\n",
      "Epoch 27/75\n",
      "404/404 [==============================] - 0s 193us/sample - loss: 8.9916 - mse: 8.9916 - mae: 2.1584 - val_loss: 22.2104 - val_mse: 22.2104 - val_mae: 2.9841\n",
      "Epoch 28/75\n",
      "404/404 [==============================] - 0s 163us/sample - loss: 9.0885 - mse: 9.0885 - mae: 2.1703 - val_loss: 21.7229 - val_mse: 21.7229 - val_mae: 2.9437\n",
      "Epoch 29/75\n",
      "404/404 [==============================] - 0s 193us/sample - loss: 8.7736 - mse: 8.7736 - mae: 2.1361 - val_loss: 21.7585 - val_mse: 21.7585 - val_mae: 2.9630\n",
      "Epoch 30/75\n",
      "404/404 [==============================] - 0s 171us/sample - loss: 8.5250 - mse: 8.5250 - mae: 2.1284 - val_loss: 20.7452 - val_mse: 20.7452 - val_mae: 2.8865\n",
      "Epoch 31/75\n",
      "404/404 [==============================] - 0s 186us/sample - loss: 8.5885 - mse: 8.5885 - mae: 2.1236 - val_loss: 21.4387 - val_mse: 21.4387 - val_mae: 2.9751\n",
      "Epoch 32/75\n",
      "404/404 [==============================] - 0s 205us/sample - loss: 8.9257 - mse: 8.9257 - mae: 2.1768 - val_loss: 20.3620 - val_mse: 20.3620 - val_mae: 2.9035\n",
      "Epoch 33/75\n",
      "404/404 [==============================] - 0s 208us/sample - loss: 8.3427 - mse: 8.3427 - mae: 2.0975 - val_loss: 20.6248 - val_mse: 20.6248 - val_mae: 3.0153\n",
      "Epoch 34/75\n",
      "404/404 [==============================] - 0s 171us/sample - loss: 8.3649 - mse: 8.3649 - mae: 2.0923 - val_loss: 21.8397 - val_mse: 21.8397 - val_mae: 2.9297\n",
      "Epoch 35/75\n",
      "404/404 [==============================] - 0s 192us/sample - loss: 8.2720 - mse: 8.2720 - mae: 2.0693 - val_loss: 20.4275 - val_mse: 20.4275 - val_mae: 2.8406\n",
      "Epoch 36/75\n",
      "404/404 [==============================] - 0s 205us/sample - loss: 7.9768 - mse: 7.9768 - mae: 2.0537 - val_loss: 20.3918 - val_mse: 20.3918 - val_mae: 2.9546\n",
      "Epoch 37/75\n",
      "404/404 [==============================] - 0s 191us/sample - loss: 8.0589 - mse: 8.0589 - mae: 2.0246 - val_loss: 20.1589 - val_mse: 20.1589 - val_mae: 2.8728\n",
      "Epoch 38/75\n",
      "404/404 [==============================] - 0s 208us/sample - loss: 7.9601 - mse: 7.9601 - mae: 2.0366 - val_loss: 20.2157 - val_mse: 20.2157 - val_mae: 2.9148\n",
      "Epoch 39/75\n",
      "404/404 [==============================] - 0s 181us/sample - loss: 7.8259 - mse: 7.8259 - mae: 2.0006 - val_loss: 23.3224 - val_mse: 23.3224 - val_mae: 3.1506\n",
      "Epoch 40/75\n",
      "404/404 [==============================] - 0s 156us/sample - loss: 7.9496 - mse: 7.9496 - mae: 2.0141 - val_loss: 21.8039 - val_mse: 21.8039 - val_mae: 3.0086\n",
      "Epoch 41/75\n",
      "404/404 [==============================] - 0s 163us/sample - loss: 7.7354 - mse: 7.7354 - mae: 1.9866 - val_loss: 20.1835 - val_mse: 20.1835 - val_mae: 2.8014\n",
      "Epoch 42/75\n",
      "404/404 [==============================] - 0s 183us/sample - loss: 7.5411 - mse: 7.5411 - mae: 1.9787 - val_loss: 18.9576 - val_mse: 18.9576 - val_mae: 2.7796\n",
      "Epoch 43/75\n",
      "404/404 [==============================] - 0s 181us/sample - loss: 7.4747 - mse: 7.4747 - mae: 1.9731 - val_loss: 19.2336 - val_mse: 19.2336 - val_mae: 2.7739\n",
      "Epoch 44/75\n",
      "404/404 [==============================] - 0s 192us/sample - loss: 7.6702 - mse: 7.6702 - mae: 2.0161 - val_loss: 19.8419 - val_mse: 19.8419 - val_mae: 2.8727\n",
      "Epoch 45/75\n",
      "404/404 [==============================] - 0s 191us/sample - loss: 7.2534 - mse: 7.2534 - mae: 1.9483 - val_loss: 19.9128 - val_mse: 19.9128 - val_mae: 2.7807\n",
      "Epoch 46/75\n",
      "404/404 [==============================] - 0s 208us/sample - loss: 7.6709 - mse: 7.6709 - mae: 1.9986 - val_loss: 20.4885 - val_mse: 20.4885 - val_mae: 2.8457\n",
      "Epoch 47/75\n",
      "404/404 [==============================] - 0s 161us/sample - loss: 7.7226 - mse: 7.7226 - mae: 2.0018 - val_loss: 21.0101 - val_mse: 21.0101 - val_mae: 2.9781\n",
      "Epoch 48/75\n",
      "404/404 [==============================] - 0s 166us/sample - loss: 7.1772 - mse: 7.1772 - mae: 1.9287 - val_loss: 17.5907 - val_mse: 17.5907 - val_mae: 2.6643\n",
      "Epoch 49/75\n",
      "404/404 [==============================] - 0s 168us/sample - loss: 7.1118 - mse: 7.1118 - mae: 1.9456 - val_loss: 19.3413 - val_mse: 19.3413 - val_mae: 2.7788\n",
      "Epoch 50/75\n",
      "404/404 [==============================] - 0s 186us/sample - loss: 7.1140 - mse: 7.1140 - mae: 1.9249 - val_loss: 20.5066 - val_mse: 20.5066 - val_mae: 2.8709\n",
      "Epoch 51/75\n",
      "404/404 [==============================] - 0s 166us/sample - loss: 7.0934 - mse: 7.0934 - mae: 1.9026 - val_loss: 20.7540 - val_mse: 20.7540 - val_mae: 2.8470\n",
      "Epoch 52/75\n",
      "404/404 [==============================] - 0s 183us/sample - loss: 7.0207 - mse: 7.0207 - mae: 1.9068 - val_loss: 19.3910 - val_mse: 19.3910 - val_mae: 2.8267\n",
      "Epoch 53/75\n",
      "404/404 [==============================] - 0s 188us/sample - loss: 6.7728 - mse: 6.7728 - mae: 1.8708 - val_loss: 17.6867 - val_mse: 17.6867 - val_mae: 2.6692\n",
      "Epoch 54/75\n",
      "404/404 [==============================] - 0s 181us/sample - loss: 6.7816 - mse: 6.7816 - mae: 1.8590 - val_loss: 18.8862 - val_mse: 18.8862 - val_mae: 2.8051\n",
      "Epoch 55/75\n",
      "404/404 [==============================] - 0s 167us/sample - loss: 6.7900 - mse: 6.7900 - mae: 1.8735 - val_loss: 16.7665 - val_mse: 16.7665 - val_mae: 2.5738\n",
      "Epoch 56/75\n",
      "404/404 [==============================] - 0s 177us/sample - loss: 6.7023 - mse: 6.7023 - mae: 1.8747 - val_loss: 17.3174 - val_mse: 17.3174 - val_mae: 2.7120\n",
      "Epoch 57/75\n",
      "404/404 [==============================] - 0s 178us/sample - loss: 6.7268 - mse: 6.7268 - mae: 1.8431 - val_loss: 17.6435 - val_mse: 17.6435 - val_mae: 2.6461\n",
      "Epoch 58/75\n",
      "404/404 [==============================] - 0s 181us/sample - loss: 7.0046 - mse: 7.0046 - mae: 1.8949 - val_loss: 18.6629 - val_mse: 18.6629 - val_mae: 2.7825\n",
      "Epoch 59/75\n",
      "404/404 [==============================] - 0s 200us/sample - loss: 6.5757 - mse: 6.5757 - mae: 1.8210 - val_loss: 17.8825 - val_mse: 17.8826 - val_mae: 2.7372\n",
      "Epoch 60/75\n",
      "404/404 [==============================] - 0s 208us/sample - loss: 6.3822 - mse: 6.3822 - mae: 1.8398 - val_loss: 16.8547 - val_mse: 16.8547 - val_mae: 2.6563\n",
      "Epoch 61/75\n",
      "404/404 [==============================] - 0s 193us/sample - loss: 6.4296 - mse: 6.4296 - mae: 1.8330 - val_loss: 16.8793 - val_mse: 16.8793 - val_mae: 2.6211\n",
      "Epoch 62/75\n",
      "404/404 [==============================] - 0s 193us/sample - loss: 6.5165 - mse: 6.5165 - mae: 1.8523 - val_loss: 17.5839 - val_mse: 17.5839 - val_mae: 2.7375\n",
      "Epoch 63/75\n",
      "404/404 [==============================] - 0s 193us/sample - loss: 6.3401 - mse: 6.3401 - mae: 1.7765 - val_loss: 18.1548 - val_mse: 18.1548 - val_mae: 2.7188\n",
      "Epoch 64/75\n",
      "404/404 [==============================] - 0s 183us/sample - loss: 6.5050 - mse: 6.5050 - mae: 1.8493 - val_loss: 17.6989 - val_mse: 17.6989 - val_mae: 2.7358\n",
      "Epoch 65/75\n",
      "404/404 [==============================] - 0s 188us/sample - loss: 6.3717 - mse: 6.3717 - mae: 1.8249 - val_loss: 16.0391 - val_mse: 16.0391 - val_mae: 2.5582\n",
      "Epoch 66/75\n",
      "404/404 [==============================] - 0s 186us/sample - loss: 6.1185 - mse: 6.1185 - mae: 1.7783 - val_loss: 17.0709 - val_mse: 17.0709 - val_mae: 2.6681\n",
      "Epoch 67/75\n",
      "404/404 [==============================] - 0s 163us/sample - loss: 6.0491 - mse: 6.0491 - mae: 1.7822 - val_loss: 18.1096 - val_mse: 18.1096 - val_mae: 2.8730\n",
      "Epoch 68/75\n",
      "404/404 [==============================] - 0s 166us/sample - loss: 6.2606 - mse: 6.2606 - mae: 1.8134 - val_loss: 16.9922 - val_mse: 16.9922 - val_mae: 2.5745\n",
      "Epoch 69/75\n",
      "404/404 [==============================] - 0s 208us/sample - loss: 5.9244 - mse: 5.9244 - mae: 1.7502 - val_loss: 16.4381 - val_mse: 16.4381 - val_mae: 2.5935\n",
      "Epoch 70/75\n",
      "404/404 [==============================] - 0s 211us/sample - loss: 5.8084 - mse: 5.8084 - mae: 1.7379 - val_loss: 17.5640 - val_mse: 17.5640 - val_mae: 2.7420\n",
      "Epoch 71/75\n",
      "404/404 [==============================] - 0s 193us/sample - loss: 5.7143 - mse: 5.7143 - mae: 1.7584 - val_loss: 15.7228 - val_mse: 15.7228 - val_mae: 2.5526\n",
      "Epoch 72/75\n",
      "404/404 [==============================] - 0s 230us/sample - loss: 5.7376 - mse: 5.7376 - mae: 1.7330 - val_loss: 17.4855 - val_mse: 17.4855 - val_mae: 2.7066\n",
      "Epoch 73/75\n",
      "404/404 [==============================] - 0s 168us/sample - loss: 5.8848 - mse: 5.8848 - mae: 1.7319 - val_loss: 16.5765 - val_mse: 16.5765 - val_mae: 2.6397\n",
      "Epoch 74/75\n",
      "404/404 [==============================] - 0s 196us/sample - loss: 5.4709 - mse: 5.4709 - mae: 1.7052 - val_loss: 15.8135 - val_mse: 15.8135 - val_mae: 2.6220\n",
      "Epoch 75/75\n",
      "404/404 [==============================] - 0s 153us/sample - loss: 5.4749 - mse: 5.4749 - mae: 1.6632 - val_loss: 15.5588 - val_mse: 15.5588 - val_mae: 2.4818\n"
     ]
    },
    {
     "data": {
      "text/plain": [
       "<tensorflow.python.keras.callbacks.History at 0x1a1bf538388>"
      ]
     },
     "execution_count": 5,
     "metadata": {},
     "output_type": "execute_result"
    }
   ],
   "source": [
    "from tensorflow import keras\n",
    "from tensorflow.keras.models import Sequential\n",
    "from tensorflow.keras.layers import Dense\n",
    "\n",
    "# Important Hyperparameters\n",
    "inputs = x_train.shape[1]\n",
    "epochs = 75\n",
    "batch_size = 10\n",
    "\n",
    "\n",
    "# Create Model\n",
    "model = Sequential()\n",
    "model.add(Dense(64, activation='relu', input_shape=(inputs,)))\n",
    "model.add(Dense(64, activation='relu'))\n",
    "model.add(Dense(1))\n",
    "\n",
    "# Compile Model\n",
    "model.compile(optimizer='adam', loss='mse', metrics=['mse', 'mae'])\n",
    "\n",
    "# Fit Model\n",
    "model.fit(x_train, y_train, \n",
    "          validation_data=(x_test,y_test), \n",
    "          epochs=epochs, \n",
    "          batch_size=batch_size\n",
    "         )"
   ]
  },
  {
   "cell_type": "markdown",
   "metadata": {
    "colab_type": "text",
    "id": "sYJ8t_ezHP4W"
   },
   "source": [
    "### Hyperparameter Tuning Approaches:\n",
    "\n",
    "#### 1) Babysitting AKA \"Grad Student Descent\".\n",
    "\n",
    "If you fiddled with any hyperparameters yesterday, this is basically what you did. This approach is 100% manual and is pretty common among researchers where finding that 1 exact specification that jumps your model to a level of accuracy never seen before is the difference between publishing and not publishing a paper. Of course the professors don't do this themselves, that's grunt work. This is also known as the fiddle with hyperparameters until you run out of time method.\n",
    "\n",
    "#### 2) Grid Search\n",
    "\n",
    "Grid Search is the Grad Student galaxy brain realization of: why don't I just specify all the experiments I want to run and let the computer try every possible combination of them while I go and grab lunch. This has a specific downside in that if I specify 5 hyperparameters with 5 options each then I've just created 5^5 combinations of hyperparameters to check. Which means that I have to train 3125 different versions of my model Then if I use 5-fold Cross Validation on that then my model has to run 15,525 times. This is the brute-force method of hyperparameter tuning, but it can be very profitable if done wisely. \n",
    "\n",
    "When using Grid Search here's what I suggest: don't use it to test combinations of different hyperparameters, only use it to test different specifications of **a single** hyperparameter. It's rare that combinations between different hyperparameters lead to big performance gains. You'll get 90-95% of the way there if you just Grid Search one parameter and take the best result, then retain that best result while you test another, and then retain the best specification from that while you train another. This at least makes the situation much more manageable and leads to pretty good results. \n",
    "\n",
    "#### 3) Random Search\n",
    "\n",
    "Do Grid Search for a couple of hours and you'll say to yourself - \"There's got to be a better way.\" Enter Random Search. For Random search you specify a hyperparameter space and it picks specifications from that randomly, tries them out, gives you the best results and says - That's going to have to be good enough, go home and spend time with your family. \n",
    "\n",
    "Grid Search treats every parameter as if it was equally important, but this just isn't the case, some are known to move the needle a lot more than others (we'll talk about that in a minute). Random Search allows searching to be specified along the most important parameter and experiments less along the dimensions of less important hyperparameters. The downside of Random search is that it won't find the absolute best hyperparameters, but it is much less costly to perform than Grid Search. \n",
    "\n",
    "#### 4) Bayesian Methods\n",
    "\n",
    "One thing that can make more manual methods like babysitting and gridsearch effective is that as the experimenter sees results he can then make updates to his future searches taking into account the results of past specifications. If only we could hyperparameter tune our hyperparameter tuning. Well, we kind of can. Enter Bayesian Optimization. Neural Networks are like an optimization problem within an optimization problem, and Bayesian Optimization is a search strategy that tries to take into account the results of past searches in order to improve future ones. This is the most advanced method but can be a little bit tricky to implement, but there are some early steps with `hyperas` which is Bayesian optimization wrapper for `keras`. "
   ]
  },
  {
   "cell_type": "markdown",
   "metadata": {
    "colab_type": "text",
    "id": "HfQ7D043OMMn"
   },
   "source": [
    "## What Hyperparameters are there to test?\n",
    "\n",
    "- batch_size\n",
    "- training epochs\n",
    "- optimization algorithms\n",
    "- learning rate\n",
    "- momentum\n",
    "- activation functions\n",
    "- dropout regularization\n",
    "- number of neurons in the hidden layer\n",
    "\n",
    "There are more, but these are the most important."
   ]
  },
  {
   "cell_type": "markdown",
   "metadata": {},
   "source": [
    "## Follow Along"
   ]
  },
  {
   "cell_type": "markdown",
   "metadata": {
    "colab_type": "text",
    "id": "Mri5-kXzVKAa"
   },
   "source": [
    "## Batch Size\n",
    "\n",
    "Batch size determines how many observations the model is shown before it calculates loss/error and updates the model weights via gradient descent. You're looking for a sweet spot here where you're showing it enough observations that you have enough information to updates the weights, but not such a large batch size that you don't get a lot of weight update iterations performed in a given epoch. Feed-forward Neural Networks aren't as sensitive to bach_size as other networks, but it is still an important hyperparameter to tune. Smaller batch sizes will also take longer to train. "
   ]
  },
  {
   "cell_type": "code",
   "execution_count": 6,
   "metadata": {
    "colab": {
     "base_uri": "https://localhost:8080/",
     "height": 13561
    },
    "colab_type": "code",
    "id": "2smXfriNAGn7",
    "outputId": "ae996575-78e2-43fb-9dbe-5d44aaf0b430"
   },
   "outputs": [
    {
     "name": "stdout",
     "output_type": "stream",
     "text": [
      "Best: 0.6615482568740845 using {'batch_size': 10, 'epochs': 20}\n",
      "Means: 0.6615482568740845, Stdev: 0.04387017394776617 with: {'batch_size': 10, 'epochs': 20}\n",
      "Means: 0.6471946358680725, Stdev: 0.050710719436528676 with: {'batch_size': 20, 'epochs': 20}\n",
      "Means: 0.6211951494216919, Stdev: 0.054220960333549034 with: {'batch_size': 40, 'epochs': 20}\n",
      "Means: 0.5717341542243958, Stdev: 0.06440496888757774 with: {'batch_size': 60, 'epochs': 20}\n",
      "Means: 0.5624819695949554, Stdev: 0.04522985434079598 with: {'batch_size': 80, 'epochs': 20}\n",
      "Means: 0.576844084262848, Stdev: 0.05859901121845465 with: {'batch_size': 100, 'epochs': 20}\n"
     ]
    }
   ],
   "source": [
    "import numpy\n",
    "import pandas as pd\n",
    "from sklearn.model_selection import GridSearchCV\n",
    "from tensorflow.keras.models import Sequential\n",
    "from tensorflow.keras.layers import Dense\n",
    "from tensorflow.keras.wrappers.scikit_learn import KerasClassifier\n",
    "\n",
    "# fix random seed for reproducibility\n",
    "seed = 7\n",
    "numpy.random.seed(seed)\n",
    "\n",
    "# load dataset\n",
    "url =\"https://raw.githubusercontent.com/jbrownlee/Datasets/master/pima-indians-diabetes.data.csv\"\n",
    "\n",
    "dataset = pd.read_csv(url, header=None).values\n",
    "\n",
    "# split into input (X) and output (Y) variables\n",
    "X = dataset[:,0:8]\n",
    "Y = dataset[:,8]\n",
    "\n",
    "# Function to create model, required for KerasClassifier\n",
    "def create_model():\n",
    "    # create model\n",
    "    model = Sequential()\n",
    "    model.add(Dense(12, input_dim=8, activation='relu'))\n",
    "    model.add(Dense(1, activation='sigmoid'))\n",
    "    # Compile model\n",
    "    model.compile(loss='binary_crossentropy', optimizer='adam', metrics=['accuracy'])\n",
    "    return model\n",
    "\n",
    "# create model\n",
    "model = KerasClassifier(build_fn=create_model, verbose=0)\n",
    "\n",
    "# define the grid search parameters\n",
    "# batch_size = [10, 20, 40, 60, 80, 100]\n",
    "# param_grid = dict(batch_size=batch_size, epochs=epochs)\n",
    "\n",
    "# define the grid search parameters\n",
    "param_grid = {'batch_size': [10, 20, 40, 60, 80, 100],\n",
    "              'epochs': [20]}\n",
    "\n",
    "# Create Grid Search\n",
    "grid = GridSearchCV(estimator=model, param_grid=param_grid, n_jobs=1)\n",
    "grid_result = grid.fit(X, Y)\n",
    "\n",
    "# Report Results\n",
    "print(f\"Best: {grid_result.best_score_} using {grid_result.best_params_}\")\n",
    "means = grid_result.cv_results_['mean_test_score']\n",
    "stds = grid_result.cv_results_['std_test_score']\n",
    "params = grid_result.cv_results_['params']\n",
    "for mean, stdev, param in zip(means, stds, params):\n",
    "    print(f\"Means: {mean}, Stdev: {stdev} with: {param}\") "
   ]
  },
  {
   "cell_type": "markdown",
   "metadata": {
    "colab_type": "text",
    "id": "pmABfjlvXbqi"
   },
   "source": [
    "## Epochs\n",
    "\n",
    "The number of training epochs has a large and direct affect on the accuracy, However, more epochs is almost always goign to better than less epochs. This means that if you tune this parameter at the beginning and try and maintain the same value all throughout your training, you're going to be waiting a long time for each iteration of GridSearch. I suggest picking a fixed moderat # of epochs all throughout your training and then Grid Searching this parameter at the very end. "
   ]
  },
  {
   "cell_type": "code",
   "execution_count": 7,
   "metadata": {
    "colab": {
     "base_uri": "https://localhost:8080/",
     "height": 26329
    },
    "colab_type": "code",
    "id": "bAmxP3N7TmFh",
    "outputId": "3ddb08c4-51ac-4eaa-ff39-143397024544"
   },
   "outputs": [
    {
     "name": "stdout",
     "output_type": "stream",
     "text": [
      "Best: 0.7110092639923096 using {'batch_size': 20, 'epochs': 200}\n",
      "Means: 0.6315508127212525, Stdev: 0.03260988444862231 with: {'batch_size': 20, 'epochs': 20}\n",
      "Means: 0.6810457587242127, Stdev: 0.03757470277183249 with: {'batch_size': 20, 'epochs': 40}\n",
      "Means: 0.6797470569610595, Stdev: 0.030080889566468257 with: {'batch_size': 20, 'epochs': 60}\n",
      "Means: 0.7110092639923096, Stdev: 0.055126734664131816 with: {'batch_size': 20, 'epochs': 200}\n"
     ]
    }
   ],
   "source": [
    "# define the grid search parameters\n",
    "param_grid = {'batch_size': [20],\n",
    "              'epochs': [20, 40, 60,200]}\n",
    "\n",
    "# Create Grid Search\n",
    "grid = GridSearchCV(estimator=model, param_grid=param_grid, n_jobs=1)\n",
    "grid_result = grid.fit(X, Y)\n",
    "\n",
    "# Report Results\n",
    "print(f\"Best: {grid_result.best_score_} using {grid_result.best_params_}\")\n",
    "means = grid_result.cv_results_['mean_test_score']\n",
    "stds = grid_result.cv_results_['std_test_score']\n",
    "params = grid_result.cv_results_['params']\n",
    "for mean, stdev, param in zip(means, stds, params):\n",
    "    print(f\"Means: {mean}, Stdev: {stdev} with: {param}\")"
   ]
  },
  {
   "cell_type": "markdown",
   "metadata": {
    "colab_type": "text",
    "id": "EKcuY6OiaLfz"
   },
   "source": [
    "## Optimizer\n",
    "\n",
    "Remember that there's a different optimizers [optimizers](https://keras.io/optimizers/). At some point, take some time to read up on them a little bit. \"adam\" usually gives the best results. The thing to know about choosing an optimizer is that different optimizers have different hyperparameters like learning rate, momentum, etc. So based on the optimizer you choose you might also have to tune the learning rate and momentum of those optimizers after that. "
   ]
  },
  {
   "cell_type": "markdown",
   "metadata": {
    "colab_type": "text",
    "id": "DG3wq5iOaLig"
   },
   "source": [
    "## Learning Rate\n",
    "\n",
    "Remember that the Learning Rate is a hyperparameter that is specific to your gradient-descent based optimizer selection. A learning rate that is too high will cause divergent behavior, but a Learning Rate that is too low will fail to converge, again, you're looking for the sweet spot. I would start out tuning learning rates by orders of magnitude: [.001, .01, .1, .2, .3, .5] etc. I wouldn't go above .5, but you can try it and see what the behavior is like. \n",
    "\n",
    "Once you have narrowed it down, make the window even smaller and try it again. If after running the above specification your model reports that .1 is the best optimizer, then you should probably try things like [.05, .08, .1, .12, .15] to try and narrow it down. \n",
    "\n",
    "It can also be good to tune the number of epochs in combination with the learning rate since the number of iterations that you allow the learning rate to reach the minimum can determine if you have let it run long enough to converge to the minimum. "
   ]
  },
  {
   "cell_type": "markdown",
   "metadata": {
    "colab_type": "text",
    "id": "gNTBUWd1aLlA"
   },
   "source": [
    "## Momentum\n",
    "\n",
    "Momentum is a hyperparameter that is more commonly associated with Stochastic Gradient Descent. SGD is a common optimizer because it's what people understand and know, but I doubt it will get you the best results, you can try hyperparameter tuning its attributes and see if you can beat the performance from adam. Momentum is a property that decides the willingness of an optimizer to overshoot the minimum. Imagine a ball rolling down one side of a bowl and then up the opposite side a little bit before settling back to the bottom. The purpose of momentum is to try and escale local minima."
   ]
  },
  {
   "cell_type": "markdown",
   "metadata": {
    "colab_type": "text",
    "id": "xnEG-bCJaLnZ"
   },
   "source": [
    "## Activation Functions\n",
    "\n",
    "We've talked about this a little bit, typically you'l want to use ReLU for hidden layers and either Sigmoid, or Softmax for output layers of binary and multi-class classification implementations respectively, but try other activation functions and see if you can get any better results with sigmoid or tanh or something. There are a lot of activation functions that we haven't really talked about. Maybe you'll get good results with them. Maybe you won't. :) <https://keras.io/activations/>"
   ]
  },
  {
   "cell_type": "markdown",
   "metadata": {
    "colab_type": "text",
    "id": "oul9sPq-dU-h"
   },
   "source": [
    "## Network Weight Initialization\n",
    "\n",
    "You saw how big of an effect the way that we initialize our network's weights can have on our results. There are **a lot** of what are called initialization modes. I don't understand all of them, but they can have a big affect on your model's initial accuracy. Your model will get further with less epochs if you initialize it with weights that are well suited to the problem you're trying to solve.\n",
    "\n",
    "`init_mode = ['uniform', 'lecun_uniform', 'normal', 'zero', 'glorot_normal', 'glorot_uniform', 'he_normal', 'he_uniform']`"
   ]
  },
  {
   "cell_type": "markdown",
   "metadata": {
    "colab_type": "text",
    "id": "bqtEuxeQaLqE"
   },
   "source": [
    "## Dropout Regularization and the Weight Constraint\n",
    "\n",
    "the Dropout Regularization value is a percentage of neurons that you want to be randomly deactivated during training. The weight constraint is a second regularization parameter that works in tandem with dropout regularization. You should tune these two values at the same time. \n",
    "\n",
    "Using dropout on visible vs hidden layers might have a different effect. Using dropout on hidden layers might not have any effect while using dropout on hidden layers might have a substantial effect. You don't necessarily need to turn use dropout unless you see that your model has overfitting and generalizability problems."
   ]
  },
  {
   "cell_type": "markdown",
   "metadata": {
    "colab_type": "text",
    "id": "P2c5Cv6oaLtO"
   },
   "source": [
    "## Neurons in Hidden Layer \n",
    "\n",
    "Remember that when we only had a single perceptron our model was only able to fit to linearly separable data, but as we have added layers and nodes to those layers our network has become a powerhouse of fitting nonlinearity in data. The larger the network and the more nodes generally the stronger the network's capacity to fit nonlinear patterns in data. The more nodes and layers the longer it will take to train a network, and higher the probability of overfitting. The larger your network gets the more you'll need dropout regularization or other regularization techniques to keep it in check. \n",
    "\n",
    "Typically depth (more layers) is more important than width (more nodes) for neural networks. This is part of why Deep Learning is so highly touted. Certain deep learning architectures have truly been huge breakthroughs for certain machine learning tasks. \n",
    "\n",
    "You might borrow ideas from other network architectures. For example if I was doing image recognition and I wasn't taking cues from state of the art architectures like resnet, alexnet, googlenet, etc. Then I'm probably going to have to do a lot more experimentation on my own before I find something that works.\n",
    "\n",
    "There are some heuristics, but I am highly skeptical of them. I think you're better off experimenting on your own and forming your own intuition for these kinds of problems. \n",
    "\n",
    "- https://machinelearningmastery.com/how-to-configure-the-number-of-layers-and-nodes-in-a-neural-network/"
   ]
  },
  {
   "cell_type": "markdown",
   "metadata": {},
   "source": [
    "## Challenge\n",
    "You will be expected to tune several hyperparameters in today's module project. "
   ]
  },
  {
   "cell_type": "markdown",
   "metadata": {},
   "source": [
    "# Experiment Tracking Framework (Learn)\n",
    "<a id=\"p2\"></a>"
   ]
  },
  {
   "cell_type": "markdown",
   "metadata": {},
   "source": [
    "## Overview\n",
    "\n",
    "You will notice quickly that managing the results of all the experiments you are running becomes challenging. Which set of parameters did the best? Are my results today different than my results yesterday? Although we use Ipython Notebooks to work, the format is not well suited to logging experimental results. Enter experiment tracking frameworks like [Comet.ml](https://comet.ml) and [Weights and Biases](https://wandb.ai/).\n",
    "\n",
    "Those tools will help you track your experiments, store the results, and the code associated with those experiments. Experimental results can also be readily visualized to see changes in performance across any metric you care about. Data is sent to the tool as each epoch is completed, so you can also see if your model is converging. Let's check out Weights & Biases today. "
   ]
  },
  {
   "cell_type": "markdown",
   "metadata": {},
   "source": [
    "## Follow Along\n",
    "\n",
    "Make sure you login into `wandb` in the terminal before running the next cell. "
   ]
  },
  {
   "cell_type": "code",
   "execution_count": 8,
   "metadata": {},
   "outputs": [],
   "source": [
    "import wandb\n",
    "from wandb.keras import WandbCallback"
   ]
  },
  {
   "cell_type": "code",
   "execution_count": 9,
   "metadata": {
    "colab": {
     "base_uri": "https://localhost:8080/",
     "height": 1750
    },
    "colab_type": "code",
    "id": "GMXVfmzXp1Oo",
    "outputId": "b05e251e-508f-46e6-865b-f869ae2a5dc4"
   },
   "outputs": [
    {
     "name": "stderr",
     "output_type": "stream",
     "text": [
      "wandb: ERROR Not authenticated.  Copy a key from https://app.wandb.ai/authorize\n"
     ]
    },
    {
     "name": "stdin",
     "output_type": "stream",
     "text": [
      "API Key:  ········································\n"
     ]
    },
    {
     "name": "stderr",
     "output_type": "stream",
     "text": [
      "wandb: Appending key for api.wandb.ai to your netrc file: C:\\Users\\dylan/.netrc\n"
     ]
    },
    {
     "data": {
      "text/html": [
       "\n",
       "                Logging results to <a href=\"https://wandb.com\" target=\"_blank\">Weights & Biases</a> <a href=\"https://docs.wandb.com/integrations/jupyter.html\" target=\"_blank\">(Documentation)</a>.<br/>\n",
       "                Project page: <a href=\"https://app.wandb.ai/lambda-ds7/boston\" target=\"_blank\">https://app.wandb.ai/lambda-ds7/boston</a><br/>\n",
       "                Run page: <a href=\"https://app.wandb.ai/lambda-ds7/boston/runs/omjjlg6l\" target=\"_blank\">https://app.wandb.ai/lambda-ds7/boston/runs/omjjlg6l</a><br/>\n",
       "            "
      ],
      "text/plain": [
       "<IPython.core.display.HTML object>"
      ]
     },
     "metadata": {},
     "output_type": "display_data"
    },
    {
     "name": "stdout",
     "output_type": "stream",
     "text": [
      "Train on 270 samples, validate on 134 samples\n",
      "Epoch 1/50\n",
      "270/270 [==============================] - 1s 3ms/sample - loss: 497.4602 - mse: 497.4601 - mae: 20.4472 - val_loss: 487.0721 - val_mse: 487.0721 - val_mae: 19.6643\n",
      "Epoch 2/50\n",
      "270/270 [==============================] - 0s 450us/sample - loss: 241.8103 - mse: 241.8103 - mae: 12.8978 - val_loss: 130.1979 - val_mse: 130.1979 - val_mae: 8.5996\n",
      "Epoch 3/50\n",
      "270/270 [==============================] - 0s 341us/sample - loss: 70.3606 - mse: 70.3606 - mae: 6.0239 - val_loss: 69.9884 - val_mse: 69.9884 - val_mae: 5.9542\n",
      "Epoch 4/50\n",
      "270/270 [==============================] - 0s 360us/sample - loss: 32.3231 - mse: 32.3231 - mae: 4.0425 - val_loss: 40.9746 - val_mse: 40.9746 - val_mae: 4.2716\n",
      "Epoch 5/50\n",
      "270/270 [==============================] - 0s 354us/sample - loss: 22.1177 - mse: 22.1177 - mae: 3.4000 - val_loss: 33.7252 - val_mse: 33.7252 - val_mae: 3.6896\n",
      "Epoch 6/50\n",
      "270/270 [==============================] - 0s 358us/sample - loss: 18.0847 - mse: 18.0847 - mae: 2.9902 - val_loss: 28.8280 - val_mse: 28.8280 - val_mae: 3.4667\n",
      "Epoch 7/50\n",
      "270/270 [==============================] - 0s 379us/sample - loss: 15.6052 - mse: 15.6052 - mae: 2.8136 - val_loss: 25.3167 - val_mse: 25.3167 - val_mae: 3.3166\n",
      "Epoch 8/50\n",
      "270/270 [==============================] - 0s 370us/sample - loss: 14.3842 - mse: 14.3842 - mae: 2.7163 - val_loss: 24.1151 - val_mse: 24.1151 - val_mae: 3.3243\n",
      "Epoch 9/50\n",
      "270/270 [==============================] - 0s 401us/sample - loss: 13.0730 - mse: 13.0730 - mae: 2.5770 - val_loss: 21.8467 - val_mse: 21.8467 - val_mae: 3.1278\n",
      "Epoch 10/50\n",
      "270/270 [==============================] - 0s 291us/sample - loss: 12.0784 - mse: 12.0784 - mae: 2.5499 - val_loss: 22.4376 - val_mse: 22.4376 - val_mae: 3.0754\n",
      "Epoch 11/50\n",
      "270/270 [==============================] - 0s 685us/sample - loss: 10.8180 - mse: 10.8180 - mae: 2.3366 - val_loss: 20.0038 - val_mse: 20.0038 - val_mae: 2.9319\n",
      "Epoch 12/50\n",
      "270/270 [==============================] - 0s 504us/sample - loss: 10.0688 - mse: 10.0688 - mae: 2.3476 - val_loss: 18.7184 - val_mse: 18.7184 - val_mae: 2.8589\n",
      "Epoch 13/50\n",
      "270/270 [==============================] - 0s 393us/sample - loss: 9.6005 - mse: 9.6005 - mae: 2.2659 - val_loss: 19.1303 - val_mse: 19.1303 - val_mae: 2.9314\n",
      "Epoch 14/50\n",
      "270/270 [==============================] - 0s 400us/sample - loss: 9.0055 - mse: 9.0055 - mae: 2.1855 - val_loss: 18.2156 - val_mse: 18.2156 - val_mae: 2.8230\n",
      "Epoch 15/50\n",
      "270/270 [==============================] - 0s 367us/sample - loss: 8.7344 - mse: 8.7344 - mae: 2.2046 - val_loss: 17.3841 - val_mse: 17.3841 - val_mae: 2.7751\n",
      "Epoch 16/50\n",
      "270/270 [==============================] - 0s 348us/sample - loss: 8.4589 - mse: 8.4589 - mae: 2.1575 - val_loss: 17.3587 - val_mse: 17.3587 - val_mae: 2.7665\n",
      "Epoch 17/50\n",
      "270/270 [==============================] - 0s 356us/sample - loss: 7.7988 - mse: 7.7988 - mae: 2.0247 - val_loss: 16.5562 - val_mse: 16.5562 - val_mae: 2.7318\n",
      "Epoch 18/50\n",
      "270/270 [==============================] - 0s 230us/sample - loss: 7.8235 - mse: 7.8235 - mae: 2.0618 - val_loss: 16.6231 - val_mse: 16.6231 - val_mae: 2.7288\n",
      "Epoch 19/50\n",
      "270/270 [==============================] - 0s 267us/sample - loss: 7.3982 - mse: 7.3982 - mae: 2.0321 - val_loss: 16.8338 - val_mse: 16.8338 - val_mae: 2.7616\n",
      "Epoch 20/50\n",
      "270/270 [==============================] - 0s 367us/sample - loss: 7.1294 - mse: 7.1294 - mae: 1.9499 - val_loss: 16.4422 - val_mse: 16.4422 - val_mae: 2.7226\n",
      "Epoch 21/50\n",
      "270/270 [==============================] - 0s 400us/sample - loss: 7.2728 - mse: 7.2728 - mae: 1.9622 - val_loss: 16.0603 - val_mse: 16.0603 - val_mae: 2.6857\n",
      "Epoch 22/50\n",
      "270/270 [==============================] - 0s 381us/sample - loss: 7.0448 - mse: 7.0448 - mae: 1.9544 - val_loss: 15.5995 - val_mse: 15.5995 - val_mae: 2.6190\n",
      "Epoch 23/50\n",
      "270/270 [==============================] - 0s 419us/sample - loss: 6.8751 - mse: 6.8751 - mae: 1.9358 - val_loss: 15.5665 - val_mse: 15.5665 - val_mae: 2.6463\n",
      "Epoch 24/50\n",
      "270/270 [==============================] - 0s 393us/sample - loss: 6.4780 - mse: 6.4780 - mae: 1.8987 - val_loss: 15.5413 - val_mse: 15.5413 - val_mae: 2.6312\n",
      "Epoch 25/50\n",
      "270/270 [==============================] - 0s 400us/sample - loss: 6.2271 - mse: 6.2271 - mae: 1.8346 - val_loss: 15.3083 - val_mse: 15.3083 - val_mae: 2.5833\n",
      "Epoch 26/50\n",
      "270/270 [==============================] - 0s 393us/sample - loss: 6.1794 - mse: 6.1794 - mae: 1.8433 - val_loss: 15.4447 - val_mse: 15.4447 - val_mae: 2.6174\n",
      "Epoch 27/50\n",
      "270/270 [==============================] - 0s 333us/sample - loss: 5.8716 - mse: 5.8716 - mae: 1.7857 - val_loss: 15.5975 - val_mse: 15.5975 - val_mae: 2.6337\n",
      "Epoch 28/50\n",
      "270/270 [==============================] - 0s 322us/sample - loss: 5.6593 - mse: 5.6593 - mae: 1.7398 - val_loss: 15.3668 - val_mse: 15.3668 - val_mae: 2.6088\n",
      "Epoch 29/50\n",
      "270/270 [==============================] - 0s 433us/sample - loss: 5.4996 - mse: 5.4996 - mae: 1.7288 - val_loss: 14.9277 - val_mse: 14.9277 - val_mae: 2.5519\n",
      "Epoch 30/50\n",
      "270/270 [==============================] - 0s 241us/sample - loss: 5.4775 - mse: 5.4775 - mae: 1.7398 - val_loss: 15.2106 - val_mse: 15.2106 - val_mae: 2.6224\n",
      "Epoch 31/50\n",
      "270/270 [==============================] - 0s 241us/sample - loss: 5.3648 - mse: 5.3648 - mae: 1.6902 - val_loss: 15.3627 - val_mse: 15.3627 - val_mae: 2.6183\n",
      "Epoch 32/50\n",
      "270/270 [==============================] - 0s 222us/sample - loss: 5.2574 - mse: 5.2574 - mae: 1.6917 - val_loss: 15.2822 - val_mse: 15.2822 - val_mae: 2.6032\n",
      "Epoch 33/50\n",
      "270/270 [==============================] - 0s 267us/sample - loss: 5.1731 - mse: 5.1731 - mae: 1.6928 - val_loss: 15.1216 - val_mse: 15.1216 - val_mae: 2.5810\n",
      "Epoch 34/50\n",
      "270/270 [==============================] - 0s 293us/sample - loss: 5.3405 - mse: 5.3405 - mae: 1.7183 - val_loss: 15.4217 - val_mse: 15.4217 - val_mae: 2.6179\n",
      "Epoch 35/50\n",
      "270/270 [==============================] - 0s 348us/sample - loss: 4.7843 - mse: 4.7843 - mae: 1.6137 - val_loss: 14.9215 - val_mse: 14.9215 - val_mae: 2.5581\n",
      "Epoch 36/50\n",
      "270/270 [==============================] - 0s 226us/sample - loss: 4.8130 - mse: 4.8130 - mae: 1.6637 - val_loss: 15.4531 - val_mse: 15.4531 - val_mae: 2.6464\n",
      "Epoch 37/50\n",
      "270/270 [==============================] - 0s 215us/sample - loss: 5.0687 - mse: 5.0687 - mae: 1.6986 - val_loss: 15.1843 - val_mse: 15.1843 - val_mae: 2.5829\n",
      "Epoch 38/50\n",
      "270/270 [==============================] - 0s 293us/sample - loss: 4.6484 - mse: 4.6484 - mae: 1.5797 - val_loss: 14.8381 - val_mse: 14.8381 - val_mae: 2.5342\n",
      "Epoch 39/50\n",
      "270/270 [==============================] - 0s 237us/sample - loss: 4.5749 - mse: 4.5749 - mae: 1.5782 - val_loss: 15.3553 - val_mse: 15.3553 - val_mae: 2.6104\n",
      "Epoch 40/50\n",
      "270/270 [==============================] - 0s 356us/sample - loss: 4.7285 - mse: 4.7285 - mae: 1.6363 - val_loss: 15.0948 - val_mse: 15.0948 - val_mae: 2.6001\n",
      "Epoch 41/50\n",
      "270/270 [==============================] - 0s 241us/sample - loss: 4.1272 - mse: 4.1272 - mae: 1.5059 - val_loss: 15.0459 - val_mse: 15.0459 - val_mae: 2.5659\n",
      "Epoch 42/50\n",
      "270/270 [==============================] - 0s 315us/sample - loss: 4.2764 - mse: 4.2764 - mae: 1.5450 - val_loss: 14.3775 - val_mse: 14.3775 - val_mae: 2.4936\n",
      "Epoch 43/50\n",
      "270/270 [==============================] - 0s 293us/sample - loss: 3.9798 - mse: 3.9798 - mae: 1.5065 - val_loss: 14.8734 - val_mse: 14.8734 - val_mae: 2.5631\n",
      "Epoch 44/50\n",
      "270/270 [==============================] - 0s 248us/sample - loss: 4.1573 - mse: 4.1573 - mae: 1.5343 - val_loss: 14.7036 - val_mse: 14.7036 - val_mae: 2.5342\n",
      "Epoch 45/50\n",
      "270/270 [==============================] - 0s 326us/sample - loss: 4.4996 - mse: 4.4996 - mae: 1.5766 - val_loss: 15.2827 - val_mse: 15.2827 - val_mae: 2.6388\n",
      "Epoch 46/50\n",
      "270/270 [==============================] - 0s 252us/sample - loss: 4.4517 - mse: 4.4517 - mae: 1.5820 - val_loss: 14.9738 - val_mse: 14.9738 - val_mae: 2.5931\n",
      "Epoch 47/50\n",
      "270/270 [==============================] - 0s 341us/sample - loss: 3.9006 - mse: 3.9006 - mae: 1.4795 - val_loss: 14.8107 - val_mse: 14.8107 - val_mae: 2.5413\n",
      "Epoch 48/50\n",
      "270/270 [==============================] - 0s 219us/sample - loss: 4.0402 - mse: 4.0402 - mae: 1.5145 - val_loss: 15.3612 - val_mse: 15.3612 - val_mae: 2.6034\n",
      "Epoch 49/50\n",
      "270/270 [==============================] - 0s 226us/sample - loss: 3.6662 - mse: 3.6662 - mae: 1.4471 - val_loss: 14.4810 - val_mse: 14.4810 - val_mae: 2.5095\n",
      "Epoch 50/50\n",
      "270/270 [==============================] - 0s 244us/sample - loss: 3.7150 - mse: 3.7150 - mae: 1.4549 - val_loss: 14.7753 - val_mse: 14.7753 - val_mae: 2.5391\n"
     ]
    },
    {
     "data": {
      "text/plain": [
       "<tensorflow.python.keras.callbacks.History at 0x1a1c96342c8>"
      ]
     },
     "execution_count": 9,
     "metadata": {},
     "output_type": "execute_result"
    }
   ],
   "source": [
    "wandb.init(project=\"boston\", entity=\"lambda-ds7\") #Initializes and Experiment\n",
    "\n",
    "# Important Hyperparameters\n",
    "X =  x_train\n",
    "y =  y_train\n",
    "\n",
    "inputs = X.shape[1]\n",
    "wandb.config.epochs = 50\n",
    "wandb.config.batch_size = 10\n",
    "\n",
    "# Create Model\n",
    "model = Sequential()\n",
    "model.add(Dense(64, activation='relu', input_shape=(inputs,)))\n",
    "model.add(Dense(64, activation='relu'))\n",
    "model.add(Dense(64, activation='relu'))\n",
    "model.add(Dense(1))\n",
    "# Compile Model\n",
    "model.compile(optimizer='adam', loss='mse', metrics=['mse', 'mae'])\n",
    "\n",
    "# Fit Model\n",
    "model.fit(X, y, \n",
    "          validation_split=0.33, \n",
    "          epochs=wandb.config.epochs, \n",
    "          batch_size=wandb.config.batch_size, \n",
    "          callbacks=[WandbCallback()]\n",
    "         )"
   ]
  },
  {
   "cell_type": "markdown",
   "metadata": {},
   "source": [
    "## Challenge\n",
    "\n",
    "You will be expected to use Weights & Biases to try to tune your model during your module assignment today. "
   ]
  },
  {
   "cell_type": "markdown",
   "metadata": {},
   "source": [
    "# Hyperparameters with RandomSearchCV (Learn)"
   ]
  },
  {
   "cell_type": "markdown",
   "metadata": {},
   "source": [
    "## Overview\n",
    "\n",
    "Basically `GridSearchCV` takes forever. You'll want to adopt a slightly more sophiscated strategy."
   ]
  },
  {
   "cell_type": "markdown",
   "metadata": {},
   "source": [
    "## Follow Along"
   ]
  },
  {
   "cell_type": "code",
   "execution_count": 10,
   "metadata": {},
   "outputs": [],
   "source": [
    "sweep_config = {\n",
    "    'method': 'random',\n",
    "    'parameters': {\n",
    "        'learning_rate': {'distribution': 'normal'},\n",
    "        'epochs': {'distribution': 'uniform',\n",
    "                    'min': 100,\n",
    "                    'max': 1000},\n",
    "        'batch_size': {'distribution': 'uniform',\n",
    "            'min': 10,\n",
    "            'max': 400}\n",
    "    }\n",
    "}"
   ]
  },
  {
   "cell_type": "code",
   "execution_count": 11,
   "metadata": {},
   "outputs": [
    {
     "name": "stdout",
     "output_type": "stream",
     "text": [
      "Create sweep with ID: 58gwkoqy\n",
      "Sweep URL: https://app.wandb.ai/lambda-ds7/boston/sweeps/58gwkoqy\n"
     ]
    }
   ],
   "source": [
    "sweep_id = wandb.sweep(sweep_config)"
   ]
  },
  {
   "cell_type": "code",
   "execution_count": 18,
   "metadata": {},
   "outputs": [],
   "source": [
    "import wandb\n",
    "from wandb.keras import WandbCallback\n",
    "#Initializes and Experiment\n",
    "\n",
    "from tensorflow.keras.optimizers import Adam\n",
    "\n",
    "# Important Hyperparameters\n",
    "X =  x_train\n",
    "y =  y_train\n",
    "\n",
    "inputs = X.shape[1]\n",
    "\n",
    "def train():\n",
    "    \n",
    "    wandb.init(project=\"boston\", entity=\"lambda-ds7\") \n",
    "    \n",
    "    config = wandb.config\n",
    "\n",
    "    # Create Model\n",
    "    model = Sequential()\n",
    "    model.add(Dense(64, activation='relu', input_shape=(inputs,)))\n",
    "    model.add(Dense(32, activation='relu'))\n",
    "    model.add(Dense(1))\n",
    "\n",
    "    # Optimizer \n",
    "    adam = Adam(learning_rate=config.learning_rate)\n",
    "\n",
    "    # Compile Model\n",
    "    model.compile(optimizer=adam, loss='mse', metrics=['mse', 'mae'])\n",
    "\n",
    "    # Fit Model\n",
    "    model.fit(X, y, \n",
    "              validation_split=0.33, \n",
    "              epochs=config.epochs, \n",
    "              batch_size=config.batch_size, \n",
    "              callbacks=[WandbCallback()]\n",
    "             )"
   ]
  },
  {
   "cell_type": "code",
   "execution_count": 19,
   "metadata": {},
   "outputs": [
    {
     "name": "stdout",
     "output_type": "stream",
     "text": [
      "wandb: Agent Starting Run: 6hzq5hiy with config:\n",
      "\tbatch_size: 237.5794787221449\n",
      "\tepochs: 336.86932018359425\n",
      "\tlearning_rate: -0.8633034953410278\n"
     ]
    },
    {
     "name": "stderr",
     "output_type": "stream",
     "text": [
      "wandb: Ctrl-c pressed. Waiting for runs to end. Press ctrl-c again to terminate them.\n"
     ]
    }
   ],
   "source": [
    "wandb.agent(sweep_id, function=train)"
   ]
  },
  {
   "cell_type": "markdown",
   "metadata": {},
   "source": [
    "## Challenge\n",
    "\n",
    "Try to apply RandomSearchCV to your module project today. "
   ]
  },
  {
   "cell_type": "markdown",
   "metadata": {},
   "source": [
    "# Review\n",
    "* <a href=\"#p1\">Part 1</a>: Describe the major hyperparemeters to tune\n",
    "    - Activation Functions\n",
    "    - Optimizer\n",
    "    - Number of Layers\n",
    "    - Number of Neurons\n",
    "    - Batch Size\n",
    "    - Dropout Regulaization\n",
    "    - Learning Rate\n",
    "    - Number of Epochs\n",
    "    - and many more\n",
    "* <a href=\"#p2\">Part 2</a>: Implement an experiment tracking framework\n",
    "    - Weights & Biases\n",
    "    - Comet.ml\n",
    "    - By Hand / GridSearch\n",
    "* <a href=\"#p3\">Part 3</a>: Search the hyperparameter space using RandomSearch\n",
    "    - Sklearn still useful (haha)\n",
    "    - Integration with Wieghts & Biases\n",
    "* <a href=\"#p4\">Part 4</a>: Discuss emerging hyperparameter tuning strategies\n",
    "    - Bayesian Optimization\n",
    "    - Hyperopt\n",
    "    - Genetic Evolution"
   ]
  },
  {
   "cell_type": "markdown",
   "metadata": {},
   "source": [
    "# Sources"
   ]
  },
  {
   "cell_type": "markdown",
   "metadata": {},
   "source": [
    "## Additional Reading\n",
    "- https://machinelearningmastery.com/grid-search-hyperparameters-deep-learning-models-python-keras/\n",
    "- https://blog.floydhub.com/guide-to-hyperparameters-search-for-deep-learning-models/\n",
    "- https://machinelearningmastery.com/dropout-regularization-deep-learning-models-keras/\n",
    "- https://machinelearningmastery.com/introduction-to-weight-constraints-to-reduce-generalization-error-in-deep-learning/\n",
    "- https://machinelearningmastery.com/how-to-configure-the-number-of-layers-and-nodes-in-a-neural-network/"
   ]
  }
 ],
 "metadata": {
  "kernelspec": {
   "display_name": "Python 3",
   "language": "python",
   "name": "python3"
  },
  "language_info": {
   "codemirror_mode": {
    "name": "ipython",
    "version": 3
   },
   "file_extension": ".py",
   "mimetype": "text/x-python",
   "name": "python",
   "nbconvert_exporter": "python",
   "pygments_lexer": "ipython3",
   "version": "3.7.4"
  }
 },
 "nbformat": 4,
 "nbformat_minor": 4
}
